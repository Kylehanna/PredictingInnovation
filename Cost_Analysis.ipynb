{
 "cells": [
  {
   "cell_type": "markdown",
   "id": "e76e8aef",
   "metadata": {},
   "source": [
    "## Polsky Center Cost Analysis \n",
    "\n",
    "The goal of this notebook is to determine an average cost for patenting an invention, the average assocaited revenue for a licensed invention, and to develop metrics related to net benefits steming from optimized models "
   ]
  },
  {
   "cell_type": "markdown",
   "id": "ede856a5",
   "metadata": {},
   "source": [
    "### 1. Load packages and datasets "
   ]
  },
  {
   "cell_type": "code",
   "execution_count": 137,
   "id": "f77af7e0",
   "metadata": {},
   "outputs": [],
   "source": [
    "import numpy as np\n",
    "import pandas as pd\n",
    "import matplotlib.pyplot as plt\n",
    "import seaborn as sns\n",
    "from pandas.plotting import scatter_matrix\n",
    "import missingno as msno\n",
    "import plotly.graph_objects as go\n",
    "%matplotlib inline\n",
    "\n",
    "\n",
    "import warnings\n",
    "warnings.filterwarnings(\"ignore\")\n",
    "\n",
    "pd.set_option('display.max_rows', None)"
   ]
  },
  {
   "cell_type": "code",
   "execution_count": 138,
   "id": "e78f8cc3",
   "metadata": {},
   "outputs": [
    {
     "name": "stdout",
     "output_type": "stream",
     "text": [
      "Agreement Shape: (3843, 23)\n",
      "Patent Expenses Shape: (59921, 8)\n",
      "Receivables Shape: (578, 22)\n",
      "2012 Patents Shape: (1190, 41)\n"
     ]
    }
   ],
   "source": [
    "# Agreement Dataset \n",
    "df_ag_full = pd.DataFrame(pd.read_csv(\"Agreement_cleaned.csv\"))\n",
    "print(\"Agreement Shape:\", df_ag_full.shape)\n",
    "\n",
    "# Technology Dataset \n",
    "df_exp = pd.DataFrame(pd.read_csv(\"patentExpenses.csv\"))\n",
    "print(\"Patent Expenses Shape:\", df_exp.shape)\n",
    "\n",
    "# Current Receivables Dataset \n",
    "df_fin = pd.DataFrame(pd.read_csv(\"Current_Receivables.csv\"))\n",
    "print(\"Receivables Shape:\", df_fin.shape)\n",
    "\n",
    "# Incorporate 2012 Patents dataset for cost comparisions \n",
    "pat_2012 = pd.DataFrame(pd.read_csv(\"patent_dataset_2012.csv\"))\n",
    "print(\"2012 Patents Shape:\", pat_2012.shape)"
   ]
  },
  {
   "cell_type": "code",
   "execution_count": 139,
   "id": "027d6395",
   "metadata": {},
   "outputs": [
    {
     "name": "stdout",
     "output_type": "stream",
     "text": [
      "<class 'pandas.core.frame.DataFrame'>\n",
      "RangeIndex: 1190 entries, 0 to 1189\n",
      "Data columns (total 41 columns):\n",
      " #   Column                                            Non-Null Count  Dtype  \n",
      "---  ------                                            --------------  -----  \n",
      " 0   Unnamed: 0                                        1190 non-null   int64  \n",
      " 1   Disclosure_Date                                   1190 non-null   object \n",
      " 2   Country_WIPO_ID                                   1190 non-null   object \n",
      " 3   Tech_ID                                           1190 non-null   object \n",
      " 4   Actually_File_Date                                1190 non-null   object \n",
      " 5   Is_Priority                                       1190 non-null   object \n",
      " 6   Lawfirm                                           1190 non-null   object \n",
      " 7   Attorney                                          1190 non-null   object \n",
      " 8   Number_of_Inventors                               1190 non-null   float64\n",
      " 9   Application_Type                                  1190 non-null   object \n",
      " 10  Lead_Inventor                                     1190 non-null   object \n",
      " 11  Division_Department                               1190 non-null   object \n",
      " 12  Primary_Division                                  1190 non-null   object \n",
      " 13  Owners                                            1190 non-null   object \n",
      " 14  Ability_of_investigator_to_continue_research      1189 non-null   object \n",
      " 15  Ability_to_advance_the_project_outside_the_lab    1188 non-null   object \n",
      " 16  Compelling_nature_of_data                         1188 non-null   object \n",
      " 17  Detectability_of_infringement_and_enforceability  1188 non-null   object \n",
      " 18  Development_and_regulatory_path_for_the_product   1188 non-null   object \n",
      " 19  Freedom-to-operate_FTO_issues                     1188 non-null   object \n",
      " 20  Historical_cooperation_or_not_of_investigator     1188 non-null   object \n",
      " 21  Identity_of_the_eventual_product                  1188 non-null   object \n",
      " 22  Impact_of_patent_on_adoption_of_technology        1188 non-null   object \n",
      " 23  Industrial_startup_co-ownership_of_the_IP         1188 non-null   object \n",
      " 24  Institution                                       1190 non-null   object \n",
      " 25  Licensing_interest_by_a_specific_company          1189 non-null   object \n",
      " 26  Market_feedback                                   1188 non-null   object \n",
      " 27  Nature_of_improvement_over_existing_art           1188 non-null   object \n",
      " 28  Patentability_questions                           1189 non-null   object \n",
      " 29  Risk_cost_sharing_w_other_institution             1188 non-null   object \n",
      " 30  Size_of_Market                                    1188 non-null   object \n",
      " 31  Stage_of_research                                 1188 non-null   object \n",
      " 32  topic1                                            1190 non-null   float64\n",
      " 33  topic2                                            1190 non-null   float64\n",
      " 34  topic3                                            1190 non-null   float64\n",
      " 35  lda_topic                                         1190 non-null   float64\n",
      " 36  Patents_in_Division                               1190 non-null   int64  \n",
      " 37  Successful Patents_in_Division                    1190 non-null   int64  \n",
      " 38  Division_Patent_Success_Rate                      1190 non-null   float64\n",
      " 39  Patents_in_Tech                                   1190 non-null   int64  \n",
      " 40  Disclosure_to_Filing                              1190 non-null   float64\n",
      "dtypes: float64(7), int64(4), object(30)\n",
      "memory usage: 381.3+ KB\n"
     ]
    }
   ],
   "source": [
    "pat_2012.info()"
   ]
  },
  {
   "cell_type": "markdown",
   "id": "423475af",
   "metadata": {},
   "source": [
    "### 2. Data Cleaning "
   ]
  },
  {
   "cell_type": "markdown",
   "id": "7ad007cd",
   "metadata": {},
   "source": [
    "#### 2.1 Agreements Dataset"
   ]
  },
  {
   "cell_type": "code",
   "execution_count": 140,
   "id": "e3825160",
   "metadata": {},
   "outputs": [],
   "source": [
    "# Include copies of Agreement dataset to be used for merge analysis\n",
    "df_ag_check = df_ag_full[['Agreement_ID', 'Status']].copy()\n",
    "df_ag = df_ag_full.copy()"
   ]
  },
  {
   "cell_type": "code",
   "execution_count": 141,
   "id": "1112e936",
   "metadata": {},
   "outputs": [
    {
     "data": {
      "text/plain": [
       "Unnamed: 0               3843\n",
       "Agreement_ID             3843\n",
       "Parties                  2036\n",
       "Agreement_Type             43\n",
       "Manager                    13\n",
       "Responsible_Manager         6\n",
       "Title                    3559\n",
       "Number_of_Parties          11\n",
       "In_or_Out                   2\n",
       "Reference_Number         1821\n",
       "Status                     10\n",
       "Status_Date              1235\n",
       "Effective_Date           2094\n",
       "Agreement_Term             27\n",
       "Term_Date                1565\n",
       "Sign_Date                1173\n",
       "Field_Of_Use             1680\n",
       "Equity                      2\n",
       "Reimbursable_Expenses       2\n",
       "Technologies             1032\n",
       "Division_Department       191\n",
       "Investigators             985\n",
       "Last_Related_Update      3343\n",
       "dtype: int64"
      ]
     },
     "execution_count": 141,
     "metadata": {},
     "output_type": "execute_result"
    }
   ],
   "source": [
    "df_ag.nunique()"
   ]
  },
  {
   "cell_type": "code",
   "execution_count": 142,
   "id": "3fa57664",
   "metadata": {},
   "outputs": [
    {
     "data": {
      "text/plain": [
       "(0, 24)"
      ]
     },
     "execution_count": 142,
     "metadata": {},
     "output_type": "execute_result"
    }
   ],
   "source": [
    "#  Remove the S indicators at the end of Agreement_IDs, these are sub-agreements under the same revenue-generating agreement\n",
    "df_ag['Agreement_ID'] = df_ag['Agreement_ID'].str.split('.').str[0]\n",
    "\n",
    "# We will adjust the dataset so we have one unique Tech_ID and Agreement_ID per row \n",
    "df_ag = df_ag.assign(Tech_ID=df_ag['Technologies'].str.split(',')).explode('Tech_ID')\n",
    "\n",
    "# We are *only* looking for Active Agreements \n",
    "df_ag = df_ag.loc[df_ag['Status'] == 'Active'] \n",
    "\n",
    "# Remove any duplicate Agreement_ID/Tech_ID combinations, and confirm we only have unique combos \n",
    "df_ag = df_ag.groupby(['Agreement_ID','Tech_ID'])\n",
    "df_ag = df_ag.first().reset_index()\n",
    "\n",
    "# Confirm there are no duplicates in the dataset \n",
    "duplicates = df_ag[df_ag.duplicated(subset=['Agreement_ID','Tech_ID'], keep=False)]\n",
    "duplicates.shape"
   ]
  },
  {
   "cell_type": "code",
   "execution_count": 143,
   "id": "a4ba3094",
   "metadata": {
    "scrolled": true
   },
   "outputs": [
    {
     "name": "stdout",
     "output_type": "stream",
     "text": [
      "Count of unique techologies with an active licensing agreement: 644\n",
      "Count of unique active licensing agreements: 455\n",
      "Count of unique technology/active license combinations: (937, 24)\n"
     ]
    }
   ],
   "source": [
    "# Review unique Technologies, Agreements, and combinations \n",
    "print(\"Count of unique techologies with an active licensing agreement:\", df_ag['Tech_ID'].nunique())\n",
    "\n",
    "print(\"Count of unique active licensing agreements:\", df_ag['Agreement_ID'].nunique())\n",
    "\n",
    "print(\"Count of unique technology/active license combinations:\", df_ag.shape)"
   ]
  },
  {
   "cell_type": "markdown",
   "id": "716c0e37",
   "metadata": {},
   "source": [
    "#### 2.2 Receivables Dataset"
   ]
  },
  {
   "cell_type": "code",
   "execution_count": 144,
   "id": "8a46bbe6",
   "metadata": {},
   "outputs": [
    {
     "data": {
      "text/plain": [
       "Agreement ID                     117\n",
       "Category                           3\n",
       "Receivable Status                  1\n",
       "Comments                          20\n",
       "Party Name                       104\n",
       "Attn                               4\n",
       "Agreement Manager                  5\n",
       "Agreement Responsible Manager      3\n",
       "Invoice Number                   358\n",
       "Party Balance Remaining          360\n",
       "Party Amount Due                 357\n",
       "Party Paid to Date                18\n",
       "Total Revenue                    102\n",
       "Total Reimbursable Expense       260\n",
       "PO Number                        172\n",
       "Invoice Date                     239\n",
       "Party Last Paid Date              16\n",
       "Due Date                         243\n",
       "Payment Term                       1\n",
       "Last Printed Date                  1\n",
       "Type                               3\n",
       "Archive Date                       1\n",
       "dtype: int64"
      ]
     },
     "execution_count": 144,
     "metadata": {},
     "output_type": "execute_result"
    }
   ],
   "source": [
    "# There are 117 agreements with associated receivables data\n",
    "df_fin.nunique()"
   ]
  },
  {
   "cell_type": "code",
   "execution_count": 145,
   "id": "0fe1bf1b",
   "metadata": {},
   "outputs": [
    {
     "data": {
      "text/plain": [
       "(0, 2)"
      ]
     },
     "execution_count": 145,
     "metadata": {},
     "output_type": "execute_result"
    }
   ],
   "source": [
    "#reanme Agreement_ID prior to merge \n",
    "df_fin = df_fin.rename(columns={'Agreement ID': 'Agreement_ID'})\n",
    "\n",
    "# Select columns of interest \n",
    "df_fin = df_fin[['Agreement_ID', 'Category', 'Party Amount Due']].copy()\n",
    "\n",
    "# We are *only* looking for receivables with a status of \"reimbursement\"\n",
    "df_fin = df_fin.loc[df_fin['Category'] == 'Reimbursement'] \n",
    "\n",
    "# Get total amount due for unique agreements \n",
    "df_fin['party_amount_due'] = df_fin['Party Amount Due'].groupby(df_fin['Agreement_ID']).transform('sum')\n",
    "\n",
    "# Remove any duplicate Agreement_ID/Total Amount combinations, and confirm we only have unique combos \n",
    "df_fin = df_fin.groupby(['Agreement_ID','party_amount_due'])\n",
    "df_fin = df_fin.first().reset_index()\n",
    "\n",
    "# Drop Party Amount Due and Category \n",
    "df_fin.drop('Party Amount Due', axis=1, inplace=True)\n",
    "df_fin.drop('Category', axis=1, inplace=True)\n",
    "\n",
    "# Confirm there are no duplicates in the dataset \n",
    "duplicates = df_fin[df_fin.duplicated(subset=['Agreement_ID'], keep=False)]\n",
    "duplicates.shape"
   ]
  },
  {
   "cell_type": "code",
   "execution_count": 146,
   "id": "64206f07",
   "metadata": {},
   "outputs": [
    {
     "name": "stdout",
     "output_type": "stream",
     "text": [
      "Count of unique active licensing agreements: 81\n"
     ]
    }
   ],
   "source": [
    "print(\"Count of unique active licensing agreements:\", df_fin['Agreement_ID'].nunique())"
   ]
  },
  {
   "cell_type": "markdown",
   "id": "57895526",
   "metadata": {},
   "source": [
    "#### 2.3 Patent Expenses Shape "
   ]
  },
  {
   "cell_type": "code",
   "execution_count": 147,
   "id": "4ca29b7a",
   "metadata": {},
   "outputs": [
    {
     "data": {
      "text/plain": [
       "Tech ID            1243\n",
       "Internal ID        5082\n",
       "Expense Amount    26709\n",
       "Patent Number      1357\n",
       "Serial Number      5013\n",
       "Expense Type         17\n",
       "Srvc Date          1860\n",
       "Country              88\n",
       "dtype: int64"
      ]
     },
     "execution_count": 147,
     "metadata": {},
     "output_type": "execute_result"
    }
   ],
   "source": [
    "# 1243 unique Technologies in the dataset \n",
    "df_exp.nunique()"
   ]
  },
  {
   "cell_type": "code",
   "execution_count": 148,
   "id": "7e36001c",
   "metadata": {},
   "outputs": [],
   "source": [
    "#reanme Agreement_ID prior to merge \n",
    "df_exp = df_exp.rename(columns={'Tech ID': 'Tech_ID'})"
   ]
  },
  {
   "cell_type": "code",
   "execution_count": 149,
   "id": "d0c7bfa0",
   "metadata": {},
   "outputs": [
    {
     "data": {
      "text/plain": [
       "(0, 2)"
      ]
     },
     "execution_count": 149,
     "metadata": {},
     "output_type": "execute_result"
    }
   ],
   "source": [
    "# Get total amount due for unique agreements \n",
    "df_exp['expense_amount'] = df_exp['Expense Amount'].groupby(df_exp['Tech_ID']).transform('sum')\n",
    "\n",
    "# Remove any duplicate Agreement_ID/Total Amount combinations, and confirm we only have unique combos \n",
    "df_exp = df_exp.groupby(['Tech_ID','expense_amount'])\n",
    "df_exp = df_exp.first().reset_index()\n",
    "\n",
    "# Drop Party Amount Due and Category \n",
    "df_exp.drop('Internal ID', axis=1, inplace=True)\n",
    "df_exp.drop('Expense Amount', axis=1, inplace=True)\n",
    "df_exp.drop('Patent Number', axis=1, inplace=True)\n",
    "df_exp.drop('Serial Number', axis=1, inplace=True)\n",
    "df_exp.drop('Expense Type', axis=1, inplace=True)\n",
    "df_exp.drop('Srvc Date', axis=1, inplace=True)\n",
    "df_exp.drop('Country', axis=1, inplace=True)\n",
    "\n",
    "# Confirm there are no duplicates in the dataset \n",
    "duplicates = df_exp[df_exp.duplicated(subset=['Tech_ID'], keep=False)]\n",
    "duplicates.shape"
   ]
  },
  {
   "cell_type": "code",
   "execution_count": 150,
   "id": "8886abe3",
   "metadata": {},
   "outputs": [
    {
     "name": "stdout",
     "output_type": "stream",
     "text": [
      "Count of unique technologies with patent expenses: 1243\n"
     ]
    }
   ],
   "source": [
    "print(\"Count of unique technologies with patent expenses:\", df_exp['Tech_ID'].nunique())"
   ]
  },
  {
   "cell_type": "markdown",
   "id": "c558dd94",
   "metadata": {},
   "source": [
    "### 3 Merge Datasets"
   ]
  },
  {
   "cell_type": "code",
   "execution_count": 151,
   "id": "e38c2a46",
   "metadata": {},
   "outputs": [
    {
     "data": {
      "text/plain": [
       "321"
      ]
     },
     "execution_count": 151,
     "metadata": {},
     "output_type": "execute_result"
    }
   ],
   "source": [
    "# Merge Agreements Dataset with patent expense dataset \n",
    "merge1 = df_ag.merge(df_exp.drop_duplicates(), on=['Tech_ID'], \n",
    "                   how='inner', indicator=False)\n",
    "\n",
    "len(merge1)"
   ]
  },
  {
   "cell_type": "code",
   "execution_count": 152,
   "id": "52885af5",
   "metadata": {},
   "outputs": [
    {
     "data": {
      "text/plain": [
       "321"
      ]
     },
     "execution_count": 152,
     "metadata": {},
     "output_type": "execute_result"
    }
   ],
   "source": [
    "# Merge Agreements Dataset with patent expense dataset \n",
    "df_pat_cost = merge1.merge(df_fin.drop_duplicates(), on=['Agreement_ID'], \n",
    "                   how='left', indicator=False)\n",
    "\n",
    "len(df_pat_cost)"
   ]
  },
  {
   "cell_type": "markdown",
   "id": "8e57ea8b",
   "metadata": {},
   "source": [
    "### Extract Cost Values "
   ]
  },
  {
   "cell_type": "code",
   "execution_count": 153,
   "id": "48addeb3",
   "metadata": {},
   "outputs": [],
   "source": [
    "df_pat_cost['party_amount_due'] = df_pat_cost['party_amount_due'].fillna(0)\n",
    "\n",
    "df_pat_cost['total_patenting_cost'] = df_pat_cost['party_amount_due'] + df_pat_cost['expense_amount']"
   ]
  },
  {
   "cell_type": "code",
   "execution_count": 154,
   "id": "ad822209",
   "metadata": {},
   "outputs": [
    {
     "data": {
      "text/html": [
       "<div>\n",
       "<style scoped>\n",
       "    .dataframe tbody tr th:only-of-type {\n",
       "        vertical-align: middle;\n",
       "    }\n",
       "\n",
       "    .dataframe tbody tr th {\n",
       "        vertical-align: top;\n",
       "    }\n",
       "\n",
       "    .dataframe thead th {\n",
       "        text-align: right;\n",
       "    }\n",
       "</style>\n",
       "<table border=\"1\" class=\"dataframe\">\n",
       "  <thead>\n",
       "    <tr style=\"text-align: right;\">\n",
       "      <th></th>\n",
       "      <th>Agreement_ID</th>\n",
       "      <th>Tech_ID</th>\n",
       "      <th>Unnamed: 0</th>\n",
       "      <th>Parties</th>\n",
       "      <th>Agreement_Type</th>\n",
       "      <th>Manager</th>\n",
       "      <th>Responsible_Manager</th>\n",
       "      <th>Title</th>\n",
       "      <th>Number_of_Parties</th>\n",
       "      <th>In_or_Out</th>\n",
       "      <th>...</th>\n",
       "      <th>Field_Of_Use</th>\n",
       "      <th>Equity</th>\n",
       "      <th>Reimbursable_Expenses</th>\n",
       "      <th>Technologies</th>\n",
       "      <th>Division_Department</th>\n",
       "      <th>Investigators</th>\n",
       "      <th>Last_Related_Update</th>\n",
       "      <th>expense_amount</th>\n",
       "      <th>party_amount_due</th>\n",
       "      <th>total_patenting_cost</th>\n",
       "    </tr>\n",
       "  </thead>\n",
       "  <tbody>\n",
       "    <tr>\n",
       "      <th>0</th>\n",
       "      <td>01-A-029</td>\n",
       "      <td>00-T-008</td>\n",
       "      <td>70</td>\n",
       "      <td>Hologic, Inc. (fka R2 Technology)</td>\n",
       "      <td>Non-Exclusive License - All Fields</td>\n",
       "      <td>Juggernauth, Anne</td>\n",
       "      <td>Stocco, Teana</td>\n",
       "      <td>R2 Technology, Inc. Non-Exclusive w/ Equity 2001</td>\n",
       "      <td>1</td>\n",
       "      <td>Out</td>\n",
       "      <td>...</td>\n",
       "      <td>Computer-aided diagnosis of diseases and/or di...</td>\n",
       "      <td>Yes</td>\n",
       "      <td>Yes</td>\n",
       "      <td>00-T-008, 00-T-010, 00-T-060, 01-T-008, 01-T-0...</td>\n",
       "      <td>Biological Sciences Division (BSD), Comprehens...</td>\n",
       "      <td>Yali Amit, Masahito Aoyama, Samuel Armato, Ulr...</td>\n",
       "      <td>2022-01-26 09:23:36</td>\n",
       "      <td>37198.62</td>\n",
       "      <td>0.0</td>\n",
       "      <td>37198.62</td>\n",
       "    </tr>\n",
       "    <tr>\n",
       "      <th>1</th>\n",
       "      <td>02-A-024</td>\n",
       "      <td>01-T-020</td>\n",
       "      <td>101</td>\n",
       "      <td>Dana-Farber Cancer Institute (DFCI)</td>\n",
       "      <td>Interinstitutional Agreement (IIA)</td>\n",
       "      <td>Tennant, Thelma</td>\n",
       "      <td>Stocco, Teana</td>\n",
       "      <td>Dana Farber Cancer Institute, IIA, 2002 (Weich...</td>\n",
       "      <td>1</td>\n",
       "      <td>Out</td>\n",
       "      <td>...</td>\n",
       "      <td>All - UChicago leads; part of a larger IIA fam...</td>\n",
       "      <td>No</td>\n",
       "      <td>Yes</td>\n",
       "      <td>01-T-020</td>\n",
       "      <td>Biological Sciences Division (BSD), Comprehens...</td>\n",
       "      <td>Michael Beckett, Vinay Gupta, Donald Kufe, Hel...</td>\n",
       "      <td>2021-11-02 12:57:05</td>\n",
       "      <td>319103.54</td>\n",
       "      <td>0.0</td>\n",
       "      <td>319103.54</td>\n",
       "    </tr>\n",
       "    <tr>\n",
       "      <th>2</th>\n",
       "      <td>02-A-029</td>\n",
       "      <td>01-T-044</td>\n",
       "      <td>109</td>\n",
       "      <td>University of Colorado</td>\n",
       "      <td>Interinstitutional Agreement (IIA)</td>\n",
       "      <td>Tennant, Thelma</td>\n",
       "      <td>Stocco, Teana</td>\n",
       "      <td>Regents of the University of Colorado IIA 2002</td>\n",
       "      <td>1</td>\n",
       "      <td>Out</td>\n",
       "      <td>...</td>\n",
       "      <td>No field of use specified</td>\n",
       "      <td>No</td>\n",
       "      <td>No</td>\n",
       "      <td>01-T-044</td>\n",
       "      <td>Ben May Institute for Cancer Research, Biologi...</td>\n",
       "      <td>Dean Edwards, Geoffrey Greene</td>\n",
       "      <td>2022-01-04 11:29:35</td>\n",
       "      <td>208.33</td>\n",
       "      <td>0.0</td>\n",
       "      <td>208.33</td>\n",
       "    </tr>\n",
       "    <tr>\n",
       "      <th>3</th>\n",
       "      <td>05-A-032</td>\n",
       "      <td>01-T-044</td>\n",
       "      <td>240</td>\n",
       "      <td>BioLegend, Inc. (fka Covance), Covance Researc...</td>\n",
       "      <td>Amendment</td>\n",
       "      <td>Tennant, Thelma</td>\n",
       "      <td>Stocco, Teana</td>\n",
       "      <td>BioLegend, Amendment 1 to Tangible Property Ag...</td>\n",
       "      <td>3</td>\n",
       "      <td>Out</td>\n",
       "      <td>...</td>\n",
       "      <td>Licensed Products for use as in vitro research...</td>\n",
       "      <td>No</td>\n",
       "      <td>No</td>\n",
       "      <td>01-T-044</td>\n",
       "      <td>Ben May Institute for Cancer Research, Biologi...</td>\n",
       "      <td>Dean Edwards, Geoffrey Greene</td>\n",
       "      <td>2021-10-19 11:49:40</td>\n",
       "      <td>208.33</td>\n",
       "      <td>0.0</td>\n",
       "      <td>208.33</td>\n",
       "    </tr>\n",
       "    <tr>\n",
       "      <th>4</th>\n",
       "      <td>10-A-021</td>\n",
       "      <td>01-T-044</td>\n",
       "      <td>537</td>\n",
       "      <td>Active Motif Inc.</td>\n",
       "      <td>Non-Exclusive License - Tangible Property</td>\n",
       "      <td>Tennant, Thelma</td>\n",
       "      <td>Stocco, Teana</td>\n",
       "      <td>Active Motif, Non-Exclusive License - Tangible...</td>\n",
       "      <td>1</td>\n",
       "      <td>Out</td>\n",
       "      <td>...</td>\n",
       "      <td>the commercial sale of Licensed Product or Con...</td>\n",
       "      <td>No</td>\n",
       "      <td>No</td>\n",
       "      <td>01-T-044</td>\n",
       "      <td>Ben May Institute for Cancer Research, Biologi...</td>\n",
       "      <td>Dean Edwards, Geoffrey Greene</td>\n",
       "      <td>2022-03-03 14:55:20</td>\n",
       "      <td>208.33</td>\n",
       "      <td>0.0</td>\n",
       "      <td>208.33</td>\n",
       "    </tr>\n",
       "    <tr>\n",
       "      <th>5</th>\n",
       "      <td>03-A-010</td>\n",
       "      <td>02-T-079</td>\n",
       "      <td>129</td>\n",
       "      <td>Purdue Research Foundation</td>\n",
       "      <td>Interinstitutional Agreement (IIA)</td>\n",
       "      <td>Tennant, Thelma</td>\n",
       "      <td>Stocco, Teana</td>\n",
       "      <td>Purdue Research Foundation, IIA, 2003 (Lee)</td>\n",
       "      <td>1</td>\n",
       "      <td>Out</td>\n",
       "      <td>...</td>\n",
       "      <td>no field of use specified</td>\n",
       "      <td>No</td>\n",
       "      <td>No</td>\n",
       "      <td>02-T-079</td>\n",
       "      <td>Biological Sciences Division (BSD), Surgery</td>\n",
       "      <td>Richard Borgens, Raphael Lee, Riyi Shi</td>\n",
       "      <td>2021-11-11 19:32:47</td>\n",
       "      <td>149602.32</td>\n",
       "      <td>0.0</td>\n",
       "      <td>149602.32</td>\n",
       "    </tr>\n",
       "    <tr>\n",
       "      <th>6</th>\n",
       "      <td>03-A-011</td>\n",
       "      <td>01-T-007</td>\n",
       "      <td>130</td>\n",
       "      <td>FoldRx, Massachusetts Institute of Technology ...</td>\n",
       "      <td>Exclusive License - All Fields</td>\n",
       "      <td>Tennant, Thelma</td>\n",
       "      <td>Stocco, Teana</td>\n",
       "      <td>Whitehead Institute, FoldRx Pharmaceuticals, I...</td>\n",
       "      <td>4</td>\n",
       "      <td>Out</td>\n",
       "      <td>...</td>\n",
       "      <td>All fields</td>\n",
       "      <td>No</td>\n",
       "      <td>No</td>\n",
       "      <td>01-T-007, 97-T-081</td>\n",
       "      <td>Biochemistry and Molecular Biology, Biological...</td>\n",
       "      <td>Yury Chernoff, Shubhik DebBurman, Sylvia Krobi...</td>\n",
       "      <td>2022-04-05 16:50:32</td>\n",
       "      <td>11219.07</td>\n",
       "      <td>0.0</td>\n",
       "      <td>11219.07</td>\n",
       "    </tr>\n",
       "    <tr>\n",
       "      <th>7</th>\n",
       "      <td>03-A-019</td>\n",
       "      <td>01-T-007</td>\n",
       "      <td>138</td>\n",
       "      <td>Massachusetts Institute of Technology (MIT), W...</td>\n",
       "      <td>Letter of Understanding</td>\n",
       "      <td>Tennant, Thelma</td>\n",
       "      <td>Stocco, Teana</td>\n",
       "      <td>Memorandum of Understanding - Whitehead and MI...</td>\n",
       "      <td>2</td>\n",
       "      <td>Out</td>\n",
       "      <td>...</td>\n",
       "      <td></td>\n",
       "      <td>No</td>\n",
       "      <td>No</td>\n",
       "      <td>01-T-007, 97-T-081</td>\n",
       "      <td>Biochemistry and Molecular Biology, Biological...</td>\n",
       "      <td>Yury Chernoff, Shubhik DebBurman, Sylvia Krobi...</td>\n",
       "      <td>2021-11-11 19:32:45</td>\n",
       "      <td>11219.07</td>\n",
       "      <td>0.0</td>\n",
       "      <td>11219.07</td>\n",
       "    </tr>\n",
       "    <tr>\n",
       "      <th>8</th>\n",
       "      <td>16-A-146</td>\n",
       "      <td>01-T-007</td>\n",
       "      <td>1622</td>\n",
       "      <td>Whitehead Institute, Yumanity Therapeutics</td>\n",
       "      <td>Exclusive License - All Fields</td>\n",
       "      <td>Tennant, Thelma</td>\n",
       "      <td>Stocco, Teana</td>\n",
       "      <td>Whitehead Institute, Yumanity Therapeutics, Ta...</td>\n",
       "      <td>2</td>\n",
       "      <td>Out</td>\n",
       "      <td>...</td>\n",
       "      <td>therapeutics and treatments for all diseases i...</td>\n",
       "      <td>Yes</td>\n",
       "      <td>No</td>\n",
       "      <td>01-T-007, 97-T-081</td>\n",
       "      <td>Biochemistry and Molecular Biology, Biological...</td>\n",
       "      <td>Yury Chernoff, Shubhik DebBurman, Sylvia Krobi...</td>\n",
       "      <td>2022-03-29 13:15:48</td>\n",
       "      <td>11219.07</td>\n",
       "      <td>0.0</td>\n",
       "      <td>11219.07</td>\n",
       "    </tr>\n",
       "    <tr>\n",
       "      <th>9</th>\n",
       "      <td>03-A-019</td>\n",
       "      <td>00-T-026</td>\n",
       "      <td>135</td>\n",
       "      <td>Massachusetts Institute of Technology (MIT), W...</td>\n",
       "      <td>Interinstitutional Agreement (IIA)</td>\n",
       "      <td>Tennant, Thelma</td>\n",
       "      <td>Stocco, Teana</td>\n",
       "      <td>Whitehead Institute, IIA, 2003 (Lindquist)</td>\n",
       "      <td>2</td>\n",
       "      <td>Out</td>\n",
       "      <td>...</td>\n",
       "      <td>No field defined</td>\n",
       "      <td>No</td>\n",
       "      <td>No</td>\n",
       "      <td>00-T-026, 01-T-007, 01-T-036, 03-T-005, 03-T-0...</td>\n",
       "      <td>Biochemistry and Molecular Biology, Biological...</td>\n",
       "      <td>Yury Chernoff, Shubhik DebBurman, Sylvia Krobi...</td>\n",
       "      <td>2022-03-24 12:57:29</td>\n",
       "      <td>13252.04</td>\n",
       "      <td>0.0</td>\n",
       "      <td>13252.04</td>\n",
       "    </tr>\n",
       "    <tr>\n",
       "      <th>10</th>\n",
       "      <td>85-A-001</td>\n",
       "      <td>00-T-026</td>\n",
       "      <td>3571</td>\n",
       "      <td>Howard Hughes Medical Institute (HHMI)</td>\n",
       "      <td>Interinstitutional Agreement (IIA)</td>\n",
       "      <td>Tennant, Thelma</td>\n",
       "      <td>Stocco, Teana</td>\n",
       "      <td>Master HHMI Agreement</td>\n",
       "      <td>1</td>\n",
       "      <td>Out</td>\n",
       "      <td>...</td>\n",
       "      <td>Revised in March 2014 - IDs older than that fa...</td>\n",
       "      <td>No</td>\n",
       "      <td>No</td>\n",
       "      <td>00-T-026, 01-T-007, 01-T-014, 01-T-024, 01-T-0...</td>\n",
       "      <td>Biochemistry and Molecular Biology, Biological...</td>\n",
       "      <td>Mary Ann Accavitti, Jeffrey Anker, Katinka Bah...</td>\n",
       "      <td>2022-03-29 11:18:52</td>\n",
       "      <td>13252.04</td>\n",
       "      <td>0.0</td>\n",
       "      <td>13252.04</td>\n",
       "    </tr>\n",
       "    <tr>\n",
       "      <th>11</th>\n",
       "      <td>03-A-021</td>\n",
       "      <td>02-T-013</td>\n",
       "      <td>141</td>\n",
       "      <td>Argonne National Laboratory</td>\n",
       "      <td>Interinstitutional Agreement (IIA)</td>\n",
       "      <td>Muite, Kevin</td>\n",
       "      <td>Stocco, Teana</td>\n",
       "      <td>Argonne National Laboratory IIA 2003</td>\n",
       "      <td>1</td>\n",
       "      <td>Out</td>\n",
       "      <td>...</td>\n",
       "      <td>Materials, equipment and methods that include ...</td>\n",
       "      <td>No</td>\n",
       "      <td>No</td>\n",
       "      <td>02-T-013</td>\n",
       "      <td>None</td>\n",
       "      <td>Jeffrey Frank, Kenneth Kasza, Robert Macdonald...</td>\n",
       "      <td>2021-11-11 19:32:31</td>\n",
       "      <td>37959.85</td>\n",
       "      <td>0.0</td>\n",
       "      <td>37959.85</td>\n",
       "    </tr>\n",
       "    <tr>\n",
       "      <th>12</th>\n",
       "      <td>03-A-048</td>\n",
       "      <td>01-T-058</td>\n",
       "      <td>167</td>\n",
       "      <td>Hologic, Inc. (fka R2 Technology)</td>\n",
       "      <td>Non-Exclusive License - All Fields</td>\n",
       "      <td>Juggernauth, Anne</td>\n",
       "      <td>Stocco, Teana</td>\n",
       "      <td>R2 Technology, Inc. Non-Exclsuive 2003</td>\n",
       "      <td>1</td>\n",
       "      <td>Out</td>\n",
       "      <td>...</td>\n",
       "      <td>computer-based organ segmentation in the human...</td>\n",
       "      <td>No</td>\n",
       "      <td>Yes</td>\n",
       "      <td>01-T-058, 03-T-032, 03-T-033, 03-T-034, 03-T-035</td>\n",
       "      <td>Biological Sciences Division (BSD), Comprehens...</td>\n",
       "      <td>Abraham Dachman, Hans Frimmel, Li Lan, Peter M...</td>\n",
       "      <td>2021-11-11 19:32:14</td>\n",
       "      <td>127028.12</td>\n",
       "      <td>0.0</td>\n",
       "      <td>127028.12</td>\n",
       "    </tr>\n",
       "    <tr>\n",
       "      <th>13</th>\n",
       "      <td>04-A-032</td>\n",
       "      <td>00-T-051</td>\n",
       "      <td>211</td>\n",
       "      <td>Dana-Farber Cancer Institute (DFCI)</td>\n",
       "      <td>Interinstitutional Agreement (IIA)</td>\n",
       "      <td>Tennant, Thelma</td>\n",
       "      <td>Stocco, Teana</td>\n",
       "      <td>Dana Farber Cancer Institute, IIA, 2004 (Weich...</td>\n",
       "      <td>1</td>\n",
       "      <td>Out</td>\n",
       "      <td>...</td>\n",
       "      <td>No field of use specified</td>\n",
       "      <td>No</td>\n",
       "      <td>Yes</td>\n",
       "      <td>00-T-051, 00-T-052, 02-T-078, 03-T-050, 04-T-0...</td>\n",
       "      <td>Biological Sciences Division (BSD), Comprehens...</td>\n",
       "      <td>Steven Chmura, Thomas Darga, Dennis Hallahan, ...</td>\n",
       "      <td>2022-04-01 12:55:52</td>\n",
       "      <td>100075.02</td>\n",
       "      <td>3863.0</td>\n",
       "      <td>103938.02</td>\n",
       "    </tr>\n",
       "    <tr>\n",
       "      <th>14</th>\n",
       "      <td>04-A-035</td>\n",
       "      <td>04-T-078</td>\n",
       "      <td>215</td>\n",
       "      <td>Children's Hospital of Philadelphia</td>\n",
       "      <td>Interinstitutional Agreement (IIA)</td>\n",
       "      <td>Tennant, Thelma</td>\n",
       "      <td>Stocco, Teana</td>\n",
       "      <td>Children's Hospital of Philadelphia, IIA, 2004...</td>\n",
       "      <td>1</td>\n",
       "      <td>Out</td>\n",
       "      <td>...</td>\n",
       "      <td>no field of use specified</td>\n",
       "      <td>No</td>\n",
       "      <td>No</td>\n",
       "      <td>04-T-078, 04-T-079</td>\n",
       "      <td>Biological Sciences Division (BSD), Pathology</td>\n",
       "      <td>Yair Argon, Chanda Biswas, Tali Gidalevitz, Br...</td>\n",
       "      <td>2020-05-19 14:14:30</td>\n",
       "      <td>42927.46</td>\n",
       "      <td>0.0</td>\n",
       "      <td>42927.46</td>\n",
       "    </tr>\n",
       "  </tbody>\n",
       "</table>\n",
       "<p>15 rows × 27 columns</p>\n",
       "</div>"
      ],
      "text/plain": [
       "   Agreement_ID   Tech_ID  Unnamed: 0  \\\n",
       "0      01-A-029  00-T-008          70   \n",
       "1      02-A-024  01-T-020         101   \n",
       "2      02-A-029  01-T-044         109   \n",
       "3      05-A-032  01-T-044         240   \n",
       "4      10-A-021  01-T-044         537   \n",
       "5      03-A-010  02-T-079         129   \n",
       "6      03-A-011  01-T-007         130   \n",
       "7      03-A-019  01-T-007         138   \n",
       "8      16-A-146  01-T-007        1622   \n",
       "9      03-A-019  00-T-026         135   \n",
       "10     85-A-001  00-T-026        3571   \n",
       "11     03-A-021  02-T-013         141   \n",
       "12     03-A-048  01-T-058         167   \n",
       "13     04-A-032  00-T-051         211   \n",
       "14     04-A-035  04-T-078         215   \n",
       "\n",
       "                                              Parties  \\\n",
       "0                   Hologic, Inc. (fka R2 Technology)   \n",
       "1                 Dana-Farber Cancer Institute (DFCI)   \n",
       "2                              University of Colorado   \n",
       "3   BioLegend, Inc. (fka Covance), Covance Researc...   \n",
       "4                                   Active Motif Inc.   \n",
       "5                          Purdue Research Foundation   \n",
       "6   FoldRx, Massachusetts Institute of Technology ...   \n",
       "7   Massachusetts Institute of Technology (MIT), W...   \n",
       "8          Whitehead Institute, Yumanity Therapeutics   \n",
       "9   Massachusetts Institute of Technology (MIT), W...   \n",
       "10             Howard Hughes Medical Institute (HHMI)   \n",
       "11                        Argonne National Laboratory   \n",
       "12                  Hologic, Inc. (fka R2 Technology)   \n",
       "13                Dana-Farber Cancer Institute (DFCI)   \n",
       "14                Children's Hospital of Philadelphia   \n",
       "\n",
       "                               Agreement_Type            Manager  \\\n",
       "0          Non-Exclusive License - All Fields  Juggernauth, Anne   \n",
       "1          Interinstitutional Agreement (IIA)    Tennant, Thelma   \n",
       "2          Interinstitutional Agreement (IIA)    Tennant, Thelma   \n",
       "3                                   Amendment    Tennant, Thelma   \n",
       "4   Non-Exclusive License - Tangible Property    Tennant, Thelma   \n",
       "5          Interinstitutional Agreement (IIA)    Tennant, Thelma   \n",
       "6              Exclusive License - All Fields    Tennant, Thelma   \n",
       "7                     Letter of Understanding    Tennant, Thelma   \n",
       "8              Exclusive License - All Fields    Tennant, Thelma   \n",
       "9          Interinstitutional Agreement (IIA)    Tennant, Thelma   \n",
       "10         Interinstitutional Agreement (IIA)    Tennant, Thelma   \n",
       "11         Interinstitutional Agreement (IIA)       Muite, Kevin   \n",
       "12         Non-Exclusive License - All Fields  Juggernauth, Anne   \n",
       "13         Interinstitutional Agreement (IIA)    Tennant, Thelma   \n",
       "14         Interinstitutional Agreement (IIA)    Tennant, Thelma   \n",
       "\n",
       "   Responsible_Manager                                              Title  \\\n",
       "0        Stocco, Teana   R2 Technology, Inc. Non-Exclusive w/ Equity 2001   \n",
       "1        Stocco, Teana  Dana Farber Cancer Institute, IIA, 2002 (Weich...   \n",
       "2        Stocco, Teana     Regents of the University of Colorado IIA 2002   \n",
       "3        Stocco, Teana  BioLegend, Amendment 1 to Tangible Property Ag...   \n",
       "4        Stocco, Teana  Active Motif, Non-Exclusive License - Tangible...   \n",
       "5        Stocco, Teana        Purdue Research Foundation, IIA, 2003 (Lee)   \n",
       "6        Stocco, Teana  Whitehead Institute, FoldRx Pharmaceuticals, I...   \n",
       "7        Stocco, Teana  Memorandum of Understanding - Whitehead and MI...   \n",
       "8        Stocco, Teana  Whitehead Institute, Yumanity Therapeutics, Ta...   \n",
       "9        Stocco, Teana         Whitehead Institute, IIA, 2003 (Lindquist)   \n",
       "10       Stocco, Teana                              Master HHMI Agreement   \n",
       "11       Stocco, Teana               Argonne National Laboratory IIA 2003   \n",
       "12       Stocco, Teana             R2 Technology, Inc. Non-Exclsuive 2003   \n",
       "13       Stocco, Teana  Dana Farber Cancer Institute, IIA, 2004 (Weich...   \n",
       "14       Stocco, Teana  Children's Hospital of Philadelphia, IIA, 2004...   \n",
       "\n",
       "    Number_of_Parties In_or_Out  ...  \\\n",
       "0                   1       Out  ...   \n",
       "1                   1       Out  ...   \n",
       "2                   1       Out  ...   \n",
       "3                   3       Out  ...   \n",
       "4                   1       Out  ...   \n",
       "5                   1       Out  ...   \n",
       "6                   4       Out  ...   \n",
       "7                   2       Out  ...   \n",
       "8                   2       Out  ...   \n",
       "9                   2       Out  ...   \n",
       "10                  1       Out  ...   \n",
       "11                  1       Out  ...   \n",
       "12                  1       Out  ...   \n",
       "13                  1       Out  ...   \n",
       "14                  1       Out  ...   \n",
       "\n",
       "                                         Field_Of_Use Equity  \\\n",
       "0   Computer-aided diagnosis of diseases and/or di...    Yes   \n",
       "1   All - UChicago leads; part of a larger IIA fam...     No   \n",
       "2                           No field of use specified     No   \n",
       "3   Licensed Products for use as in vitro research...     No   \n",
       "4   the commercial sale of Licensed Product or Con...     No   \n",
       "5                           no field of use specified     No   \n",
       "6                                          All fields     No   \n",
       "7                                                         No   \n",
       "8   therapeutics and treatments for all diseases i...    Yes   \n",
       "9                                    No field defined     No   \n",
       "10  Revised in March 2014 - IDs older than that fa...     No   \n",
       "11  Materials, equipment and methods that include ...     No   \n",
       "12  computer-based organ segmentation in the human...     No   \n",
       "13                          No field of use specified     No   \n",
       "14                          no field of use specified     No   \n",
       "\n",
       "   Reimbursable_Expenses                                       Technologies  \\\n",
       "0                    Yes  00-T-008, 00-T-010, 00-T-060, 01-T-008, 01-T-0...   \n",
       "1                    Yes                                           01-T-020   \n",
       "2                     No                                           01-T-044   \n",
       "3                     No                                           01-T-044   \n",
       "4                     No                                           01-T-044   \n",
       "5                     No                                           02-T-079   \n",
       "6                     No                                 01-T-007, 97-T-081   \n",
       "7                     No                                 01-T-007, 97-T-081   \n",
       "8                     No                                 01-T-007, 97-T-081   \n",
       "9                     No  00-T-026, 01-T-007, 01-T-036, 03-T-005, 03-T-0...   \n",
       "10                    No  00-T-026, 01-T-007, 01-T-014, 01-T-024, 01-T-0...   \n",
       "11                    No                                           02-T-013   \n",
       "12                   Yes   01-T-058, 03-T-032, 03-T-033, 03-T-034, 03-T-035   \n",
       "13                   Yes  00-T-051, 00-T-052, 02-T-078, 03-T-050, 04-T-0...   \n",
       "14                    No                                 04-T-078, 04-T-079   \n",
       "\n",
       "                                  Division_Department  \\\n",
       "0   Biological Sciences Division (BSD), Comprehens...   \n",
       "1   Biological Sciences Division (BSD), Comprehens...   \n",
       "2   Ben May Institute for Cancer Research, Biologi...   \n",
       "3   Ben May Institute for Cancer Research, Biologi...   \n",
       "4   Ben May Institute for Cancer Research, Biologi...   \n",
       "5         Biological Sciences Division (BSD), Surgery   \n",
       "6   Biochemistry and Molecular Biology, Biological...   \n",
       "7   Biochemistry and Molecular Biology, Biological...   \n",
       "8   Biochemistry and Molecular Biology, Biological...   \n",
       "9   Biochemistry and Molecular Biology, Biological...   \n",
       "10  Biochemistry and Molecular Biology, Biological...   \n",
       "11                                               None   \n",
       "12  Biological Sciences Division (BSD), Comprehens...   \n",
       "13  Biological Sciences Division (BSD), Comprehens...   \n",
       "14      Biological Sciences Division (BSD), Pathology   \n",
       "\n",
       "                                        Investigators  Last_Related_Update  \\\n",
       "0   Yali Amit, Masahito Aoyama, Samuel Armato, Ulr...  2022-01-26 09:23:36   \n",
       "1   Michael Beckett, Vinay Gupta, Donald Kufe, Hel...  2021-11-02 12:57:05   \n",
       "2                       Dean Edwards, Geoffrey Greene  2022-01-04 11:29:35   \n",
       "3                       Dean Edwards, Geoffrey Greene  2021-10-19 11:49:40   \n",
       "4                       Dean Edwards, Geoffrey Greene  2022-03-03 14:55:20   \n",
       "5              Richard Borgens, Raphael Lee, Riyi Shi  2021-11-11 19:32:47   \n",
       "6   Yury Chernoff, Shubhik DebBurman, Sylvia Krobi...  2022-04-05 16:50:32   \n",
       "7   Yury Chernoff, Shubhik DebBurman, Sylvia Krobi...  2021-11-11 19:32:45   \n",
       "8   Yury Chernoff, Shubhik DebBurman, Sylvia Krobi...  2022-03-29 13:15:48   \n",
       "9   Yury Chernoff, Shubhik DebBurman, Sylvia Krobi...  2022-03-24 12:57:29   \n",
       "10  Mary Ann Accavitti, Jeffrey Anker, Katinka Bah...  2022-03-29 11:18:52   \n",
       "11  Jeffrey Frank, Kenneth Kasza, Robert Macdonald...  2021-11-11 19:32:31   \n",
       "12  Abraham Dachman, Hans Frimmel, Li Lan, Peter M...  2021-11-11 19:32:14   \n",
       "13  Steven Chmura, Thomas Darga, Dennis Hallahan, ...  2022-04-01 12:55:52   \n",
       "14  Yair Argon, Chanda Biswas, Tali Gidalevitz, Br...  2020-05-19 14:14:30   \n",
       "\n",
       "   expense_amount party_amount_due total_patenting_cost  \n",
       "0        37198.62              0.0             37198.62  \n",
       "1       319103.54              0.0            319103.54  \n",
       "2          208.33              0.0               208.33  \n",
       "3          208.33              0.0               208.33  \n",
       "4          208.33              0.0               208.33  \n",
       "5       149602.32              0.0            149602.32  \n",
       "6        11219.07              0.0             11219.07  \n",
       "7        11219.07              0.0             11219.07  \n",
       "8        11219.07              0.0             11219.07  \n",
       "9        13252.04              0.0             13252.04  \n",
       "10       13252.04              0.0             13252.04  \n",
       "11       37959.85              0.0             37959.85  \n",
       "12      127028.12              0.0            127028.12  \n",
       "13      100075.02           3863.0            103938.02  \n",
       "14       42927.46              0.0             42927.46  \n",
       "\n",
       "[15 rows x 27 columns]"
      ]
     },
     "execution_count": 154,
     "metadata": {},
     "output_type": "execute_result"
    }
   ],
   "source": [
    "df_pat_cost.head(15)"
   ]
  },
  {
   "cell_type": "markdown",
   "id": "06fc11d7",
   "metadata": {},
   "source": [
    "#### Outliers are heavily skewing results for patent cost. We will replace for the sake of accuate average patent cost calculations"
   ]
  },
  {
   "cell_type": "code",
   "execution_count": 155,
   "id": "38fb3bdc",
   "metadata": {},
   "outputs": [
    {
     "data": {
      "text/html": [
       "<div>\n",
       "<style scoped>\n",
       "    .dataframe tbody tr th:only-of-type {\n",
       "        vertical-align: middle;\n",
       "    }\n",
       "\n",
       "    .dataframe tbody tr th {\n",
       "        vertical-align: top;\n",
       "    }\n",
       "\n",
       "    .dataframe thead th {\n",
       "        text-align: right;\n",
       "    }\n",
       "</style>\n",
       "<table border=\"1\" class=\"dataframe\">\n",
       "  <thead>\n",
       "    <tr style=\"text-align: right;\">\n",
       "      <th></th>\n",
       "      <th>Unnamed: 0</th>\n",
       "      <th>Number_of_Parties</th>\n",
       "      <th>Agreement_Term</th>\n",
       "      <th>expense_amount</th>\n",
       "      <th>party_amount_due</th>\n",
       "      <th>total_patenting_cost</th>\n",
       "    </tr>\n",
       "  </thead>\n",
       "  <tbody>\n",
       "    <tr>\n",
       "      <th>count</th>\n",
       "      <td>295.000000</td>\n",
       "      <td>295.000000</td>\n",
       "      <td>287.000000</td>\n",
       "      <td>2.950000e+02</td>\n",
       "      <td>295.000000</td>\n",
       "      <td>2.950000e+02</td>\n",
       "    </tr>\n",
       "    <tr>\n",
       "      <th>mean</th>\n",
       "      <td>2708.308475</td>\n",
       "      <td>1.216949</td>\n",
       "      <td>1.224739</td>\n",
       "      <td>6.913885e+04</td>\n",
       "      <td>3937.021119</td>\n",
       "      <td>7.307587e+04</td>\n",
       "    </tr>\n",
       "    <tr>\n",
       "      <th>std</th>\n",
       "      <td>933.945214</td>\n",
       "      <td>0.670352</td>\n",
       "      <td>2.823945</td>\n",
       "      <td>1.194898e+05</td>\n",
       "      <td>21470.445174</td>\n",
       "      <td>1.282328e+05</td>\n",
       "    </tr>\n",
       "    <tr>\n",
       "      <th>min</th>\n",
       "      <td>402.000000</td>\n",
       "      <td>1.000000</td>\n",
       "      <td>-1.000000</td>\n",
       "      <td>0.000000e+00</td>\n",
       "      <td>0.000000</td>\n",
       "      <td>0.000000e+00</td>\n",
       "    </tr>\n",
       "    <tr>\n",
       "      <th>25%</th>\n",
       "      <td>2179.000000</td>\n",
       "      <td>1.000000</td>\n",
       "      <td>-1.000000</td>\n",
       "      <td>1.731028e+04</td>\n",
       "      <td>0.000000</td>\n",
       "      <td>1.731028e+04</td>\n",
       "    </tr>\n",
       "    <tr>\n",
       "      <th>50%</th>\n",
       "      <td>3150.000000</td>\n",
       "      <td>1.000000</td>\n",
       "      <td>0.000000</td>\n",
       "      <td>3.760409e+04</td>\n",
       "      <td>0.000000</td>\n",
       "      <td>4.022279e+04</td>\n",
       "    </tr>\n",
       "    <tr>\n",
       "      <th>75%</th>\n",
       "      <td>3387.500000</td>\n",
       "      <td>1.000000</td>\n",
       "      <td>3.000000</td>\n",
       "      <td>6.657300e+04</td>\n",
       "      <td>0.000000</td>\n",
       "      <td>6.786886e+04</td>\n",
       "    </tr>\n",
       "    <tr>\n",
       "      <th>max</th>\n",
       "      <td>3772.000000</td>\n",
       "      <td>7.000000</td>\n",
       "      <td>15.000000</td>\n",
       "      <td>1.542336e+06</td>\n",
       "      <td>293052.820000</td>\n",
       "      <td>1.624758e+06</td>\n",
       "    </tr>\n",
       "  </tbody>\n",
       "</table>\n",
       "</div>"
      ],
      "text/plain": [
       "        Unnamed: 0  Number_of_Parties  Agreement_Term  expense_amount  \\\n",
       "count   295.000000         295.000000      287.000000    2.950000e+02   \n",
       "mean   2708.308475           1.216949        1.224739    6.913885e+04   \n",
       "std     933.945214           0.670352        2.823945    1.194898e+05   \n",
       "min     402.000000           1.000000       -1.000000    0.000000e+00   \n",
       "25%    2179.000000           1.000000       -1.000000    1.731028e+04   \n",
       "50%    3150.000000           1.000000        0.000000    3.760409e+04   \n",
       "75%    3387.500000           1.000000        3.000000    6.657300e+04   \n",
       "max    3772.000000           7.000000       15.000000    1.542336e+06   \n",
       "\n",
       "       party_amount_due  total_patenting_cost  \n",
       "count        295.000000          2.950000e+02  \n",
       "mean        3937.021119          7.307587e+04  \n",
       "std        21470.445174          1.282328e+05  \n",
       "min            0.000000          0.000000e+00  \n",
       "25%            0.000000          1.731028e+04  \n",
       "50%            0.000000          4.022279e+04  \n",
       "75%            0.000000          6.786886e+04  \n",
       "max       293052.820000          1.624758e+06  "
      ]
     },
     "execution_count": 155,
     "metadata": {},
     "output_type": "execute_result"
    }
   ],
   "source": [
    "df_pat_cost.loc[26:].describe()"
   ]
  },
  {
   "cell_type": "code",
   "execution_count": 156,
   "id": "eb684d4d",
   "metadata": {},
   "outputs": [
    {
     "data": {
      "text/plain": [
       "[Text(0.5, 1.0, 'Distribution of Patent Expenses (Active Agreements)')]"
      ]
     },
     "execution_count": 156,
     "metadata": {},
     "output_type": "execute_result"
    },
    {
     "data": {
      "image/png": "[encoded data removed]",
      "text/plain": [
       "<Figure size 432x288 with 1 Axes>"
      ]
     },
     "metadata": {
      "needs_background": "light"
     },
     "output_type": "display_data"
    }
   ],
   "source": [
    "sns.distplot(df_pat_cost[\"total_patenting_cost\"]).set(title='Distribution of Patent Expenses (Active Agreements)')"
   ]
  },
  {
   "cell_type": "markdown",
   "id": "30d2ba49",
   "metadata": {},
   "source": [
    "### Calculate average cost to patent an invention (after removing outliers)"
   ]
  },
  {
   "cell_type": "code",
   "execution_count": 157,
   "id": "b198be43",
   "metadata": {},
   "outputs": [
    {
     "name": "stdout",
     "output_type": "stream",
     "text": [
      "Average cost to get invention patented: 57721.64437000805\n"
     ]
    }
   ],
   "source": [
    "mean = df_pat_cost.total_patenting_cost.mean() \n",
    "std = df_pat_cost.total_patenting_cost.std()\n",
    "value = df_pat_cost.total_patenting_cost\n",
    "\n",
    "outliers = (value-mean).abs() > 2*std\n",
    "df_pat_cost.total_patenting_cost.mask(outliers, other=mean, inplace=True)\n",
    "\n",
    "# Get average cost of patenting \n",
    "avg_cost = df_pat_cost.total_patenting_cost.mean()\n",
    "print('Average cost to get invention patented:', df_pat_cost.total_patenting_cost.mean())"
   ]
  },
  {
   "cell_type": "code",
   "execution_count": 158,
   "id": "514259d2",
   "metadata": {},
   "outputs": [
    {
     "data": {
      "text/plain": [
       "[Text(0.5, 1.0, 'Distribution of Patent Expenses (Active Agreements)')]"
      ]
     },
     "execution_count": 158,
     "metadata": {},
     "output_type": "execute_result"
    },
    {
     "data": {
      "image/png": "[encoded data removed]",
      "text/plain": [
       "<Figure size 432x288 with 1 Axes>"
      ]
     },
     "metadata": {
      "needs_background": "light"
     },
     "output_type": "display_data"
    }
   ],
   "source": [
    "sns.distplot(df_pat_cost[\"total_patenting_cost\"]).set(title='Distribution of Patent Expenses (Active Agreements)')"
   ]
  },
  {
   "cell_type": "code",
   "execution_count": 159,
   "id": "1bb3f95f",
   "metadata": {},
   "outputs": [
    {
     "data": {
      "text/html": [
       "<div>\n",
       "<style scoped>\n",
       "    .dataframe tbody tr th:only-of-type {\n",
       "        vertical-align: middle;\n",
       "    }\n",
       "\n",
       "    .dataframe tbody tr th {\n",
       "        vertical-align: top;\n",
       "    }\n",
       "\n",
       "    .dataframe thead th {\n",
       "        text-align: right;\n",
       "    }\n",
       "</style>\n",
       "<table border=\"1\" class=\"dataframe\">\n",
       "  <thead>\n",
       "    <tr style=\"text-align: right;\">\n",
       "      <th></th>\n",
       "      <th>Unnamed: 0</th>\n",
       "      <th>Number_of_Parties</th>\n",
       "      <th>Agreement_Term</th>\n",
       "      <th>expense_amount</th>\n",
       "      <th>party_amount_due</th>\n",
       "      <th>total_patenting_cost</th>\n",
       "    </tr>\n",
       "  </thead>\n",
       "  <tbody>\n",
       "    <tr>\n",
       "      <th>count</th>\n",
       "      <td>295.000000</td>\n",
       "      <td>295.000000</td>\n",
       "      <td>287.000000</td>\n",
       "      <td>2.950000e+02</td>\n",
       "      <td>295.000000</td>\n",
       "      <td>295.000000</td>\n",
       "    </tr>\n",
       "    <tr>\n",
       "      <th>mean</th>\n",
       "      <td>2708.308475</td>\n",
       "      <td>1.216949</td>\n",
       "      <td>1.224739</td>\n",
       "      <td>6.913885e+04</td>\n",
       "      <td>3937.021119</td>\n",
       "      <td>56910.782163</td>\n",
       "    </tr>\n",
       "    <tr>\n",
       "      <th>std</th>\n",
       "      <td>933.945214</td>\n",
       "      <td>0.670352</td>\n",
       "      <td>2.823945</td>\n",
       "      <td>1.194898e+05</td>\n",
       "      <td>21470.445174</td>\n",
       "      <td>60015.548197</td>\n",
       "    </tr>\n",
       "    <tr>\n",
       "      <th>min</th>\n",
       "      <td>402.000000</td>\n",
       "      <td>1.000000</td>\n",
       "      <td>-1.000000</td>\n",
       "      <td>0.000000e+00</td>\n",
       "      <td>0.000000</td>\n",
       "      <td>0.000000</td>\n",
       "    </tr>\n",
       "    <tr>\n",
       "      <th>25%</th>\n",
       "      <td>2179.000000</td>\n",
       "      <td>1.000000</td>\n",
       "      <td>-1.000000</td>\n",
       "      <td>1.731028e+04</td>\n",
       "      <td>0.000000</td>\n",
       "      <td>17310.285000</td>\n",
       "    </tr>\n",
       "    <tr>\n",
       "      <th>50%</th>\n",
       "      <td>3150.000000</td>\n",
       "      <td>1.000000</td>\n",
       "      <td>0.000000</td>\n",
       "      <td>3.760409e+04</td>\n",
       "      <td>0.000000</td>\n",
       "      <td>40222.790000</td>\n",
       "    </tr>\n",
       "    <tr>\n",
       "      <th>75%</th>\n",
       "      <td>3387.500000</td>\n",
       "      <td>1.000000</td>\n",
       "      <td>3.000000</td>\n",
       "      <td>6.657300e+04</td>\n",
       "      <td>0.000000</td>\n",
       "      <td>67868.860000</td>\n",
       "    </tr>\n",
       "    <tr>\n",
       "      <th>max</th>\n",
       "      <td>3772.000000</td>\n",
       "      <td>7.000000</td>\n",
       "      <td>15.000000</td>\n",
       "      <td>1.542336e+06</td>\n",
       "      <td>293052.820000</td>\n",
       "      <td>312287.850000</td>\n",
       "    </tr>\n",
       "  </tbody>\n",
       "</table>\n",
       "</div>"
      ],
      "text/plain": [
       "        Unnamed: 0  Number_of_Parties  Agreement_Term  expense_amount  \\\n",
       "count   295.000000         295.000000      287.000000    2.950000e+02   \n",
       "mean   2708.308475           1.216949        1.224739    6.913885e+04   \n",
       "std     933.945214           0.670352        2.823945    1.194898e+05   \n",
       "min     402.000000           1.000000       -1.000000    0.000000e+00   \n",
       "25%    2179.000000           1.000000       -1.000000    1.731028e+04   \n",
       "50%    3150.000000           1.000000        0.000000    3.760409e+04   \n",
       "75%    3387.500000           1.000000        3.000000    6.657300e+04   \n",
       "max    3772.000000           7.000000       15.000000    1.542336e+06   \n",
       "\n",
       "       party_amount_due  total_patenting_cost  \n",
       "count        295.000000            295.000000  \n",
       "mean        3937.021119          56910.782163  \n",
       "std        21470.445174          60015.548197  \n",
       "min            0.000000              0.000000  \n",
       "25%            0.000000          17310.285000  \n",
       "50%            0.000000          40222.790000  \n",
       "75%            0.000000          67868.860000  \n",
       "max       293052.820000         312287.850000  "
      ]
     },
     "execution_count": 159,
     "metadata": {},
     "output_type": "execute_result"
    }
   ],
   "source": [
    "df_pat_cost.loc[26:].describe()"
   ]
  },
  {
   "cell_type": "markdown",
   "id": "5b35b931",
   "metadata": {},
   "source": [
    "### Calculate median number of patents in patent family "
   ]
  },
  {
   "cell_type": "code",
   "execution_count": 160,
   "id": "0580ace4",
   "metadata": {},
   "outputs": [
    {
     "name": "stdout",
     "output_type": "stream",
     "text": [
      "Median number of patents per technology: 8.0\n"
     ]
    }
   ],
   "source": [
    "median = pat_2012.Patents_in_Tech.median() \n",
    "std = pat_2012.Patents_in_Tech.std()\n",
    "value = pat_2012.Patents_in_Tech\n",
    "\n",
    "outliers = (value-median).abs() > 2*std\n",
    "pat_2012.Patents_in_Tech.mask(outliers, other=median,  inplace=True)\n",
    "\n",
    "# Get average number of patents in tech family for cost purposes\n",
    "med_num_pats=pat_2012.Patents_in_Tech.median()\n",
    "print('Median number of patents per technology:', pat_2012.Patents_in_Tech.median())"
   ]
  },
  {
   "cell_type": "markdown",
   "id": "3435d64d",
   "metadata": {},
   "source": [
    "### Calculate annual cost savings based on modeling results \n",
    "\n",
    "#### True Negatives: 100\n",
    "\n",
    "#### Flase Positives: 10"
   ]
  },
  {
   "cell_type": "code",
   "execution_count": 162,
   "id": "1a57bc74",
   "metadata": {},
   "outputs": [
    {
     "name": "stdout",
     "output_type": "stream",
     "text": [
      "Median number of patents per technology: 8.0\n",
      "Average cost to get technology patented: 57721.64437000805\n",
      "Cost per patent: 7215.205546251006\n"
     ]
    }
   ],
   "source": [
    "print('Median number of patents per technology:', med_num_pats)\n",
    "print('Average cost to get technology patented:', avg_cost)\n",
    "cost_per_pat=avg_cost/med_num_pats\n",
    "print('Cost per patent:', avg_cost/med_num_pats)"
   ]
  },
  {
   "cell_type": "markdown",
   "id": "33c375a6",
   "metadata": {},
   "source": [
    "### Incorporation of patent modeling can reduce annual patenting costs by ~65,000 USD"
   ]
  },
  {
   "cell_type": "code",
   "execution_count": 166,
   "id": "cc0028fe",
   "metadata": {},
   "outputs": [
    {
     "name": "stdout",
     "output_type": "stream",
     "text": [
      "Annual Savings: 64937\n"
     ]
    }
   ],
   "source": [
    "print(\"Annual Savings:\", round((cost_per_pat*100-cost_per_pat*10)/10))"
   ]
  },
  {
   "cell_type": "markdown",
   "id": "11370647",
   "metadata": {},
   "source": [
    "# Get average number of patents in each technology "
   ]
  },
  {
   "cell_type": "code",
   "execution_count": 6,
   "id": "f6a427a9",
   "metadata": {},
   "outputs": [
    {
     "data": {
      "text/plain": [
       "44602.823749999996"
      ]
     },
     "execution_count": 6,
     "metadata": {},
     "output_type": "execute_result"
    }
   ],
   "source": [
    "ten = (102*(37959.85/8)) - (8*(37959.85/8))\n",
    "\n",
    "ten /10"
   ]
  },
  {
   "cell_type": "markdown",
   "id": "6571db12",
   "metadata": {},
   "source": [
    "### Extract Non-Compliant records and send to Polsky Center for Analysis"
   ]
  },
  {
   "cell_type": "code",
   "execution_count": 148,
   "id": "b9577853",
   "metadata": {},
   "outputs": [],
   "source": [
    "df_pat_cost.to_csv('patent_cost.csv')"
   ]
  }
 ],
 "metadata": {
  "kernelspec": {
   "display_name": "Python 3",
   "language": "python",
   "name": "python3"
  },
  "language_info": {
   "codemirror_mode": {
    "name": "ipython",
    "version": 3
   },
   "file_extension": ".py",
   "mimetype": "text/x-python",
   "name": "python",
   "nbconvert_exporter": "python",
   "pygments_lexer": "ipython3",
   "version": "3.8.8"
  }
 },
 "nbformat": 4,
 "nbformat_minor": 5
}
