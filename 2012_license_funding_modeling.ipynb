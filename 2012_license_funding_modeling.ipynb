{
 "cells": [
  {
   "cell_type": "markdown",
   "id": "b1890fc3",
   "metadata": {},
   "source": [
    "# License Funding Modeling "
   ]
  },
  {
   "cell_type": "markdown",
   "id": "074d53b6",
   "metadata": {},
   "source": [
    "## 0. Import required packages and load dataset "
   ]
  },
  {
   "cell_type": "code",
   "execution_count": 1,
   "id": "3109546b",
   "metadata": {
    "scrolled": true
   },
   "outputs": [],
   "source": [
    "# general packages\n",
    "import pandas as pd\n",
    "import matplotlib.pyplot as plt\n",
    "import pandas as pd\n",
    "import seaborn as sns\n",
    "import numpy as np\n",
    "from pprint import pprint\n",
    "import warnings\n",
    "#warnings.filterwarnings(\"ignore\")\n",
    "import pickle\n",
    "\n",
    "# sklearn packages\n",
    "from sklearn.model_selection import train_test_split\n",
    "from sklearn.preprocessing import StandardScaler\n",
    "from sklearn import linear_model, metrics\n",
    "from sklearn.model_selection import GridSearchCV, RepeatedStratifiedKFold, train_test_split, cross_val_score, RandomizedSearchCV\n",
    "from sklearn.naive_bayes import MultinomialNB\n",
    "from sklearn.neighbors import KNeighborsClassifier\n",
    "from sklearn.svm import LinearSVC\n",
    "from sklearn.tree import DecisionTreeClassifier\n",
    "from sklearn.pipeline import Pipeline\n",
    "from sklearn.model_selection import KFold\n",
    "from sklearn.ensemble import BaggingClassifier, AdaBoostClassifier, RandomForestClassifier, GradientBoostingClassifier\n",
    "from sklearn.metrics import plot_confusion_matrix,classification_report\n",
    "from xgboost import XGBClassifier\n",
    "\n",
    "# imbelearn package\n",
    "from imblearn.over_sampling import SMOTE"
   ]
  },
  {
   "cell_type": "markdown",
   "id": "6be1c4cf",
   "metadata": {},
   "source": [
    "## 1. Read data"
   ]
  },
  {
   "cell_type": "code",
   "execution_count": 2,
   "id": "54df83c4",
   "metadata": {},
   "outputs": [
    {
     "name": "stdout",
     "output_type": "stream",
     "text": [
      "<class 'pandas.core.frame.DataFrame'>\n",
      "RangeIndex: 1192 entries, 0 to 1191\n",
      "Data columns (total 41 columns):\n",
      " #   Column                                            Non-Null Count  Dtype  \n",
      "---  ------                                            --------------  -----  \n",
      " 0   Unnamed: 0                                        1192 non-null   int64  \n",
      " 1   Disclosure_Date                                   1192 non-null   float64\n",
      " 2   Country_WIPO_ID                                   1192 non-null   float64\n",
      " 3   Actually_File_Date                                1192 non-null   float64\n",
      " 4   Is_Priority                                       1192 non-null   float64\n",
      " 5   Lawfirm                                           1192 non-null   float64\n",
      " 6   Attorney                                          1192 non-null   float64\n",
      " 7   Number_of_Inventors                               1192 non-null   float64\n",
      " 8   Application_Type                                  1192 non-null   float64\n",
      " 9   Lead_Inventor                                     1192 non-null   float64\n",
      " 10  Division_Department                               1192 non-null   float64\n",
      " 11  Primary_Division                                  1192 non-null   float64\n",
      " 12  Owners                                            1192 non-null   float64\n",
      " 13  Ability_of_investigator_to_continue_research      1192 non-null   float64\n",
      " 14  Ability_to_advance_the_project_outside_the_lab    1192 non-null   float64\n",
      " 15  Compelling_nature_of_data                         1192 non-null   float64\n",
      " 16  Detectability_of_infringement_and_enforceability  1192 non-null   float64\n",
      " 17  Development_and_regulatory_path_for_the_product   1192 non-null   float64\n",
      " 18  Freedom-to-operate_FTO_issues                     1192 non-null   float64\n",
      " 19  Historical_cooperation_or_not_of_investigator     1192 non-null   float64\n",
      " 20  Identity_of_the_eventual_product                  1192 non-null   float64\n",
      " 21  Impact_of_patent_on_adoption_of_technology        1192 non-null   float64\n",
      " 22  Industrial_startup_co-ownership_of_the_IP         1192 non-null   float64\n",
      " 23  Institution                                       1192 non-null   float64\n",
      " 24  Licensing_interest_by_a_specific_company          1192 non-null   float64\n",
      " 25  Market_feedback                                   1192 non-null   float64\n",
      " 26  Nature_of_improvement_over_existing_art           1192 non-null   float64\n",
      " 27  Patentability_questions                           1192 non-null   float64\n",
      " 28  Risk_cost_sharing_w_other_institution             1192 non-null   float64\n",
      " 29  Size_of_Market                                    1192 non-null   float64\n",
      " 30  Stage_of_research                                 1192 non-null   float64\n",
      " 31  topic1                                            1192 non-null   float64\n",
      " 32  topic2                                            1192 non-null   float64\n",
      " 33  topic3                                            1192 non-null   float64\n",
      " 34  lda_topic                                         1192 non-null   float64\n",
      " 35  Licenses_in_Division                              1192 non-null   float64\n",
      " 36  Successful Licenses_in_Division                   1192 non-null   float64\n",
      " 37  Division_License_Success_Rate                     1192 non-null   float64\n",
      " 38  Licenses_in_Tech                                  1192 non-null   float64\n",
      " 39  Disclosure_to_Filing                              1192 non-null   float64\n",
      " 40  License_Status                                    1192 non-null   object \n",
      "dtypes: float64(39), int64(1), object(1)\n",
      "memory usage: 381.9+ KB\n"
     ]
    }
   ],
   "source": [
    "df = pd.read_csv('modeling_license_2012.csv', sep = ',')\n",
    "\n",
    "# print first few rows of df \n",
    "df.info()"
   ]
  },
  {
   "cell_type": "markdown",
   "id": "e5490393",
   "metadata": {},
   "source": [
    "## 2. Model Preprocessing"
   ]
  },
  {
   "cell_type": "code",
   "execution_count": 3,
   "id": "b3ad6870",
   "metadata": {},
   "outputs": [
    {
     "data": {
      "text/html": [
       "<div>\n",
       "<style scoped>\n",
       "    .dataframe tbody tr th:only-of-type {\n",
       "        vertical-align: middle;\n",
       "    }\n",
       "\n",
       "    .dataframe tbody tr th {\n",
       "        vertical-align: top;\n",
       "    }\n",
       "\n",
       "    .dataframe thead th {\n",
       "        text-align: right;\n",
       "    }\n",
       "</style>\n",
       "<table border=\"1\" class=\"dataframe\">\n",
       "  <thead>\n",
       "    <tr style=\"text-align: right;\">\n",
       "      <th></th>\n",
       "      <th>Disclosure_Date</th>\n",
       "      <th>Country_WIPO_ID</th>\n",
       "      <th>Actually_File_Date</th>\n",
       "      <th>Is_Priority</th>\n",
       "      <th>Lawfirm</th>\n",
       "      <th>Attorney</th>\n",
       "      <th>Number_of_Inventors</th>\n",
       "      <th>Application_Type</th>\n",
       "      <th>Lead_Inventor</th>\n",
       "      <th>Division_Department</th>\n",
       "      <th>...</th>\n",
       "      <th>topic1</th>\n",
       "      <th>topic2</th>\n",
       "      <th>topic3</th>\n",
       "      <th>lda_topic</th>\n",
       "      <th>Licenses_in_Division</th>\n",
       "      <th>Successful Licenses_in_Division</th>\n",
       "      <th>Division_License_Success_Rate</th>\n",
       "      <th>Licenses_in_Tech</th>\n",
       "      <th>Disclosure_to_Filing</th>\n",
       "      <th>License_Status</th>\n",
       "    </tr>\n",
       "  </thead>\n",
       "  <tbody>\n",
       "    <tr>\n",
       "      <th>0</th>\n",
       "      <td>0.620401</td>\n",
       "      <td>0.941176</td>\n",
       "      <td>0.041535</td>\n",
       "      <td>1.0</td>\n",
       "      <td>0.647059</td>\n",
       "      <td>0.784314</td>\n",
       "      <td>0.2</td>\n",
       "      <td>0.571429</td>\n",
       "      <td>0.887640</td>\n",
       "      <td>0.645161</td>\n",
       "      <td>...</td>\n",
       "      <td>0.034306</td>\n",
       "      <td>0.427883</td>\n",
       "      <td>0.550959</td>\n",
       "      <td>1.0</td>\n",
       "      <td>1.0</td>\n",
       "      <td>1.0</td>\n",
       "      <td>0.0</td>\n",
       "      <td>0.0</td>\n",
       "      <td>0.162785</td>\n",
       "      <td>1.0</td>\n",
       "    </tr>\n",
       "    <tr>\n",
       "      <th>1</th>\n",
       "      <td>0.725569</td>\n",
       "      <td>0.941176</td>\n",
       "      <td>0.199264</td>\n",
       "      <td>1.0</td>\n",
       "      <td>0.490196</td>\n",
       "      <td>0.509804</td>\n",
       "      <td>0.2</td>\n",
       "      <td>0.571429</td>\n",
       "      <td>0.331461</td>\n",
       "      <td>0.440860</td>\n",
       "      <td>...</td>\n",
       "      <td>0.032536</td>\n",
       "      <td>0.038858</td>\n",
       "      <td>0.950607</td>\n",
       "      <td>1.0</td>\n",
       "      <td>1.0</td>\n",
       "      <td>1.0</td>\n",
       "      <td>0.0</td>\n",
       "      <td>0.0</td>\n",
       "      <td>0.104683</td>\n",
       "      <td>1.0</td>\n",
       "    </tr>\n",
       "    <tr>\n",
       "      <th>2</th>\n",
       "      <td>0.800943</td>\n",
       "      <td>0.941176</td>\n",
       "      <td>0.422450</td>\n",
       "      <td>1.0</td>\n",
       "      <td>0.156863</td>\n",
       "      <td>0.843137</td>\n",
       "      <td>0.2</td>\n",
       "      <td>0.571429</td>\n",
       "      <td>0.926966</td>\n",
       "      <td>0.268817</td>\n",
       "      <td>...</td>\n",
       "      <td>0.736320</td>\n",
       "      <td>0.176054</td>\n",
       "      <td>0.108932</td>\n",
       "      <td>0.0</td>\n",
       "      <td>1.0</td>\n",
       "      <td>1.0</td>\n",
       "      <td>0.0</td>\n",
       "      <td>0.0</td>\n",
       "      <td>0.115452</td>\n",
       "      <td>0.0</td>\n",
       "    </tr>\n",
       "    <tr>\n",
       "      <th>3</th>\n",
       "      <td>0.700081</td>\n",
       "      <td>0.941176</td>\n",
       "      <td>0.153785</td>\n",
       "      <td>1.0</td>\n",
       "      <td>0.647059</td>\n",
       "      <td>0.784314</td>\n",
       "      <td>0.4</td>\n",
       "      <td>0.571429</td>\n",
       "      <td>0.853933</td>\n",
       "      <td>0.075269</td>\n",
       "      <td>...</td>\n",
       "      <td>0.178352</td>\n",
       "      <td>0.108110</td>\n",
       "      <td>0.734465</td>\n",
       "      <td>1.0</td>\n",
       "      <td>1.0</td>\n",
       "      <td>1.0</td>\n",
       "      <td>0.0</td>\n",
       "      <td>0.0</td>\n",
       "      <td>0.115327</td>\n",
       "      <td>0.0</td>\n",
       "    </tr>\n",
       "    <tr>\n",
       "      <th>4</th>\n",
       "      <td>0.866637</td>\n",
       "      <td>0.941176</td>\n",
       "      <td>0.640641</td>\n",
       "      <td>0.5</td>\n",
       "      <td>0.490196</td>\n",
       "      <td>0.509804</td>\n",
       "      <td>0.5</td>\n",
       "      <td>0.571429</td>\n",
       "      <td>0.331461</td>\n",
       "      <td>0.440860</td>\n",
       "      <td>...</td>\n",
       "      <td>0.205410</td>\n",
       "      <td>0.393692</td>\n",
       "      <td>0.415415</td>\n",
       "      <td>1.0</td>\n",
       "      <td>1.0</td>\n",
       "      <td>1.0</td>\n",
       "      <td>0.0</td>\n",
       "      <td>0.0</td>\n",
       "      <td>0.136113</td>\n",
       "      <td>1.0</td>\n",
       "    </tr>\n",
       "  </tbody>\n",
       "</table>\n",
       "<p>5 rows × 40 columns</p>\n",
       "</div>"
      ],
      "text/plain": [
       "   Disclosure_Date  Country_WIPO_ID  Actually_File_Date  Is_Priority  \\\n",
       "0         0.620401         0.941176            0.041535          1.0   \n",
       "1         0.725569         0.941176            0.199264          1.0   \n",
       "2         0.800943         0.941176            0.422450          1.0   \n",
       "3         0.700081         0.941176            0.153785          1.0   \n",
       "4         0.866637         0.941176            0.640641          0.5   \n",
       "\n",
       "    Lawfirm  Attorney  Number_of_Inventors  Application_Type  Lead_Inventor  \\\n",
       "0  0.647059  0.784314                  0.2          0.571429       0.887640   \n",
       "1  0.490196  0.509804                  0.2          0.571429       0.331461   \n",
       "2  0.156863  0.843137                  0.2          0.571429       0.926966   \n",
       "3  0.647059  0.784314                  0.4          0.571429       0.853933   \n",
       "4  0.490196  0.509804                  0.5          0.571429       0.331461   \n",
       "\n",
       "   Division_Department  ...    topic1    topic2    topic3  lda_topic  \\\n",
       "0             0.645161  ...  0.034306  0.427883  0.550959        1.0   \n",
       "1             0.440860  ...  0.032536  0.038858  0.950607        1.0   \n",
       "2             0.268817  ...  0.736320  0.176054  0.108932        0.0   \n",
       "3             0.075269  ...  0.178352  0.108110  0.734465        1.0   \n",
       "4             0.440860  ...  0.205410  0.393692  0.415415        1.0   \n",
       "\n",
       "   Licenses_in_Division  Successful Licenses_in_Division  \\\n",
       "0                   1.0                              1.0   \n",
       "1                   1.0                              1.0   \n",
       "2                   1.0                              1.0   \n",
       "3                   1.0                              1.0   \n",
       "4                   1.0                              1.0   \n",
       "\n",
       "   Division_License_Success_Rate  Licenses_in_Tech  Disclosure_to_Filing  \\\n",
       "0                            0.0               0.0              0.162785   \n",
       "1                            0.0               0.0              0.104683   \n",
       "2                            0.0               0.0              0.115452   \n",
       "3                            0.0               0.0              0.115327   \n",
       "4                            0.0               0.0              0.136113   \n",
       "\n",
       "   License_Status  \n",
       "0             1.0  \n",
       "1             1.0  \n",
       "2             0.0  \n",
       "3             0.0  \n",
       "4             1.0  \n",
       "\n",
       "[5 rows x 40 columns]"
      ]
     },
     "execution_count": 3,
     "metadata": {},
     "output_type": "execute_result"
    }
   ],
   "source": [
    "# drop unamed column \n",
    "df = df.drop(df.columns[0], axis=1)\n",
    "\n",
    "# Remove row with null patent_status\n",
    "df = df.dropna(subset=['License_Status'])\n",
    "\n",
    "# convert funding status to binary \n",
    "df.loc[df['License_Status']=='no_license', 'License_Status'] = 0\n",
    "df.loc[df['License_Status']=='license', 'License_Status'] = 1\n",
    "df[\"License_Status\"] = df.License_Status.astype(float)\n",
    "\n",
    "df.head()"
   ]
  },
  {
   "cell_type": "code",
   "execution_count": 4,
   "id": "494a92d9",
   "metadata": {
    "scrolled": true
   },
   "outputs": [
    {
     "name": "stderr",
     "output_type": "stream",
     "text": [
      "/var/folders/34/jx7syzxj4gb7wqhvvcjq6rgr0000gn/T/ipykernel_84346/3739957888.py:5: DeprecationWarning: `np.bool` is a deprecated alias for the builtin `bool`. To silence this warning, use `bool` by itself. Doing this will not modify any behavior and is safe. If you specifically wanted the numpy scalar type, use `np.bool_` here.\n",
      "Deprecated in NumPy 1.20; for more details and guidance: https://numpy.org/devdocs/release/1.20.0-notes.html#deprecations\n",
      "  upper = corr_matrix.where(np.triu(np.ones(corr_matrix.shape), k=1).astype(np.bool))\n"
     ]
    },
    {
     "data": {
      "text/plain": [
       "['Licenses_in_Division', 'Successful Licenses_in_Division']"
      ]
     },
     "execution_count": 4,
     "metadata": {},
     "output_type": "execute_result"
    }
   ],
   "source": [
    "# Create correlation matrix\n",
    "corr_matrix = df.corr().abs()\n",
    "\n",
    "# Select upper triangle of correlation matrix\n",
    "upper = corr_matrix.where(np.triu(np.ones(corr_matrix.shape), k=1).astype(np.bool))\n",
    "\n",
    "# Find features with correlation greater than 0.90\n",
    "to_drop = [column for column in upper.columns if any(upper[column] > 0.90)]\n",
    "\n",
    "# Keeping the highly correlated features attains higher model scoring, so we will keep\n",
    "to_drop\n",
    "\n",
    "# # Drop features \n",
    "#df.drop(to_drop, axis=1, inplace=True)"
   ]
  },
  {
   "cell_type": "code",
   "execution_count": 5,
   "id": "44d9d647",
   "metadata": {},
   "outputs": [
    {
     "data": {
      "text/plain": [
       "(953, 953, 239, 239, 1192)"
      ]
     },
     "execution_count": 5,
     "metadata": {},
     "output_type": "execute_result"
    }
   ],
   "source": [
    "X = df.iloc[:, 0:39]\n",
    "y = df.iloc[:, 39]\n",
    "x_train, x_test, y_train, y_test = train_test_split(X, y, test_size = 0.2, stratify = y)\n",
    "\n",
    "# check split of data\n",
    "len(x_train), len(y_train), len(x_test), len(y_test), len(df)"
   ]
  },
  {
   "cell_type": "code",
   "execution_count": 6,
   "id": "dc105cb6",
   "metadata": {},
   "outputs": [
    {
     "name": "stdout",
     "output_type": "stream",
     "text": [
      "(1488, 39)\n",
      "(1488,)\n",
      "1.0    0.5\n",
      "0.0    0.5\n",
      "Name: License_Status, dtype: float64\n"
     ]
    }
   ],
   "source": [
    "# Employment of SMOTE to oversample skewed funding outputs. This yields better results \n",
    "sm = SMOTE()\n",
    "x_train, y_train = sm.fit_resample(x_train, y_train)\n",
    "\n",
    "# check shape of x_train and y_train, and new response variable ratio\n",
    "print(x_train.shape)\n",
    "print(y_train.shape)\n",
    "print(y_train.value_counts(normalize = True))"
   ]
  },
  {
   "cell_type": "markdown",
   "id": "d5e54a01",
   "metadata": {},
   "source": [
    "## 3. Binary Classification Modeling Pipeline\n",
    "\n",
    "\n",
    "### Ensemble learning models perform better than standard binary classification models\n",
    "In this section, we train a number of models using the default model setting and compare their performance using f1 score. We will select the top 3 models to further explore in the next section."
   ]
  },
  {
   "cell_type": "code",
   "execution_count": 7,
   "id": "e2437929",
   "metadata": {
    "scrolled": true
   },
   "outputs": [
    {
     "name": "stderr",
     "output_type": "stream",
     "text": [
      "/opt/anaconda3/lib/python3.9/site-packages/sklearn/linear_model/_logistic.py:444: ConvergenceWarning: lbfgs failed to converge (status=1):\n",
      "STOP: TOTAL NO. of ITERATIONS REACHED LIMIT.\n",
      "\n",
      "Increase the number of iterations (max_iter) or scale the data as shown in:\n",
      "    https://scikit-learn.org/stable/modules/preprocessing.html\n",
      "Please also refer to the documentation for alternative solver options:\n",
      "    https://scikit-learn.org/stable/modules/linear_model.html#logistic-regression\n",
      "  n_iter_i = _check_optimize_result(\n",
      "/opt/anaconda3/lib/python3.9/site-packages/sklearn/linear_model/_logistic.py:444: ConvergenceWarning: lbfgs failed to converge (status=1):\n",
      "STOP: TOTAL NO. of ITERATIONS REACHED LIMIT.\n",
      "\n",
      "Increase the number of iterations (max_iter) or scale the data as shown in:\n",
      "    https://scikit-learn.org/stable/modules/preprocessing.html\n",
      "Please also refer to the documentation for alternative solver options:\n",
      "    https://scikit-learn.org/stable/modules/linear_model.html#logistic-regression\n",
      "  n_iter_i = _check_optimize_result(\n",
      "/opt/anaconda3/lib/python3.9/site-packages/sklearn/linear_model/_logistic.py:444: ConvergenceWarning: lbfgs failed to converge (status=1):\n",
      "STOP: TOTAL NO. of ITERATIONS REACHED LIMIT.\n",
      "\n",
      "Increase the number of iterations (max_iter) or scale the data as shown in:\n",
      "    https://scikit-learn.org/stable/modules/preprocessing.html\n",
      "Please also refer to the documentation for alternative solver options:\n",
      "    https://scikit-learn.org/stable/modules/linear_model.html#logistic-regression\n",
      "  n_iter_i = _check_optimize_result(\n",
      "/opt/anaconda3/lib/python3.9/site-packages/sklearn/linear_model/_logistic.py:444: ConvergenceWarning: lbfgs failed to converge (status=1):\n",
      "STOP: TOTAL NO. of ITERATIONS REACHED LIMIT.\n",
      "\n",
      "Increase the number of iterations (max_iter) or scale the data as shown in:\n",
      "    https://scikit-learn.org/stable/modules/preprocessing.html\n",
      "Please also refer to the documentation for alternative solver options:\n",
      "    https://scikit-learn.org/stable/modules/linear_model.html#logistic-regression\n",
      "  n_iter_i = _check_optimize_result(\n"
     ]
    },
    {
     "name": "stdout",
     "output_type": "stream",
     "text": [
      "LogisticRegression: 0.800465 (0.026458)\n",
      "KNearestNeighbors: 0.882472 (0.023332)\n",
      "LinearSVC: 0.813596 (0.023017)\n",
      "DecisionTree: 0.914130 (0.032799)\n",
      "BaggingClassifier: 0.927885 (0.016832)\n",
      "BoostClassifier: 0.898580 (0.010906)\n",
      "RandomForest: 0.953400 (0.012456)\n",
      "GradientBoost: 0.939994 (0.015683)\n",
      "XGBoosting: 0.964824 (0.012618)\n"
     ]
    }
   ],
   "source": [
    "pipelines = []\n",
    "# Standard binary classification models \n",
    "pipelines.append(('LogisticRegression', Pipeline([('LR',linear_model.LogisticRegression())])))\n",
    "pipelines.append(('KNearestNeighbors', Pipeline([('KNN',KNeighborsClassifier())])))\n",
    "pipelines.append(('LinearSVC', Pipeline([('SVC',LinearSVC())])))\n",
    "pipelines.append(('DecisionTree', Pipeline([('DTREE',DecisionTreeClassifier())])))\n",
    "# Employment of ensemble learning \n",
    "pipelines.append(('BaggingClassifier', Pipeline([('BAG',BaggingClassifier())])))\n",
    "pipelines.append(('BoostClassifier', Pipeline([('BOOST',AdaBoostClassifier())])))\n",
    "pipelines.append(('RandomForest', Pipeline([('FOREST',RandomForestClassifier())])))\n",
    "pipelines.append(('GradientBoost', Pipeline([('GBoost',GradientBoostingClassifier())])))\n",
    "pipelines.append(('XGBoosting', Pipeline([('XGBoost',XGBClassifier(objective='binary:logistic', eval_metric='error'))])))\n",
    "\n",
    "results = []\n",
    "names = []\n",
    "for name, model in pipelines:\n",
    "    kfold = KFold(n_splits=10, random_state=42, shuffle=True)\n",
    "    cv_results = cross_val_score(model, x_train, y_train, cv=kfold, scoring='f1')\n",
    "    results.append(cv_results)\n",
    "    names.append(name)\n",
    "    msg = \"%s: %f (%f)\" % (name, cv_results.mean(), cv_results.std())\n",
    "    print(msg)\n",
    "    "
   ]
  },
  {
   "cell_type": "markdown",
   "id": "814dbff5",
   "metadata": {},
   "source": [
    "### Models with top f1 score:\n",
    "1. RandomForest\n",
    "2. XGBoost\n",
    "3. GradientBoost"
   ]
  },
  {
   "cell_type": "markdown",
   "id": "a4a25365",
   "metadata": {},
   "source": [
    "## 4. Model Outputs for selected models\n",
    "\n",
    "In this section, we double tap into the 6 models with top f1 scores. We read their confusion matrix to make sure the Type I and Type II errors are not too high. We also predict the trianing, testing and CV datasets using each model to compile a table where we can compare results from each round. The goal is to see how much a gap there is for each model between training and testing results and between trianing and CV results to avoid overfitting problem."
   ]
  },
  {
   "cell_type": "code",
   "execution_count": 8,
   "id": "7fbceb34",
   "metadata": {},
   "outputs": [],
   "source": [
    "def roc_curve(model):\n",
    "    probs = model.predict_proba(x_test)\n",
    "    preds = probs[:,1]\n",
    "    fpr, tpr, threshold = metrics.roc_curve(y_test, preds)\n",
    "    roc_auc = metrics.auc(fpr, tpr)\n",
    "\n",
    "    plt.figure()\n",
    "    plt.plot(fpr, tpr, label='GridSearchCV (area = %0.2f)' % roc_auc)\n",
    "    plt.plot([0, 1], [0, 1],'r--')\n",
    "    plt.xlim([0.0, 1.0])\n",
    "    plt.ylim([0.0, 1.05])\n",
    "    plt.xlabel('False Positive Rate')\n",
    "    plt.ylabel('True Positive Rate')\n",
    "    plt.title('Receiver operating characteristic')\n",
    "    plt.legend(loc=\"lower right\")\n",
    "    plt.savefig('Log_ROC')\n",
    "    plt.show()"
   ]
  },
  {
   "cell_type": "code",
   "execution_count": 9,
   "id": "6c156fa6",
   "metadata": {},
   "outputs": [],
   "source": [
    "def fitting_score(train_predictions, test_predictions, model):\n",
    "    # Evaluate the train, test and CV metrics\n",
    "    # train\n",
    "    train_recall = metrics.recall_score(y_train, train_predictions, average='macro')\n",
    "    train_precision = metrics.precision_score(y_train, train_predictions, average='macro')\n",
    "    train_f1 = metrics.f1_score(y_train, train_predictions, average='macro')\n",
    "\n",
    "    # test\n",
    "    test_recall = metrics.recall_score(y_test, test_predictions, average='macro')\n",
    "    test_precision = metrics.precision_score(y_test, test_predictions, average='macro')\n",
    "    test_f1 = metrics.f1_score(y_test, test_predictions, average='macro')\n",
    "\n",
    "    # CV\n",
    "    cv_recall = cross_val_score(model, x_train, y_train, cv=5, scoring='recall', n_jobs=-1).mean()\n",
    "    cv_precision = cross_val_score(model, x_train, y_train, cv=5, scoring='precision', n_jobs=-1).mean()\n",
    "    cv_f1 = cross_val_score(model, x_train, y_train, cv=5, scoring='f1', n_jobs=-1).mean()\n",
    "    \n",
    "    # Put everything in a table\n",
    "    d = {'train': [train_recall, train_precision, train_f1], 'test': [test_recall, test_precision, test_f1],\n",
    "        'cv':[cv_recall, cv_precision, cv_f1]}\n",
    "    score_df = pd.DataFrame(data=d, index=['recall', 'precision', 'f1'])\n",
    "    return score_df.round(decimals=3)"
   ]
  },
  {
   "cell_type": "markdown",
   "id": "11567a48",
   "metadata": {},
   "source": [
    "### 4.1. Random Forest "
   ]
  },
  {
   "cell_type": "code",
   "execution_count": 10,
   "id": "229d1059",
   "metadata": {},
   "outputs": [
    {
     "name": "stderr",
     "output_type": "stream",
     "text": [
      "/opt/anaconda3/lib/python3.9/site-packages/sklearn/utils/deprecation.py:87: FutureWarning: Function plot_confusion_matrix is deprecated; Function `plot_confusion_matrix` is deprecated in 1.0 and will be removed in 1.2. Use one of the class methods: ConfusionMatrixDisplay.from_predictions or ConfusionMatrixDisplay.from_estimator.\n",
      "  warnings.warn(msg, category=FutureWarning)\n"
     ]
    },
    {
     "data": {
      "image/png": "[encoded data removed]",
      "text/plain": [
       "<Figure size 432x288 with 2 Axes>"
      ]
     },
     "metadata": {
      "needs_background": "light"
     },
     "output_type": "display_data"
    },
    {
     "name": "stdout",
     "output_type": "stream",
     "text": [
      "\n",
      "Random Forest Confusion Matrix\n",
      "               precision    recall  f1-score   support\n",
      "\n",
      "         0.0       0.75      0.77      0.76        52\n",
      "         1.0       0.94      0.93      0.93       187\n",
      "\n",
      "    accuracy                           0.90       239\n",
      "   macro avg       0.85      0.85      0.85       239\n",
      "weighted avg       0.90      0.90      0.90       239\n",
      "\n",
      "\n",
      "Accuracy: 0.895\n",
      "\n",
      " Random Forest Train/Test/CV Scoring\n"
     ]
    },
    {
     "data": {
      "text/html": [
       "<div>\n",
       "<style scoped>\n",
       "    .dataframe tbody tr th:only-of-type {\n",
       "        vertical-align: middle;\n",
       "    }\n",
       "\n",
       "    .dataframe tbody tr th {\n",
       "        vertical-align: top;\n",
       "    }\n",
       "\n",
       "    .dataframe thead th {\n",
       "        text-align: right;\n",
       "    }\n",
       "</style>\n",
       "<table border=\"1\" class=\"dataframe\">\n",
       "  <thead>\n",
       "    <tr style=\"text-align: right;\">\n",
       "      <th></th>\n",
       "      <th>train</th>\n",
       "      <th>test</th>\n",
       "      <th>cv</th>\n",
       "    </tr>\n",
       "  </thead>\n",
       "  <tbody>\n",
       "    <tr>\n",
       "      <th>recall</th>\n",
       "      <td>1.0</td>\n",
       "      <td>0.850</td>\n",
       "      <td>0.930</td>\n",
       "    </tr>\n",
       "    <tr>\n",
       "      <th>precision</th>\n",
       "      <td>1.0</td>\n",
       "      <td>0.845</td>\n",
       "      <td>0.975</td>\n",
       "    </tr>\n",
       "    <tr>\n",
       "      <th>f1</th>\n",
       "      <td>1.0</td>\n",
       "      <td>0.847</td>\n",
       "      <td>0.951</td>\n",
       "    </tr>\n",
       "  </tbody>\n",
       "</table>\n",
       "</div>"
      ],
      "text/plain": [
       "           train   test     cv\n",
       "recall       1.0  0.850  0.930\n",
       "precision    1.0  0.845  0.975\n",
       "f1           1.0  0.847  0.951"
      ]
     },
     "execution_count": 10,
     "metadata": {},
     "output_type": "execute_result"
    }
   ],
   "source": [
    "#Produce and save the model, then load and apply the model.\n",
    "rfc = RandomForestClassifier(random_state=42)\n",
    "rfc.fit(x_train, y_train)\n",
    "rfc_predictions = rfc.predict(x_test)\n",
    "rfc_predictions_train=rfc.predict(x_train)\n",
    "\n",
    "rfc_matrix = metrics.confusion_matrix(y_test,rfc_predictions)\n",
    "\n",
    "plot_confusion_matrix(rfc, x_test, y_test)  \n",
    "plt.show()\n",
    "\n",
    "class_report_rfc = classification_report(y_test, rfc_predictions)\n",
    "print(\"\\nRandom Forest Confusion Matrix\\n\",class_report_rfc)\n",
    "\n",
    "print(\"\\nAccuracy:\",round(metrics.accuracy_score(y_test,rfc_predictions),3))\n",
    "\n",
    "\n",
    "print('\\n Random Forest Train/Test/CV Scoring')\n",
    "fitting_score(rfc_predictions_train, rfc_predictions, rfc)"
   ]
  },
  {
   "cell_type": "code",
   "execution_count": 11,
   "id": "cb8b967a",
   "metadata": {
    "scrolled": false
   },
   "outputs": [
    {
     "data": {
      "image/png": "[encoded data removed]",
      "text/plain": [
       "<Figure size 1440x1872 with 1 Axes>"
      ]
     },
     "metadata": {
      "needs_background": "light"
     },
     "output_type": "display_data"
    }
   ],
   "source": [
    "# Review feature importance in descending order\n",
    "features = X.columns\n",
    "importances = rfc.feature_importances_\n",
    "indices = np.argsort(importances)\n",
    "\n",
    "plt.figure(figsize=(20, 26))\n",
    "plt.title('Feature Importance', fontsize=20)\n",
    "plt.barh(range(len(indices)), importances[indices], color='cornflowerblue', align='center')\n",
    "plt.yticks(range(len(indices)), [features[i] for i in indices], fontsize=15)\n",
    "plt.xlabel('Importance', fontsize=20)\n",
    "plt.show()"
   ]
  },
  {
   "cell_type": "code",
   "execution_count": 12,
   "id": "d0b20e6b",
   "metadata": {
    "scrolled": true
   },
   "outputs": [
    {
     "data": {
      "image/png": "[encoded data removed]",
      "text/plain": [
       "<Figure size 432x288 with 1 Axes>"
      ]
     },
     "metadata": {
      "needs_background": "light"
     },
     "output_type": "display_data"
    }
   ],
   "source": [
    "roc_curve(rfc)"
   ]
  },
  {
   "cell_type": "markdown",
   "id": "b1089e67",
   "metadata": {},
   "source": [
    "### 4.2 XGBoost "
   ]
  },
  {
   "cell_type": "code",
   "execution_count": 13,
   "id": "d917655a",
   "metadata": {},
   "outputs": [
    {
     "name": "stderr",
     "output_type": "stream",
     "text": [
      "/opt/anaconda3/lib/python3.9/site-packages/sklearn/utils/deprecation.py:87: FutureWarning: Function plot_confusion_matrix is deprecated; Function `plot_confusion_matrix` is deprecated in 1.0 and will be removed in 1.2. Use one of the class methods: ConfusionMatrixDisplay.from_predictions or ConfusionMatrixDisplay.from_estimator.\n",
      "  warnings.warn(msg, category=FutureWarning)\n"
     ]
    },
    {
     "data": {
      "image/png": "[encoded data removed]",
      "text/plain": [
       "<Figure size 432x288 with 2 Axes>"
      ]
     },
     "metadata": {
      "needs_background": "light"
     },
     "output_type": "display_data"
    },
    {
     "name": "stdout",
     "output_type": "stream",
     "text": [
      "\n",
      "Gradient Boosting Classifier Confusion Matrix\n",
      "               precision    recall  f1-score   support\n",
      "\n",
      "         0.0       0.67      0.79      0.73        52\n",
      "         1.0       0.94      0.89      0.92       187\n",
      "\n",
      "    accuracy                           0.87       239\n",
      "   macro avg       0.81      0.84      0.82       239\n",
      "weighted avg       0.88      0.87      0.87       239\n",
      "\n",
      "\n",
      "Accuracy: 0.87\n",
      "\n",
      " Gradient Boosting Classification Train/Test/CV Scoring\n"
     ]
    },
    {
     "data": {
      "text/html": [
       "<div>\n",
       "<style scoped>\n",
       "    .dataframe tbody tr th:only-of-type {\n",
       "        vertical-align: middle;\n",
       "    }\n",
       "\n",
       "    .dataframe tbody tr th {\n",
       "        vertical-align: top;\n",
       "    }\n",
       "\n",
       "    .dataframe thead th {\n",
       "        text-align: right;\n",
       "    }\n",
       "</style>\n",
       "<table border=\"1\" class=\"dataframe\">\n",
       "  <thead>\n",
       "    <tr style=\"text-align: right;\">\n",
       "      <th></th>\n",
       "      <th>train</th>\n",
       "      <th>test</th>\n",
       "      <th>cv</th>\n",
       "    </tr>\n",
       "  </thead>\n",
       "  <tbody>\n",
       "    <tr>\n",
       "      <th>recall</th>\n",
       "      <td>0.962</td>\n",
       "      <td>0.841</td>\n",
       "      <td>0.915</td>\n",
       "    </tr>\n",
       "    <tr>\n",
       "      <th>precision</th>\n",
       "      <td>0.962</td>\n",
       "      <td>0.805</td>\n",
       "      <td>0.936</td>\n",
       "    </tr>\n",
       "    <tr>\n",
       "      <th>f1</th>\n",
       "      <td>0.962</td>\n",
       "      <td>0.820</td>\n",
       "      <td>0.924</td>\n",
       "    </tr>\n",
       "  </tbody>\n",
       "</table>\n",
       "</div>"
      ],
      "text/plain": [
       "           train   test     cv\n",
       "recall     0.962  0.841  0.915\n",
       "precision  0.962  0.805  0.936\n",
       "f1         0.962  0.820  0.924"
      ]
     },
     "execution_count": 13,
     "metadata": {},
     "output_type": "execute_result"
    }
   ],
   "source": [
    "#Produce and save the model, then load and apply the model.\n",
    "# Initial estimations for XGBoost were included within the model \n",
    "xgb = XGBClassifier(random_state=42, objective='binary:logistic', eval_metric='error', gamma=10,\n",
    "                   colsample_bytree=0.25, learning_rate=0.1, n_estimators=200, reg_lambda=1)\n",
    "xgb.fit(x_train, y_train)\n",
    "xgb_predictions = xgb.predict(x_test)\n",
    "xgb_predictions_train = xgb.predict(x_train)\n",
    "\n",
    "xgb_matrix = metrics.confusion_matrix(y_test,xgb_predictions)\n",
    "\n",
    "plot_confusion_matrix(xgb, x_test, y_test)  \n",
    "plt.show()\n",
    "\n",
    "class_report_xgb = classification_report(y_test, xgb_predictions)\n",
    "print(\"\\nXGBoost Confusion Matrix\\n\",class_report_xgb)\n",
    "\n",
    "print(\"\\nAccuracy:\",round(metrics.accuracy_score(y_test,xgb_predictions),3))\n",
    "\n",
    "print('\\nXGBoost Train/Test/CV Scoring')\n",
    "fitting_score(xgb_predictions_train, xgb_predictions, xgb)"
   ]
  },
  {
   "cell_type": "code",
   "execution_count": 14,
   "id": "f656a8b7",
   "metadata": {},
   "outputs": [
    {
     "data": {
      "image/png": "[encoded data removed]",
      "text/plain": [
       "<Figure size 432x288 with 1 Axes>"
      ]
     },
     "metadata": {
      "needs_background": "light"
     },
     "output_type": "display_data"
    }
   ],
   "source": [
    "roc_curve(xgb)"
   ]
  },
  {
   "cell_type": "markdown",
   "id": "cca77363",
   "metadata": {},
   "source": [
    "### 4.3. Gradient Boosting "
   ]
  },
  {
   "cell_type": "code",
   "execution_count": 15,
   "id": "147ba9fe",
   "metadata": {
    "scrolled": false
   },
   "outputs": [
    {
     "name": "stderr",
     "output_type": "stream",
     "text": [
      "/opt/anaconda3/lib/python3.9/site-packages/sklearn/utils/deprecation.py:87: FutureWarning: Function plot_confusion_matrix is deprecated; Function `plot_confusion_matrix` is deprecated in 1.0 and will be removed in 1.2. Use one of the class methods: ConfusionMatrixDisplay.from_predictions or ConfusionMatrixDisplay.from_estimator.\n",
      "  warnings.warn(msg, category=FutureWarning)\n"
     ]
    },
    {
     "data": {
      "image/png": "[encoded data removed]",
      "text/plain": [
       "<Figure size 432x288 with 2 Axes>"
      ]
     },
     "metadata": {
      "needs_background": "light"
     },
     "output_type": "display_data"
    },
    {
     "name": "stdout",
     "output_type": "stream",
     "text": [
      "\n",
      "Gradient Boosting Classifier Confusion Matrix\n",
      "               precision    recall  f1-score   support\n",
      "\n",
      "         0.0       0.66      0.81      0.72        52\n",
      "         1.0       0.94      0.88      0.91       187\n",
      "\n",
      "    accuracy                           0.87       239\n",
      "   macro avg       0.80      0.85      0.82       239\n",
      "weighted avg       0.88      0.87      0.87       239\n",
      "\n",
      "\n",
      "Accuracy: 0.866\n",
      "\n",
      " Gradient Boosting Classification Train/Test/CV Scoring\n"
     ]
    },
    {
     "data": {
      "text/html": [
       "<div>\n",
       "<style scoped>\n",
       "    .dataframe tbody tr th:only-of-type {\n",
       "        vertical-align: middle;\n",
       "    }\n",
       "\n",
       "    .dataframe tbody tr th {\n",
       "        vertical-align: top;\n",
       "    }\n",
       "\n",
       "    .dataframe thead th {\n",
       "        text-align: right;\n",
       "    }\n",
       "</style>\n",
       "<table border=\"1\" class=\"dataframe\">\n",
       "  <thead>\n",
       "    <tr style=\"text-align: right;\">\n",
       "      <th></th>\n",
       "      <th>train</th>\n",
       "      <th>test</th>\n",
       "      <th>cv</th>\n",
       "    </tr>\n",
       "  </thead>\n",
       "  <tbody>\n",
       "    <tr>\n",
       "      <th>recall</th>\n",
       "      <td>0.981</td>\n",
       "      <td>0.845</td>\n",
       "      <td>0.919</td>\n",
       "    </tr>\n",
       "    <tr>\n",
       "      <th>precision</th>\n",
       "      <td>0.982</td>\n",
       "      <td>0.800</td>\n",
       "      <td>0.953</td>\n",
       "    </tr>\n",
       "    <tr>\n",
       "      <th>f1</th>\n",
       "      <td>0.981</td>\n",
       "      <td>0.818</td>\n",
       "      <td>0.935</td>\n",
       "    </tr>\n",
       "  </tbody>\n",
       "</table>\n",
       "</div>"
      ],
      "text/plain": [
       "           train   test     cv\n",
       "recall     0.981  0.845  0.919\n",
       "precision  0.982  0.800  0.953\n",
       "f1         0.981  0.818  0.935"
      ]
     },
     "execution_count": 15,
     "metadata": {},
     "output_type": "execute_result"
    }
   ],
   "source": [
    "#Produce and save the model, then load and apply the model.\n",
    "gbm = GradientBoostingClassifier(random_state=42)\n",
    "gbm.fit(x_train, y_train)\n",
    "gbm_predictions = gbm.predict(x_test)\n",
    "gbm_predictions_train = gbm.predict(x_train)\n",
    "\n",
    "gbm_matrix = metrics.confusion_matrix(y_test,gbm_predictions)\n",
    "\n",
    "plot_confusion_matrix(gbm, x_test, y_test)  \n",
    "plt.show()\n",
    "\n",
    "class_report_gbm = classification_report(y_test, gbm_predictions)\n",
    "print(\"\\nGradient Boosting Classifier Confusion Matrix\\n\",class_report_gbm)\n",
    "\n",
    "print(\"\\nAccuracy:\",round(metrics.accuracy_score(y_test,gbm_predictions),3))\n",
    "\n",
    "print('\\n Gradient Boosting Classification Train/Test/CV Scoring')\n",
    "fitting_score(gbm_predictions_train, gbm_predictions, gbm)"
   ]
  },
  {
   "cell_type": "code",
   "execution_count": 16,
   "id": "aa4aa544",
   "metadata": {
    "scrolled": true
   },
   "outputs": [
    {
     "data": {
      "image/png": "[encoded data removed]",
      "text/plain": [
       "<Figure size 432x288 with 1 Axes>"
      ]
     },
     "metadata": {
      "needs_background": "light"
     },
     "output_type": "display_data"
    }
   ],
   "source": [
    "roc_curve(gbm)"
   ]
  },
  {
   "cell_type": "markdown",
   "id": "690982ce",
   "metadata": {},
   "source": [
    "## 5. Hyperparameter Tuning\n",
    "In this section, we further select the top 3 models to perform hyperparameter tuning. We are uisng grid search to look for the best combination of different model parameter settings. We also perform additional manual tuning on the parameters if there is significant overfitting."
   ]
  },
  {
   "cell_type": "markdown",
   "id": "542ae92b",
   "metadata": {},
   "source": [
    "### 5.1. Parameter Tuning for Random Forest (best f1 test scoring, but overfitting occurring)"
   ]
  },
  {
   "cell_type": "code",
   "execution_count": 17,
   "id": "2bf98865",
   "metadata": {},
   "outputs": [
    {
     "name": "stdout",
     "output_type": "stream",
     "text": [
      "Fitting 3 folds for each of 500 candidates, totalling 1500 fits\n"
     ]
    },
    {
     "data": {
      "text/html": [
       "<style>#sk-container-id-1 {color: black;background-color: white;}#sk-container-id-1 pre{padding: 0;}#sk-container-id-1 div.sk-toggleable {background-color: white;}#sk-container-id-1 label.sk-toggleable__label {cursor: pointer;display: block;width: 100%;margin-bottom: 0;padding: 0.3em;box-sizing: border-box;text-align: center;}#sk-container-id-1 label.sk-toggleable__label-arrow:before {content: \"▸\";float: left;margin-right: 0.25em;color: #696969;}#sk-container-id-1 label.sk-toggleable__label-arrow:hover:before {color: black;}#sk-container-id-1 div.sk-estimator:hover label.sk-toggleable__label-arrow:before {color: black;}#sk-container-id-1 div.sk-toggleable__content {max-height: 0;max-width: 0;overflow: hidden;text-align: left;background-color: #f0f8ff;}#sk-container-id-1 div.sk-toggleable__content pre {margin: 0.2em;color: black;border-radius: 0.25em;background-color: #f0f8ff;}#sk-container-id-1 input.sk-toggleable__control:checked~div.sk-toggleable__content {max-height: 200px;max-width: 100%;overflow: auto;}#sk-container-id-1 input.sk-toggleable__control:checked~label.sk-toggleable__label-arrow:before {content: \"▾\";}#sk-container-id-1 div.sk-estimator input.sk-toggleable__control:checked~label.sk-toggleable__label {background-color: #d4ebff;}#sk-container-id-1 div.sk-label input.sk-toggleable__control:checked~label.sk-toggleable__label {background-color: #d4ebff;}#sk-container-id-1 input.sk-hidden--visually {border: 0;clip: rect(1px 1px 1px 1px);clip: rect(1px, 1px, 1px, 1px);height: 1px;margin: -1px;overflow: hidden;padding: 0;position: absolute;width: 1px;}#sk-container-id-1 div.sk-estimator {font-family: monospace;background-color: #f0f8ff;border: 1px dotted black;border-radius: 0.25em;box-sizing: border-box;margin-bottom: 0.5em;}#sk-container-id-1 div.sk-estimator:hover {background-color: #d4ebff;}#sk-container-id-1 div.sk-parallel-item::after {content: \"\";width: 100%;border-bottom: 1px solid gray;flex-grow: 1;}#sk-container-id-1 div.sk-label:hover label.sk-toggleable__label {background-color: #d4ebff;}#sk-container-id-1 div.sk-serial::before {content: \"\";position: absolute;border-left: 1px solid gray;box-sizing: border-box;top: 0;bottom: 0;left: 50%;z-index: 0;}#sk-container-id-1 div.sk-serial {display: flex;flex-direction: column;align-items: center;background-color: white;padding-right: 0.2em;padding-left: 0.2em;position: relative;}#sk-container-id-1 div.sk-item {position: relative;z-index: 1;}#sk-container-id-1 div.sk-parallel {display: flex;align-items: stretch;justify-content: center;background-color: white;position: relative;}#sk-container-id-1 div.sk-item::before, #sk-container-id-1 div.sk-parallel-item::before {content: \"\";position: absolute;border-left: 1px solid gray;box-sizing: border-box;top: 0;bottom: 0;left: 50%;z-index: -1;}#sk-container-id-1 div.sk-parallel-item {display: flex;flex-direction: column;z-index: 1;position: relative;background-color: white;}#sk-container-id-1 div.sk-parallel-item:first-child::after {align-self: flex-end;width: 50%;}#sk-container-id-1 div.sk-parallel-item:last-child::after {align-self: flex-start;width: 50%;}#sk-container-id-1 div.sk-parallel-item:only-child::after {width: 0;}#sk-container-id-1 div.sk-dashed-wrapped {border: 1px dashed gray;margin: 0 0.4em 0.5em 0.4em;box-sizing: border-box;padding-bottom: 0.4em;background-color: white;}#sk-container-id-1 div.sk-label label {font-family: monospace;font-weight: bold;display: inline-block;line-height: 1.2em;}#sk-container-id-1 div.sk-label-container {text-align: center;}#sk-container-id-1 div.sk-container {/* jupyter's `normalize.less` sets `[hidden] { display: none; }` but bootstrap.min.css set `[hidden] { display: none !important; }` so we also need the `!important` here to be able to override the default hidden behavior on the sphinx rendered scikit-learn.org. See: https://github.com/scikit-learn/scikit-learn/issues/21755 */display: inline-block !important;position: relative;}#sk-container-id-1 div.sk-text-repr-fallback {display: none;}</style><div id=\"sk-container-id-1\" class=\"sk-top-container\"><div class=\"sk-text-repr-fallback\"><pre>GridSearchCV(cv=3, estimator=RandomForestClassifier(random_state=42), n_jobs=4,\n",
       "             param_grid={&#x27;max_depth&#x27;: [5, 8, 15, 25, 30],\n",
       "                         &#x27;min_samples_leaf&#x27;: [1, 2, 5, 10],\n",
       "                         &#x27;min_samples_split&#x27;: [2, 5, 10, 15, 100],\n",
       "                         &#x27;n_estimators&#x27;: [100, 300, 500, 800, 1200]},\n",
       "             scoring=&#x27;f1&#x27;, verbose=1)</pre><b>In a Jupyter environment, please rerun this cell to show the HTML representation or trust the notebook. <br />On GitHub, the HTML representation is unable to render, please try loading this page with nbviewer.org.</b></div><div class=\"sk-container\" hidden><div class=\"sk-item sk-dashed-wrapped\"><div class=\"sk-label-container\"><div class=\"sk-label sk-toggleable\"><input class=\"sk-toggleable__control sk-hidden--visually\" id=\"sk-estimator-id-1\" type=\"checkbox\" ><label for=\"sk-estimator-id-1\" class=\"sk-toggleable__label sk-toggleable__label-arrow\">GridSearchCV</label><div class=\"sk-toggleable__content\"><pre>GridSearchCV(cv=3, estimator=RandomForestClassifier(random_state=42), n_jobs=4,\n",
       "             param_grid={&#x27;max_depth&#x27;: [5, 8, 15, 25, 30],\n",
       "                         &#x27;min_samples_leaf&#x27;: [1, 2, 5, 10],\n",
       "                         &#x27;min_samples_split&#x27;: [2, 5, 10, 15, 100],\n",
       "                         &#x27;n_estimators&#x27;: [100, 300, 500, 800, 1200]},\n",
       "             scoring=&#x27;f1&#x27;, verbose=1)</pre></div></div></div><div class=\"sk-parallel\"><div class=\"sk-parallel-item\"><div class=\"sk-item\"><div class=\"sk-label-container\"><div class=\"sk-label sk-toggleable\"><input class=\"sk-toggleable__control sk-hidden--visually\" id=\"sk-estimator-id-2\" type=\"checkbox\" ><label for=\"sk-estimator-id-2\" class=\"sk-toggleable__label sk-toggleable__label-arrow\">estimator: RandomForestClassifier</label><div class=\"sk-toggleable__content\"><pre>RandomForestClassifier(random_state=42)</pre></div></div></div><div class=\"sk-serial\"><div class=\"sk-item\"><div class=\"sk-estimator sk-toggleable\"><input class=\"sk-toggleable__control sk-hidden--visually\" id=\"sk-estimator-id-3\" type=\"checkbox\" ><label for=\"sk-estimator-id-3\" class=\"sk-toggleable__label sk-toggleable__label-arrow\">RandomForestClassifier</label><div class=\"sk-toggleable__content\"><pre>RandomForestClassifier(random_state=42)</pre></div></div></div></div></div></div></div></div></div></div>"
      ],
      "text/plain": [
       "GridSearchCV(cv=3, estimator=RandomForestClassifier(random_state=42), n_jobs=4,\n",
       "             param_grid={'max_depth': [5, 8, 15, 25, 30],\n",
       "                         'min_samples_leaf': [1, 2, 5, 10],\n",
       "                         'min_samples_split': [2, 5, 10, 15, 100],\n",
       "                         'n_estimators': [100, 300, 500, 800, 1200]},\n",
       "             scoring='f1', verbose=1)"
      ]
     },
     "execution_count": 17,
     "metadata": {},
     "output_type": "execute_result"
    }
   ],
   "source": [
    "# Tune learning rate and n_estimators\n",
    "tuned_param = {'n_estimators':[100, 300, 500, 800, 1200], 'min_samples_split':[2, 5, 10, 15, 100], \n",
    "               'min_samples_leaf':[1, 2, 5, 10], 'max_depth':[5, 8, 15, 25, 30]}\n",
    "tuning = GridSearchCV(estimator =rfc, \n",
    "                      param_grid = tuned_param, scoring='f1',n_jobs=4, cv=3, verbose = 1)\n",
    "tuning.fit(x_train,y_train)"
   ]
  },
  {
   "cell_type": "code",
   "execution_count": 18,
   "id": "a71c38a8",
   "metadata": {
    "scrolled": true
   },
   "outputs": [
    {
     "data": {
      "text/plain": [
       "{'max_depth': 25,\n",
       " 'min_samples_leaf': 1,\n",
       " 'min_samples_split': 5,\n",
       " 'n_estimators': 1200}"
      ]
     },
     "execution_count": 18,
     "metadata": {},
     "output_type": "execute_result"
    }
   ],
   "source": [
    "tuning.best_params_"
   ]
  },
  {
   "cell_type": "code",
   "execution_count": 28,
   "id": "6b0c056a",
   "metadata": {},
   "outputs": [
    {
     "name": "stderr",
     "output_type": "stream",
     "text": [
      "/opt/anaconda3/lib/python3.9/site-packages/sklearn/utils/deprecation.py:87: FutureWarning: Function plot_confusion_matrix is deprecated; Function `plot_confusion_matrix` is deprecated in 1.0 and will be removed in 1.2. Use one of the class methods: ConfusionMatrixDisplay.from_predictions or ConfusionMatrixDisplay.from_estimator.\n",
      "  warnings.warn(msg, category=FutureWarning)\n"
     ]
    },
    {
     "data": {
      "image/png": "[encoded data removed]",
      "text/plain": [
       "<Figure size 432x288 with 2 Axes>"
      ]
     },
     "metadata": {
      "needs_background": "light"
     },
     "output_type": "display_data"
    },
    {
     "name": "stdout",
     "output_type": "stream",
     "text": [
      "\n",
      "Random Forest Confusion Matrix\n",
      "               precision    recall  f1-score   support\n",
      "\n",
      "         0.0       0.75      0.81      0.78        52\n",
      "         1.0       0.95      0.93      0.94       187\n",
      "\n",
      "    accuracy                           0.90       239\n",
      "   macro avg       0.85      0.87      0.86       239\n",
      "weighted avg       0.90      0.90      0.90       239\n",
      "\n",
      "\n",
      "Accuracy: 0.9\n",
      "\n",
      " Random Forest Train/Test/CV Scoring\n"
     ]
    },
    {
     "data": {
      "text/html": [
       "<div>\n",
       "<style scoped>\n",
       "    .dataframe tbody tr th:only-of-type {\n",
       "        vertical-align: middle;\n",
       "    }\n",
       "\n",
       "    .dataframe tbody tr th {\n",
       "        vertical-align: top;\n",
       "    }\n",
       "\n",
       "    .dataframe thead th {\n",
       "        text-align: right;\n",
       "    }\n",
       "</style>\n",
       "<table border=\"1\" class=\"dataframe\">\n",
       "  <thead>\n",
       "    <tr style=\"text-align: right;\">\n",
       "      <th></th>\n",
       "      <th>train</th>\n",
       "      <th>test</th>\n",
       "      <th>cv</th>\n",
       "    </tr>\n",
       "  </thead>\n",
       "  <tbody>\n",
       "    <tr>\n",
       "      <th>recall</th>\n",
       "      <td>1.0</td>\n",
       "      <td>0.866</td>\n",
       "      <td>0.935</td>\n",
       "    </tr>\n",
       "    <tr>\n",
       "      <th>precision</th>\n",
       "      <td>1.0</td>\n",
       "      <td>0.848</td>\n",
       "      <td>0.972</td>\n",
       "    </tr>\n",
       "    <tr>\n",
       "      <th>f1</th>\n",
       "      <td>1.0</td>\n",
       "      <td>0.856</td>\n",
       "      <td>0.953</td>\n",
       "    </tr>\n",
       "  </tbody>\n",
       "</table>\n",
       "</div>"
      ],
      "text/plain": [
       "           train   test     cv\n",
       "recall       1.0  0.866  0.935\n",
       "precision    1.0  0.848  0.972\n",
       "f1           1.0  0.856  0.953"
      ]
     },
     "execution_count": 28,
     "metadata": {},
     "output_type": "execute_result"
    }
   ],
   "source": [
    "#Produce and save the model, then load and apply the model.\n",
    "rfc = RandomForestClassifier(max_depth=25, min_samples_leaf=1,\n",
    "                            min_samples_split=5, n_estimators=1200, random_state=42)\n",
    "rfc.fit(x_train, y_train)\n",
    "rfc_predictions = rfc.predict(x_test)\n",
    "rfc_predictions_train=rfc.predict(x_train)\n",
    "\n",
    "rfc_matrix = metrics.confusion_matrix(y_test,rfc_predictions)\n",
    "\n",
    "plot_confusion_matrix(rfc, x_test, y_test)  \n",
    "plt.show()\n",
    "\n",
    "class_report_rfc = classification_report(y_test, rfc_predictions)\n",
    "print(\"\\nRandom Forest Confusion Matrix\\n\",class_report_rfc)\n",
    "\n",
    "print(\"\\nAccuracy:\",round(metrics.accuracy_score(y_test,rfc_predictions),3))\n",
    "\n",
    "\n",
    "print('\\n Random Forest Train/Test/CV Scoring')\n",
    "fitting_score(rfc_predictions_train, rfc_predictions, rfc)"
   ]
  },
  {
   "cell_type": "markdown",
   "id": "cc454d76",
   "metadata": {},
   "source": [
    "We observe significant overfitting, so we need to manually tune the model parameters again"
   ]
  },
  {
   "cell_type": "code",
   "execution_count": 30,
   "id": "f151e051",
   "metadata": {},
   "outputs": [
    {
     "name": "stderr",
     "output_type": "stream",
     "text": [
      "/opt/anaconda3/lib/python3.9/site-packages/sklearn/utils/deprecation.py:87: FutureWarning: Function plot_confusion_matrix is deprecated; Function `plot_confusion_matrix` is deprecated in 1.0 and will be removed in 1.2. Use one of the class methods: ConfusionMatrixDisplay.from_predictions or ConfusionMatrixDisplay.from_estimator.\n",
      "  warnings.warn(msg, category=FutureWarning)\n"
     ]
    },
    {
     "data": {
      "image/png": "[encoded data removed]",
      "text/plain": [
       "<Figure size 432x288 with 2 Axes>"
      ]
     },
     "metadata": {
      "needs_background": "light"
     },
     "output_type": "display_data"
    },
    {
     "name": "stdout",
     "output_type": "stream",
     "text": [
      "\n",
      "Random Forest Confusion Matrix\n",
      "               precision    recall  f1-score   support\n",
      "\n",
      "         0.0       0.57      0.79      0.66        52\n",
      "         1.0       0.93      0.83      0.88       187\n",
      "\n",
      "    accuracy                           0.82       239\n",
      "   macro avg       0.75      0.81      0.77       239\n",
      "weighted avg       0.85      0.82      0.83       239\n",
      "\n",
      "\n",
      "Accuracy: 0.824\n",
      "\n",
      " Random Forest Train/Test/CV Scoring\n"
     ]
    },
    {
     "data": {
      "text/html": [
       "<div>\n",
       "<style scoped>\n",
       "    .dataframe tbody tr th:only-of-type {\n",
       "        vertical-align: middle;\n",
       "    }\n",
       "\n",
       "    .dataframe tbody tr th {\n",
       "        vertical-align: top;\n",
       "    }\n",
       "\n",
       "    .dataframe thead th {\n",
       "        text-align: right;\n",
       "    }\n",
       "</style>\n",
       "<table border=\"1\" class=\"dataframe\">\n",
       "  <thead>\n",
       "    <tr style=\"text-align: right;\">\n",
       "      <th></th>\n",
       "      <th>train</th>\n",
       "      <th>test</th>\n",
       "      <th>cv</th>\n",
       "    </tr>\n",
       "  </thead>\n",
       "  <tbody>\n",
       "    <tr>\n",
       "      <th>recall</th>\n",
       "      <td>0.929</td>\n",
       "      <td>0.811</td>\n",
       "      <td>0.883</td>\n",
       "    </tr>\n",
       "    <tr>\n",
       "      <th>precision</th>\n",
       "      <td>0.930</td>\n",
       "      <td>0.752</td>\n",
       "      <td>0.925</td>\n",
       "    </tr>\n",
       "    <tr>\n",
       "      <th>f1</th>\n",
       "      <td>0.929</td>\n",
       "      <td>0.771</td>\n",
       "      <td>0.903</td>\n",
       "    </tr>\n",
       "  </tbody>\n",
       "</table>\n",
       "</div>"
      ],
      "text/plain": [
       "           train   test     cv\n",
       "recall     0.929  0.811  0.883\n",
       "precision  0.930  0.752  0.925\n",
       "f1         0.929  0.771  0.903"
      ]
     },
     "execution_count": 30,
     "metadata": {},
     "output_type": "execute_result"
    }
   ],
   "source": [
    "#Produce and save the model, then load and apply the model.\n",
    "rfc = RandomForestClassifier(max_depth=5, min_samples_leaf=1,\n",
    "                            min_samples_split=5, n_estimators=1200, random_state=42)\n",
    "rfc.fit(x_train, y_train)\n",
    "rfc_predictions = rfc.predict(x_test)\n",
    "rfc_predictions_train=rfc.predict(x_train)\n",
    "\n",
    "rfc_matrix = metrics.confusion_matrix(y_test,rfc_predictions)\n",
    "\n",
    "plot_confusion_matrix(rfc, x_test, y_test)  \n",
    "plt.show()\n",
    "\n",
    "class_report_rfc = classification_report(y_test, rfc_predictions)\n",
    "print(\"\\nRandom Forest Confusion Matrix\\n\",class_report_rfc)\n",
    "\n",
    "print(\"\\nAccuracy:\",round(metrics.accuracy_score(y_test,rfc_predictions),3))\n",
    "\n",
    "\n",
    "print('\\n Random Forest Train/Test/CV Scoring')\n",
    "fitting_score(rfc_predictions_train, rfc_predictions, rfc)"
   ]
  },
  {
   "cell_type": "markdown",
   "id": "1026353f",
   "metadata": {},
   "source": [
    "### 5.1. Parameter Tuning for Gradient Boosting (Good f1 scoring and less overfitting)"
   ]
  },
  {
   "cell_type": "code",
   "execution_count": 20,
   "id": "b0f027f3",
   "metadata": {
    "scrolled": true
   },
   "outputs": [
    {
     "data": {
      "text/html": [
       "<style>#sk-container-id-2 {color: black;background-color: white;}#sk-container-id-2 pre{padding: 0;}#sk-container-id-2 div.sk-toggleable {background-color: white;}#sk-container-id-2 label.sk-toggleable__label {cursor: pointer;display: block;width: 100%;margin-bottom: 0;padding: 0.3em;box-sizing: border-box;text-align: center;}#sk-container-id-2 label.sk-toggleable__label-arrow:before {content: \"▸\";float: left;margin-right: 0.25em;color: #696969;}#sk-container-id-2 label.sk-toggleable__label-arrow:hover:before {color: black;}#sk-container-id-2 div.sk-estimator:hover label.sk-toggleable__label-arrow:before {color: black;}#sk-container-id-2 div.sk-toggleable__content {max-height: 0;max-width: 0;overflow: hidden;text-align: left;background-color: #f0f8ff;}#sk-container-id-2 div.sk-toggleable__content pre {margin: 0.2em;color: black;border-radius: 0.25em;background-color: #f0f8ff;}#sk-container-id-2 input.sk-toggleable__control:checked~div.sk-toggleable__content {max-height: 200px;max-width: 100%;overflow: auto;}#sk-container-id-2 input.sk-toggleable__control:checked~label.sk-toggleable__label-arrow:before {content: \"▾\";}#sk-container-id-2 div.sk-estimator input.sk-toggleable__control:checked~label.sk-toggleable__label {background-color: #d4ebff;}#sk-container-id-2 div.sk-label input.sk-toggleable__control:checked~label.sk-toggleable__label {background-color: #d4ebff;}#sk-container-id-2 input.sk-hidden--visually {border: 0;clip: rect(1px 1px 1px 1px);clip: rect(1px, 1px, 1px, 1px);height: 1px;margin: -1px;overflow: hidden;padding: 0;position: absolute;width: 1px;}#sk-container-id-2 div.sk-estimator {font-family: monospace;background-color: #f0f8ff;border: 1px dotted black;border-radius: 0.25em;box-sizing: border-box;margin-bottom: 0.5em;}#sk-container-id-2 div.sk-estimator:hover {background-color: #d4ebff;}#sk-container-id-2 div.sk-parallel-item::after {content: \"\";width: 100%;border-bottom: 1px solid gray;flex-grow: 1;}#sk-container-id-2 div.sk-label:hover label.sk-toggleable__label {background-color: #d4ebff;}#sk-container-id-2 div.sk-serial::before {content: \"\";position: absolute;border-left: 1px solid gray;box-sizing: border-box;top: 0;bottom: 0;left: 50%;z-index: 0;}#sk-container-id-2 div.sk-serial {display: flex;flex-direction: column;align-items: center;background-color: white;padding-right: 0.2em;padding-left: 0.2em;position: relative;}#sk-container-id-2 div.sk-item {position: relative;z-index: 1;}#sk-container-id-2 div.sk-parallel {display: flex;align-items: stretch;justify-content: center;background-color: white;position: relative;}#sk-container-id-2 div.sk-item::before, #sk-container-id-2 div.sk-parallel-item::before {content: \"\";position: absolute;border-left: 1px solid gray;box-sizing: border-box;top: 0;bottom: 0;left: 50%;z-index: -1;}#sk-container-id-2 div.sk-parallel-item {display: flex;flex-direction: column;z-index: 1;position: relative;background-color: white;}#sk-container-id-2 div.sk-parallel-item:first-child::after {align-self: flex-end;width: 50%;}#sk-container-id-2 div.sk-parallel-item:last-child::after {align-self: flex-start;width: 50%;}#sk-container-id-2 div.sk-parallel-item:only-child::after {width: 0;}#sk-container-id-2 div.sk-dashed-wrapped {border: 1px dashed gray;margin: 0 0.4em 0.5em 0.4em;box-sizing: border-box;padding-bottom: 0.4em;background-color: white;}#sk-container-id-2 div.sk-label label {font-family: monospace;font-weight: bold;display: inline-block;line-height: 1.2em;}#sk-container-id-2 div.sk-label-container {text-align: center;}#sk-container-id-2 div.sk-container {/* jupyter's `normalize.less` sets `[hidden] { display: none; }` but bootstrap.min.css set `[hidden] { display: none !important; }` so we also need the `!important` here to be able to override the default hidden behavior on the sphinx rendered scikit-learn.org. See: https://github.com/scikit-learn/scikit-learn/issues/21755 */display: inline-block !important;position: relative;}#sk-container-id-2 div.sk-text-repr-fallback {display: none;}</style><div id=\"sk-container-id-2\" class=\"sk-top-container\"><div class=\"sk-text-repr-fallback\"><pre>GridSearchCV(cv=5,\n",
       "             estimator=GradientBoostingClassifier(max_depth=4, random_state=2,\n",
       "                                                  subsample=1),\n",
       "             n_jobs=4,\n",
       "             param_grid={&#x27;learning_rate&#x27;: [0.1, 0.05, 0.01],\n",
       "                         &#x27;min_samples_leaf&#x27;: [1, 10, 20],\n",
       "                         &#x27;min_samples_split&#x27;: [2, 20, 50],\n",
       "                         &#x27;n_estimators&#x27;: [100, 250, 500]},\n",
       "             scoring=&#x27;f1&#x27;)</pre><b>In a Jupyter environment, please rerun this cell to show the HTML representation or trust the notebook. <br />On GitHub, the HTML representation is unable to render, please try loading this page with nbviewer.org.</b></div><div class=\"sk-container\" hidden><div class=\"sk-item sk-dashed-wrapped\"><div class=\"sk-label-container\"><div class=\"sk-label sk-toggleable\"><input class=\"sk-toggleable__control sk-hidden--visually\" id=\"sk-estimator-id-4\" type=\"checkbox\" ><label for=\"sk-estimator-id-4\" class=\"sk-toggleable__label sk-toggleable__label-arrow\">GridSearchCV</label><div class=\"sk-toggleable__content\"><pre>GridSearchCV(cv=5,\n",
       "             estimator=GradientBoostingClassifier(max_depth=4, random_state=2,\n",
       "                                                  subsample=1),\n",
       "             n_jobs=4,\n",
       "             param_grid={&#x27;learning_rate&#x27;: [0.1, 0.05, 0.01],\n",
       "                         &#x27;min_samples_leaf&#x27;: [1, 10, 20],\n",
       "                         &#x27;min_samples_split&#x27;: [2, 20, 50],\n",
       "                         &#x27;n_estimators&#x27;: [100, 250, 500]},\n",
       "             scoring=&#x27;f1&#x27;)</pre></div></div></div><div class=\"sk-parallel\"><div class=\"sk-parallel-item\"><div class=\"sk-item\"><div class=\"sk-label-container\"><div class=\"sk-label sk-toggleable\"><input class=\"sk-toggleable__control sk-hidden--visually\" id=\"sk-estimator-id-5\" type=\"checkbox\" ><label for=\"sk-estimator-id-5\" class=\"sk-toggleable__label sk-toggleable__label-arrow\">estimator: GradientBoostingClassifier</label><div class=\"sk-toggleable__content\"><pre>GradientBoostingClassifier(max_depth=4, random_state=2, subsample=1)</pre></div></div></div><div class=\"sk-serial\"><div class=\"sk-item\"><div class=\"sk-estimator sk-toggleable\"><input class=\"sk-toggleable__control sk-hidden--visually\" id=\"sk-estimator-id-6\" type=\"checkbox\" ><label for=\"sk-estimator-id-6\" class=\"sk-toggleable__label sk-toggleable__label-arrow\">GradientBoostingClassifier</label><div class=\"sk-toggleable__content\"><pre>GradientBoostingClassifier(max_depth=4, random_state=2, subsample=1)</pre></div></div></div></div></div></div></div></div></div></div>"
      ],
      "text/plain": [
       "GridSearchCV(cv=5,\n",
       "             estimator=GradientBoostingClassifier(max_depth=4, random_state=2,\n",
       "                                                  subsample=1),\n",
       "             n_jobs=4,\n",
       "             param_grid={'learning_rate': [0.1, 0.05, 0.01],\n",
       "                         'min_samples_leaf': [1, 10, 20],\n",
       "                         'min_samples_split': [2, 20, 50],\n",
       "                         'n_estimators': [100, 250, 500]},\n",
       "             scoring='f1')"
      ]
     },
     "execution_count": 20,
     "metadata": {},
     "output_type": "execute_result"
    }
   ],
   "source": [
    "# Tune learning rate and n_estimators\n",
    "tuned_param = {'learning_rate':[0.1,0.05,0.01], 'n_estimators':[100,250,500], 'min_samples_split':[2,20,50], \n",
    "               'min_samples_leaf':[1, 10, 20]}\n",
    "tuning = GridSearchCV(estimator =GradientBoostingClassifier(max_depth=4, random_state=2, \n",
    "                               subsample=1), \n",
    "                      param_grid = tuned_param, scoring='f1',n_jobs=4, cv=5)\n",
    "tuning.fit(x_train,y_train)"
   ]
  },
  {
   "cell_type": "code",
   "execution_count": 21,
   "id": "3469bcf2",
   "metadata": {
    "scrolled": true
   },
   "outputs": [
    {
     "name": "stderr",
     "output_type": "stream",
     "text": [
      "/var/folders/34/jx7syzxj4gb7wqhvvcjq6rgr0000gn/T/ipykernel_84346/2117021311.py:1: RuntimeWarning: invalid value encountered in double_scalars\n",
      "  tuning.best_params_, (-tuning.best_score_)**(1/2)\n"
     ]
    },
    {
     "data": {
      "text/plain": [
       "({'learning_rate': 0.1,\n",
       "  'min_samples_leaf': 20,\n",
       "  'min_samples_split': 50,\n",
       "  'n_estimators': 500},\n",
       " nan)"
      ]
     },
     "execution_count": 21,
     "metadata": {},
     "output_type": "execute_result"
    }
   ],
   "source": [
    "tuning.best_params_, (-tuning.best_score_)**(1/2)"
   ]
  },
  {
   "cell_type": "code",
   "execution_count": 29,
   "id": "ddbb5e2b",
   "metadata": {},
   "outputs": [
    {
     "name": "stderr",
     "output_type": "stream",
     "text": [
      "/opt/anaconda3/lib/python3.9/site-packages/sklearn/utils/deprecation.py:87: FutureWarning: Function plot_confusion_matrix is deprecated; Function `plot_confusion_matrix` is deprecated in 1.0 and will be removed in 1.2. Use one of the class methods: ConfusionMatrixDisplay.from_predictions or ConfusionMatrixDisplay.from_estimator.\n",
      "  warnings.warn(msg, category=FutureWarning)\n"
     ]
    },
    {
     "data": {
      "image/png": "[encoded data removed]",
      "text/plain": [
       "<Figure size 432x288 with 2 Axes>"
      ]
     },
     "metadata": {
      "needs_background": "light"
     },
     "output_type": "display_data"
    },
    {
     "name": "stdout",
     "output_type": "stream",
     "text": [
      "\n",
      "Gradient Boosting Classifier Confusion Matrix\n",
      "               precision    recall  f1-score   support\n",
      "\n",
      "         0.0       0.75      0.85      0.79        52\n",
      "         1.0       0.96      0.92      0.94       187\n",
      "\n",
      "    accuracy                           0.90       239\n",
      "   macro avg       0.85      0.88      0.87       239\n",
      "weighted avg       0.91      0.90      0.91       239\n",
      "\n",
      "\n",
      "Accuracy: 0.904\n",
      "\n",
      " Gradient Boosting Classifier Train/Test/CV Scoring\n"
     ]
    },
    {
     "data": {
      "text/html": [
       "<div>\n",
       "<style scoped>\n",
       "    .dataframe tbody tr th:only-of-type {\n",
       "        vertical-align: middle;\n",
       "    }\n",
       "\n",
       "    .dataframe tbody tr th {\n",
       "        vertical-align: top;\n",
       "    }\n",
       "\n",
       "    .dataframe thead th {\n",
       "        text-align: right;\n",
       "    }\n",
       "</style>\n",
       "<table border=\"1\" class=\"dataframe\">\n",
       "  <thead>\n",
       "    <tr style=\"text-align: right;\">\n",
       "      <th></th>\n",
       "      <th>train</th>\n",
       "      <th>test</th>\n",
       "      <th>cv</th>\n",
       "    </tr>\n",
       "  </thead>\n",
       "  <tbody>\n",
       "    <tr>\n",
       "      <th>recall</th>\n",
       "      <td>0.981</td>\n",
       "      <td>0.883</td>\n",
       "      <td>0.942</td>\n",
       "    </tr>\n",
       "    <tr>\n",
       "      <th>precision</th>\n",
       "      <td>0.982</td>\n",
       "      <td>0.851</td>\n",
       "      <td>0.971</td>\n",
       "    </tr>\n",
       "    <tr>\n",
       "      <th>f1</th>\n",
       "      <td>0.981</td>\n",
       "      <td>0.865</td>\n",
       "      <td>0.956</td>\n",
       "    </tr>\n",
       "  </tbody>\n",
       "</table>\n",
       "</div>"
      ],
      "text/plain": [
       "           train   test     cv\n",
       "recall     0.981  0.883  0.942\n",
       "precision  0.982  0.851  0.971\n",
       "f1         0.981  0.865  0.956"
      ]
     },
     "execution_count": 29,
     "metadata": {},
     "output_type": "execute_result"
    }
   ],
   "source": [
    "#Produce and save the model, then load and apply the model.\n",
    "gbm = GradientBoostingClassifier(max_depth=4, random_state=42, \n",
    "                               subsample=1, learning_rate= 0.1, min_samples_leaf=20,\n",
    "                                min_samples_split=50, n_estimators=500)\n",
    "gbm.fit(x_train, y_train)\n",
    "gbm_predictions = gbm.predict(x_test)\n",
    "\n",
    "gbm_matrix = metrics.confusion_matrix(y_test,gbm_predictions)\n",
    "\n",
    "plot_confusion_matrix(gbm, x_test, y_test)  \n",
    "plt.show()\n",
    "\n",
    "class_report_gbm = classification_report(y_test, gbm_predictions)\n",
    "print(\"\\nGradient Boosting Classifier Confusion Matrix\\n\",class_report_gbm)\n",
    "\n",
    "print(\"\\nAccuracy:\",round(metrics.accuracy_score(y_test,gbm_predictions),3))\n",
    "\n",
    "print('\\n Gradient Boosting Classifier Train/Test/CV Scoring')\n",
    "fitting_score(gbm_predictions_train, gbm_predictions, gbm)"
   ]
  },
  {
   "cell_type": "markdown",
   "id": "38382419",
   "metadata": {},
   "source": [
    "### 5.3 Parameter Tuning for XGBoost "
   ]
  },
  {
   "cell_type": "code",
   "execution_count": 23,
   "id": "8dc9c489",
   "metadata": {},
   "outputs": [
    {
     "data": {
      "text/html": [
       "<style>#sk-container-id-3 {color: black;background-color: white;}#sk-container-id-3 pre{padding: 0;}#sk-container-id-3 div.sk-toggleable {background-color: white;}#sk-container-id-3 label.sk-toggleable__label {cursor: pointer;display: block;width: 100%;margin-bottom: 0;padding: 0.3em;box-sizing: border-box;text-align: center;}#sk-container-id-3 label.sk-toggleable__label-arrow:before {content: \"▸\";float: left;margin-right: 0.25em;color: #696969;}#sk-container-id-3 label.sk-toggleable__label-arrow:hover:before {color: black;}#sk-container-id-3 div.sk-estimator:hover label.sk-toggleable__label-arrow:before {color: black;}#sk-container-id-3 div.sk-toggleable__content {max-height: 0;max-width: 0;overflow: hidden;text-align: left;background-color: #f0f8ff;}#sk-container-id-3 div.sk-toggleable__content pre {margin: 0.2em;color: black;border-radius: 0.25em;background-color: #f0f8ff;}#sk-container-id-3 input.sk-toggleable__control:checked~div.sk-toggleable__content {max-height: 200px;max-width: 100%;overflow: auto;}#sk-container-id-3 input.sk-toggleable__control:checked~label.sk-toggleable__label-arrow:before {content: \"▾\";}#sk-container-id-3 div.sk-estimator input.sk-toggleable__control:checked~label.sk-toggleable__label {background-color: #d4ebff;}#sk-container-id-3 div.sk-label input.sk-toggleable__control:checked~label.sk-toggleable__label {background-color: #d4ebff;}#sk-container-id-3 input.sk-hidden--visually {border: 0;clip: rect(1px 1px 1px 1px);clip: rect(1px, 1px, 1px, 1px);height: 1px;margin: -1px;overflow: hidden;padding: 0;position: absolute;width: 1px;}#sk-container-id-3 div.sk-estimator {font-family: monospace;background-color: #f0f8ff;border: 1px dotted black;border-radius: 0.25em;box-sizing: border-box;margin-bottom: 0.5em;}#sk-container-id-3 div.sk-estimator:hover {background-color: #d4ebff;}#sk-container-id-3 div.sk-parallel-item::after {content: \"\";width: 100%;border-bottom: 1px solid gray;flex-grow: 1;}#sk-container-id-3 div.sk-label:hover label.sk-toggleable__label {background-color: #d4ebff;}#sk-container-id-3 div.sk-serial::before {content: \"\";position: absolute;border-left: 1px solid gray;box-sizing: border-box;top: 0;bottom: 0;left: 50%;z-index: 0;}#sk-container-id-3 div.sk-serial {display: flex;flex-direction: column;align-items: center;background-color: white;padding-right: 0.2em;padding-left: 0.2em;position: relative;}#sk-container-id-3 div.sk-item {position: relative;z-index: 1;}#sk-container-id-3 div.sk-parallel {display: flex;align-items: stretch;justify-content: center;background-color: white;position: relative;}#sk-container-id-3 div.sk-item::before, #sk-container-id-3 div.sk-parallel-item::before {content: \"\";position: absolute;border-left: 1px solid gray;box-sizing: border-box;top: 0;bottom: 0;left: 50%;z-index: -1;}#sk-container-id-3 div.sk-parallel-item {display: flex;flex-direction: column;z-index: 1;position: relative;background-color: white;}#sk-container-id-3 div.sk-parallel-item:first-child::after {align-self: flex-end;width: 50%;}#sk-container-id-3 div.sk-parallel-item:last-child::after {align-self: flex-start;width: 50%;}#sk-container-id-3 div.sk-parallel-item:only-child::after {width: 0;}#sk-container-id-3 div.sk-dashed-wrapped {border: 1px dashed gray;margin: 0 0.4em 0.5em 0.4em;box-sizing: border-box;padding-bottom: 0.4em;background-color: white;}#sk-container-id-3 div.sk-label label {font-family: monospace;font-weight: bold;display: inline-block;line-height: 1.2em;}#sk-container-id-3 div.sk-label-container {text-align: center;}#sk-container-id-3 div.sk-container {/* jupyter's `normalize.less` sets `[hidden] { display: none; }` but bootstrap.min.css set `[hidden] { display: none !important; }` so we also need the `!important` here to be able to override the default hidden behavior on the sphinx rendered scikit-learn.org. See: https://github.com/scikit-learn/scikit-learn/issues/21755 */display: inline-block !important;position: relative;}#sk-container-id-3 div.sk-text-repr-fallback {display: none;}</style><div id=\"sk-container-id-3\" class=\"sk-top-container\"><div class=\"sk-text-repr-fallback\"><pre>GridSearchCV(cv=3,\n",
       "             estimator=XGBClassifier(base_score=None, booster=None,\n",
       "                                     callbacks=None, colsample_bylevel=None,\n",
       "                                     colsample_bynode=None,\n",
       "                                     colsample_bytree=None,\n",
       "                                     early_stopping_rounds=None,\n",
       "                                     enable_categorical=False,\n",
       "                                     eval_metric=&#x27;error&#x27;, gamma=None,\n",
       "                                     gpu_id=None, grow_policy=None,\n",
       "                                     importance_type=None,\n",
       "                                     interaction_constraints=None,\n",
       "                                     learning_rate=None, max_bin=None,\n",
       "                                     max...\n",
       "                                     num_parallel_tree=None, predictor=None,\n",
       "                                     random_state=42, reg_alpha=None,\n",
       "                                     reg_lambda=None, ...),\n",
       "             n_jobs=-1,\n",
       "             param_grid={&#x27;colsample_bytree&#x27;: [0.25, 0.35, 0.45],\n",
       "                         &#x27;gamma&#x27;: [5, 10, 20, 30],\n",
       "                         &#x27;learning_rate&#x27;: [0.1, 0.01, 0.05],\n",
       "                         &#x27;max_depth&#x27;: [5, 7, 10, 15],\n",
       "                         &#x27;min_child_weight&#x27;: [0, 1],\n",
       "                         &#x27;reg_alpha&#x27;: [1, 5, 10, 20], &#x27;reg_lambda&#x27;: [1, 5, 10],\n",
       "                         &#x27;scale_pos_weight&#x27;: [2, 3, 5, 10],\n",
       "                         &#x27;subsample&#x27;: [0.7, 0.8, 0.9]},\n",
       "             scoring=&#x27;f1&#x27;)</pre><b>In a Jupyter environment, please rerun this cell to show the HTML representation or trust the notebook. <br />On GitHub, the HTML representation is unable to render, please try loading this page with nbviewer.org.</b></div><div class=\"sk-container\" hidden><div class=\"sk-item sk-dashed-wrapped\"><div class=\"sk-label-container\"><div class=\"sk-label sk-toggleable\"><input class=\"sk-toggleable__control sk-hidden--visually\" id=\"sk-estimator-id-7\" type=\"checkbox\" ><label for=\"sk-estimator-id-7\" class=\"sk-toggleable__label sk-toggleable__label-arrow\">GridSearchCV</label><div class=\"sk-toggleable__content\"><pre>GridSearchCV(cv=3,\n",
       "             estimator=XGBClassifier(base_score=None, booster=None,\n",
       "                                     callbacks=None, colsample_bylevel=None,\n",
       "                                     colsample_bynode=None,\n",
       "                                     colsample_bytree=None,\n",
       "                                     early_stopping_rounds=None,\n",
       "                                     enable_categorical=False,\n",
       "                                     eval_metric=&#x27;error&#x27;, gamma=None,\n",
       "                                     gpu_id=None, grow_policy=None,\n",
       "                                     importance_type=None,\n",
       "                                     interaction_constraints=None,\n",
       "                                     learning_rate=None, max_bin=None,\n",
       "                                     max...\n",
       "                                     num_parallel_tree=None, predictor=None,\n",
       "                                     random_state=42, reg_alpha=None,\n",
       "                                     reg_lambda=None, ...),\n",
       "             n_jobs=-1,\n",
       "             param_grid={&#x27;colsample_bytree&#x27;: [0.25, 0.35, 0.45],\n",
       "                         &#x27;gamma&#x27;: [5, 10, 20, 30],\n",
       "                         &#x27;learning_rate&#x27;: [0.1, 0.01, 0.05],\n",
       "                         &#x27;max_depth&#x27;: [5, 7, 10, 15],\n",
       "                         &#x27;min_child_weight&#x27;: [0, 1],\n",
       "                         &#x27;reg_alpha&#x27;: [1, 5, 10, 20], &#x27;reg_lambda&#x27;: [1, 5, 10],\n",
       "                         &#x27;scale_pos_weight&#x27;: [2, 3, 5, 10],\n",
       "                         &#x27;subsample&#x27;: [0.7, 0.8, 0.9]},\n",
       "             scoring=&#x27;f1&#x27;)</pre></div></div></div><div class=\"sk-parallel\"><div class=\"sk-parallel-item\"><div class=\"sk-item\"><div class=\"sk-label-container\"><div class=\"sk-label sk-toggleable\"><input class=\"sk-toggleable__control sk-hidden--visually\" id=\"sk-estimator-id-8\" type=\"checkbox\" ><label for=\"sk-estimator-id-8\" class=\"sk-toggleable__label sk-toggleable__label-arrow\">estimator: XGBClassifier</label><div class=\"sk-toggleable__content\"><pre>XGBClassifier(base_score=None, booster=None, callbacks=None,\n",
       "              colsample_bylevel=None, colsample_bynode=None,\n",
       "              colsample_bytree=None, early_stopping_rounds=None,\n",
       "              enable_categorical=False, eval_metric=&#x27;error&#x27;, gamma=None,\n",
       "              gpu_id=None, grow_policy=None, importance_type=None,\n",
       "              interaction_constraints=None, learning_rate=None, max_bin=None,\n",
       "              max_cat_to_onehot=None, max_delta_step=None, max_depth=None,\n",
       "              max_leaves=None, min_child_weight=None, missing=nan,\n",
       "              monotone_constraints=None, n_estimators=100, n_jobs=None,\n",
       "              num_parallel_tree=None, predictor=None, random_state=42,\n",
       "              reg_alpha=None, reg_lambda=None, ...)</pre></div></div></div><div class=\"sk-serial\"><div class=\"sk-item\"><div class=\"sk-estimator sk-toggleable\"><input class=\"sk-toggleable__control sk-hidden--visually\" id=\"sk-estimator-id-9\" type=\"checkbox\" ><label for=\"sk-estimator-id-9\" class=\"sk-toggleable__label sk-toggleable__label-arrow\">XGBClassifier</label><div class=\"sk-toggleable__content\"><pre>XGBClassifier(base_score=None, booster=None, callbacks=None,\n",
       "              colsample_bylevel=None, colsample_bynode=None,\n",
       "              colsample_bytree=None, early_stopping_rounds=None,\n",
       "              enable_categorical=False, eval_metric=&#x27;error&#x27;, gamma=None,\n",
       "              gpu_id=None, grow_policy=None, importance_type=None,\n",
       "              interaction_constraints=None, learning_rate=None, max_bin=None,\n",
       "              max_cat_to_onehot=None, max_delta_step=None, max_depth=None,\n",
       "              max_leaves=None, min_child_weight=None, missing=nan,\n",
       "              monotone_constraints=None, n_estimators=100, n_jobs=None,\n",
       "              num_parallel_tree=None, predictor=None, random_state=42,\n",
       "              reg_alpha=None, reg_lambda=None, ...)</pre></div></div></div></div></div></div></div></div></div></div>"
      ],
      "text/plain": [
       "GridSearchCV(cv=3,\n",
       "             estimator=XGBClassifier(base_score=None, booster=None,\n",
       "                                     callbacks=None, colsample_bylevel=None,\n",
       "                                     colsample_bynode=None,\n",
       "                                     colsample_bytree=None,\n",
       "                                     early_stopping_rounds=None,\n",
       "                                     enable_categorical=False,\n",
       "                                     eval_metric='error', gamma=None,\n",
       "                                     gpu_id=None, grow_policy=None,\n",
       "                                     importance_type=None,\n",
       "                                     interaction_constraints=None,\n",
       "                                     learning_rate=None, max_bin=None,\n",
       "                                     max...\n",
       "                                     num_parallel_tree=None, predictor=None,\n",
       "                                     random_state=42, reg_alpha=None,\n",
       "                                     reg_lambda=None, ...),\n",
       "             n_jobs=-1,\n",
       "             param_grid={'colsample_bytree': [0.25, 0.35, 0.45],\n",
       "                         'gamma': [5, 10, 20, 30],\n",
       "                         'learning_rate': [0.1, 0.01, 0.05],\n",
       "                         'max_depth': [5, 7, 10, 15],\n",
       "                         'min_child_weight': [0, 1],\n",
       "                         'reg_alpha': [1, 5, 10, 20], 'reg_lambda': [1, 5, 10],\n",
       "                         'scale_pos_weight': [2, 3, 5, 10],\n",
       "                         'subsample': [0.7, 0.8, 0.9]},\n",
       "             scoring='f1')"
      ]
     },
     "execution_count": 23,
     "metadata": {},
     "output_type": "execute_result"
    }
   ],
   "source": [
    "param_grid = {\n",
    "    \"max_depth\": [5, 7, 10, 15],\n",
    "    \"learning_rate\": [0.1, 0.01, 0.05],\n",
    "    \"gamma\": [5, 10, 20, 30],\n",
    "    \"reg_lambda\": [1, 5, 10],\n",
    "    \"reg_alpha\": [1, 5, 10, 20],\n",
    "    \"scale_pos_weight\": [2, 3, 5, 10],\n",
    "    \"subsample\": [0.7, 0.8, 0.9],\n",
    "    \"colsample_bytree\": [0.25, 0.35, 0.45],\n",
    "    'min_child_weight': [0,1]\n",
    "}\n",
    "\n",
    "tuning = GridSearchCV(estimator =XGBClassifier(random_state=42, objective='binary:logistic', eval_metric='error'), \n",
    "                      param_grid = param_grid, n_jobs=-1, cv=3, scoring=\"f1\")\n",
    "tuning.fit(x_train,y_train)"
   ]
  },
  {
   "cell_type": "code",
   "execution_count": 24,
   "id": "ac1b0cea",
   "metadata": {},
   "outputs": [
    {
     "data": {
      "text/plain": [
       "{'colsample_bytree': 0.45,\n",
       " 'gamma': 5,\n",
       " 'learning_rate': 0.05,\n",
       " 'max_depth': 15,\n",
       " 'min_child_weight': 0,\n",
       " 'reg_alpha': 1,\n",
       " 'reg_lambda': 1,\n",
       " 'scale_pos_weight': 2,\n",
       " 'subsample': 0.9}"
      ]
     },
     "execution_count": 24,
     "metadata": {},
     "output_type": "execute_result"
    }
   ],
   "source": [
    "tuning.best_params_"
   ]
  },
  {
   "cell_type": "code",
   "execution_count": 33,
   "id": "55df6011",
   "metadata": {},
   "outputs": [
    {
     "name": "stderr",
     "output_type": "stream",
     "text": [
      "/opt/anaconda3/lib/python3.9/site-packages/sklearn/utils/deprecation.py:87: FutureWarning: Function plot_confusion_matrix is deprecated; Function `plot_confusion_matrix` is deprecated in 1.0 and will be removed in 1.2. Use one of the class methods: ConfusionMatrixDisplay.from_predictions or ConfusionMatrixDisplay.from_estimator.\n",
      "  warnings.warn(msg, category=FutureWarning)\n"
     ]
    },
    {
     "data": {
      "image/png": "[encoded data removed]",
      "text/plain": [
       "<Figure size 432x288 with 2 Axes>"
      ]
     },
     "metadata": {
      "needs_background": "light"
     },
     "output_type": "display_data"
    },
    {
     "name": "stdout",
     "output_type": "stream",
     "text": [
      "\n",
      "XGBoost Confusion Matrix\n",
      "               precision    recall  f1-score   support\n",
      "\n",
      "         0.0       0.76      0.73      0.75        52\n",
      "         1.0       0.93      0.94      0.93       187\n",
      "\n",
      "    accuracy                           0.89       239\n",
      "   macro avg       0.84      0.83      0.84       239\n",
      "weighted avg       0.89      0.89      0.89       239\n",
      "\n",
      "\n",
      "Accuracy: 0.891\n",
      "\n",
      "XGBoost Train/Test/CV Scoring\n"
     ]
    },
    {
     "data": {
      "text/html": [
       "<div>\n",
       "<style scoped>\n",
       "    .dataframe tbody tr th:only-of-type {\n",
       "        vertical-align: middle;\n",
       "    }\n",
       "\n",
       "    .dataframe tbody tr th {\n",
       "        vertical-align: top;\n",
       "    }\n",
       "\n",
       "    .dataframe thead th {\n",
       "        text-align: right;\n",
       "    }\n",
       "</style>\n",
       "<table border=\"1\" class=\"dataframe\">\n",
       "  <thead>\n",
       "    <tr style=\"text-align: right;\">\n",
       "      <th></th>\n",
       "      <th>train</th>\n",
       "      <th>test</th>\n",
       "      <th>cv</th>\n",
       "    </tr>\n",
       "  </thead>\n",
       "  <tbody>\n",
       "    <tr>\n",
       "      <th>recall</th>\n",
       "      <td>0.977</td>\n",
       "      <td>0.833</td>\n",
       "      <td>0.958</td>\n",
       "    </tr>\n",
       "    <tr>\n",
       "      <th>precision</th>\n",
       "      <td>0.978</td>\n",
       "      <td>0.843</td>\n",
       "      <td>0.916</td>\n",
       "    </tr>\n",
       "    <tr>\n",
       "      <th>f1</th>\n",
       "      <td>0.977</td>\n",
       "      <td>0.838</td>\n",
       "      <td>0.935</td>\n",
       "    </tr>\n",
       "  </tbody>\n",
       "</table>\n",
       "</div>"
      ],
      "text/plain": [
       "           train   test     cv\n",
       "recall     0.977  0.833  0.958\n",
       "precision  0.978  0.843  0.916\n",
       "f1         0.977  0.838  0.935"
      ]
     },
     "execution_count": 33,
     "metadata": {},
     "output_type": "execute_result"
    }
   ],
   "source": [
    "xgb = XGBClassifier(random_state=42, objective='binary:logistic', eval_metric='error', gamma=5,\n",
    "                   colsample_bytree=0.45, learning_rate=0.05, reg_lambda=1, max_depth=15,\n",
    "                   min_child_weight=0, reg_alpha=1, scale_pos_weight=2, subsample=0.9)\n",
    "\n",
    "xgb.fit(x_train, y_train)\n",
    "xgb_predictions = xgb.predict(x_test)\n",
    "xgb_predictions_train = xgb.predict(x_train)\n",
    "\n",
    "xgb_matrix = metrics.confusion_matrix(y_test,xgb_predictions)\n",
    "\n",
    "plot_confusion_matrix(xgb, x_test, y_test)  \n",
    "plt.show()\n",
    "\n",
    "class_report_xgb = classification_report(y_test, xgb_predictions)\n",
    "print(\"\\nXGBoost Confusion Matrix\\n\",class_report_xgb)\n",
    "\n",
    "print(\"\\nAccuracy:\",round(metrics.accuracy_score(y_test,xgb_predictions),3))\n",
    "\n",
    "print('\\nXGBoost Train/Test/CV Scoring')\n",
    "fitting_score(xgb_predictions_train, xgb_predictions, xgb)"
   ]
  },
  {
   "cell_type": "markdown",
   "id": "f70ca754",
   "metadata": {},
   "source": [
    "## Model result: Gradient Boosting yields the best CV f1 score"
   ]
  },
  {
   "cell_type": "markdown",
   "id": "c6919b17",
   "metadata": {},
   "source": [
    "## 6. Run statistical analysis on each features. \n",
    "In this section, we are using logit and probit models to get a read on how much each independent variable affects the likelihood of licensing"
   ]
  },
  {
   "cell_type": "code",
   "execution_count": 32,
   "id": "4902fb61",
   "metadata": {
    "scrolled": false
   },
   "outputs": [
    {
     "name": "stdout",
     "output_type": "stream",
     "text": [
      "Training set score: 0.810\n",
      "Test set score: 0.770\n",
      "Warning: Maximum number of iterations has been exceeded.\n",
      "         Current function value: 0.363396\n",
      "         Iterations: 35\n",
      "         Function evaluations: 38\n",
      "         Gradient evaluations: 38\n",
      "                           Logit Regression Results                           \n",
      "==============================================================================\n",
      "Dep. Variable:         License_Status   No. Observations:                 1192\n",
      "Model:                          Logit   Df Residuals:                     1153\n",
      "Method:                           MLE   Df Model:                           38\n",
      "Date:                Tue, 02 Aug 2022   Pseudo R-squ.:                  0.3086\n",
      "Time:                        12:01:43   Log-Likelihood:                -433.17\n",
      "converged:                      False   LL-Null:                       -626.50\n",
      "Covariance Type:            nonrobust   LLR p-value:                 2.665e-59\n",
      "====================================================================================================================\n",
      "                                                       coef    std err          z      P>|z|      [0.025      0.975]\n",
      "--------------------------------------------------------------------------------------------------------------------\n",
      "Disclosure_Date                                      1.9780   3138.293      0.001      0.999   -6148.962    6152.918\n",
      "Country_WIPO_ID                                     -1.2081      0.448     -2.699      0.007      -2.085      -0.331\n",
      "Actually_File_Date                                   2.0716   1179.307      0.002      0.999   -2309.327    2313.470\n",
      "Is_Priority                                         -0.6348      0.377     -1.685      0.092      -1.373       0.104\n",
      "Lawfirm                                             -0.5430      0.415     -1.309      0.190      -1.356       0.270\n",
      "Attorney                                             0.8893      0.507      1.753      0.080      -0.105       1.884\n",
      "Number_of_Inventors                                 -2.0035      0.623     -3.214      0.001      -3.225      -0.782\n",
      "Application_Type                                     0.3514      0.438      0.802      0.423      -0.507       1.210\n",
      "Lead_Inventor                                        1.4081      0.334      4.211      0.000       0.753       2.064\n",
      "Division_Department                                 -0.1475      0.436     -0.338      0.735      -1.003       0.708\n",
      "Primary_Division                                     1.0560   9.35e+05   1.13e-06      1.000   -1.83e+06    1.83e+06\n",
      "Owners                                              -4.6019      0.664     -6.933      0.000      -5.903      -3.301\n",
      "Ability_of_investigator_to_continue_research        -1.7436      1.717     -1.015      0.310      -5.109       1.622\n",
      "Ability_to_advance_the_project_outside_the_lab      -1.9813      3.083     -0.643      0.520      -8.024       4.061\n",
      "Compelling_nature_of_data                            1.7951      3.099      0.579      0.562      -4.279       7.869\n",
      "Detectability_of_infringement_and_enforceability     0.8864      4.534      0.196      0.845      -7.999       9.772\n",
      "Development_and_regulatory_path_for_the_product      0.4078      5.890      0.069      0.945     -11.136      11.952\n",
      "Freedom-to-operate_FTO_issues                        0.7832      5.827      0.134      0.893     -10.638      12.204\n",
      "Historical_cooperation_or_not_of_investigator        0.0680      4.318      0.016      0.987      -8.395       8.531\n",
      "Identity_of_the_eventual_product                     0.7820      5.537      0.141      0.888     -10.070      11.634\n",
      "Impact_of_patent_on_adoption_of_technology           0.6844      2.732      0.250      0.802      -4.671       6.039\n",
      "Industrial_startup_co-ownership_of_the_IP            0.6250     10.444      0.060      0.952     -19.844      21.094\n",
      "Institution                                          0.4413      1.638      0.269      0.788      -2.769       3.651\n",
      "Licensing_interest_by_a_specific_company            -2.3048      2.009     -1.147      0.251      -6.242       1.632\n",
      "Market_feedback                                     -1.7667      2.643     -0.669      0.504      -6.946       3.413\n",
      "Nature_of_improvement_over_existing_art              1.3980      3.194      0.438      0.662      -4.862       7.658\n",
      "Patentability_questions                              1.3534      2.181      0.621      0.535      -2.921       5.628\n",
      "Risk_cost_sharing_w_other_institution                0.6703      4.527      0.148      0.882      -8.203       9.543\n",
      "Size_of_Market                                       0.1751      2.279      0.077      0.939      -4.292       4.642\n",
      "Stage_of_research                                    0.6241      4.114      0.152      0.879      -7.440       8.688\n",
      "topic1                                               0.4226    3.2e+05   1.32e-06      1.000   -6.27e+05    6.27e+05\n",
      "topic2                                               0.8781   3.28e+05   2.67e-06      1.000   -6.44e+05    6.44e+05\n",
      "topic3                                              -0.2297   3.21e+05  -7.15e-07      1.000   -6.29e+05    6.29e+05\n",
      "lda_topic                                            0.2807      0.577      0.487      0.626      -0.850       1.411\n",
      "Licenses_in_Division                                 0.0283   1.04e+07   2.74e-09      1.000   -2.03e+07    2.03e+07\n",
      "Successful Licenses_in_Division                      0.1062      1e+07   1.06e-08      1.000   -1.97e+07    1.97e+07\n",
      "Division_License_Success_Rate                        1.0969   1.22e+05   8.99e-06      1.000   -2.39e+05    2.39e+05\n",
      "Licenses_in_Tech                                     2.1889      0.643      3.402      0.001       0.928       3.450\n",
      "Disclosure_to_Filing                                -0.5304   2475.996     -0.000      1.000   -4853.393    4852.332\n",
      "====================================================================================================================\n"
     ]
    },
    {
     "name": "stderr",
     "output_type": "stream",
     "text": [
      "/opt/anaconda3/lib/python3.9/site-packages/statsmodels/base/model.py:604: ConvergenceWarning: Maximum Likelihood optimization failed to converge. Check mle_retvals\n",
      "  warnings.warn(\"Maximum Likelihood optimization failed to \"\n"
     ]
    }
   ],
   "source": [
    "from sklearn.linear_model import LogisticRegression\n",
    "\n",
    "logreg = LogisticRegression().fit(x_train,y_train)\n",
    "logreg\n",
    "\n",
    "print(\"Training set score: {:.3f}\".format(logreg.score(x_train,y_train)))\n",
    "print(\"Test set score: {:.3f}\".format(logreg.score(x_test,y_test)))\n",
    "\n",
    "import statsmodels.api as sm\n",
    "logit_model=sm.Logit(y,X)\n",
    "\n",
    "#Use method = 'bfgs' because default Hessian method starts with a bad starting value and reaches max iterations\n",
    "result=logit_model.fit(method = 'bfgs')\n",
    "print(result.summary())"
   ]
  }
 ],
 "metadata": {
  "kernelspec": {
   "display_name": "Python 3",
   "language": "python",
   "name": "python3"
  },
  "language_info": {
   "codemirror_mode": {
    "name": "ipython",
    "version": 3
   },
   "file_extension": ".py",
   "mimetype": "text/x-python",
   "name": "python",
   "nbconvert_exporter": "python",
   "pygments_lexer": "ipython3",
   "version": "3.8.8"
  }
 },
 "nbformat": 4,
 "nbformat_minor": 5
}
