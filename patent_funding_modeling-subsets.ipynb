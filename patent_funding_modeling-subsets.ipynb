{
 "cells": [
  {
   "cell_type": "markdown",
   "id": "d7d63a12",
   "metadata": {},
   "source": [
    "# Patent Funding Modeling -- Subsample Analysis "
   ]
  },
  {
   "cell_type": "markdown",
   "id": "f7d3084f",
   "metadata": {},
   "source": [
    "### Import required packages and load dataset "
   ]
  },
  {
   "cell_type": "code",
   "execution_count": 1,
   "id": "2f272907",
   "metadata": {},
   "outputs": [],
   "source": [
    "# general packages\n",
    "import pandas as pd\n",
    "import matplotlib.pyplot as plt\n",
    "import pandas as pd\n",
    "import seaborn as sns\n",
    "import numpy as np\n",
    "import warnings\n",
    "#warnings.filterwarnings(\"ignore\")\n",
    "import pickle\n",
    "\n",
    "# sklearn packages\n",
    "from sklearn.model_selection import train_test_split\n",
    "from sklearn.preprocessing import StandardScaler\n",
    "from sklearn import linear_model, metrics\n",
    "from sklearn.model_selection import GridSearchCV, RepeatedStratifiedKFold, train_test_split, cross_val_score\n",
    "from sklearn.naive_bayes import MultinomialNB\n",
    "from sklearn.neighbors import KNeighborsClassifier\n",
    "from sklearn.svm import LinearSVC\n",
    "from sklearn.tree import DecisionTreeClassifier\n",
    "from sklearn.pipeline import Pipeline\n",
    "from sklearn.model_selection import KFold\n",
    "from sklearn.ensemble import BaggingClassifier, AdaBoostClassifier, RandomForestClassifier, GradientBoostingClassifier\n",
    "from sklearn.metrics import plot_confusion_matrix,classification_report\n",
    "\n",
    "# imbelearn package\n",
    "from imblearn.over_sampling import SMOTE"
   ]
  },
  {
   "cell_type": "code",
   "execution_count": 2,
   "id": "bebac3c4",
   "metadata": {},
   "outputs": [
    {
     "name": "stdout",
     "output_type": "stream",
     "text": [
      "<class 'pandas.core.frame.DataFrame'>\n",
      "RangeIndex: 3166 entries, 0 to 3165\n",
      "Data columns (total 41 columns):\n",
      " #   Column                                            Non-Null Count  Dtype  \n",
      "---  ------                                            --------------  -----  \n",
      " 0   Unnamed: 0                                        3166 non-null   int64  \n",
      " 1   Disclosure_Date                                   3166 non-null   float64\n",
      " 2   Country_WIPO_ID                                   3166 non-null   float64\n",
      " 3   Actually_File_Date                                3166 non-null   float64\n",
      " 4   Is_Priority                                       3166 non-null   float64\n",
      " 5   Lawfirm                                           3166 non-null   float64\n",
      " 6   Attorney                                          3166 non-null   float64\n",
      " 7   Number_of_Inventors                               3166 non-null   float64\n",
      " 8   Application_Type                                  3166 non-null   float64\n",
      " 9   Lead_Inventor                                     3166 non-null   float64\n",
      " 10  Division_Department                               3166 non-null   float64\n",
      " 11  Primary_Division                                  3166 non-null   float64\n",
      " 12  Owners                                            3166 non-null   float64\n",
      " 13  Ability_of_investigator_to_continue_research      3166 non-null   float64\n",
      " 14  Ability_to_advance_the_project_outside_the_lab    3166 non-null   float64\n",
      " 15  Compelling_nature_of_data                         3166 non-null   float64\n",
      " 16  Detectability_of_infringement_and_enforceability  3166 non-null   float64\n",
      " 17  Development_and_regulatory_path_for_the_product   3166 non-null   float64\n",
      " 18  Freedom-to-operate_FTO_issues                     3166 non-null   float64\n",
      " 19  Historical_cooperation_or_not_of_investigator     3166 non-null   float64\n",
      " 20  Identity_of_the_eventual_product                  3166 non-null   float64\n",
      " 21  Impact_of_patent_on_adoption_of_technology        3166 non-null   float64\n",
      " 22  Industrial_startup_co-ownership_of_the_IP         3166 non-null   float64\n",
      " 23  Institution                                       3166 non-null   float64\n",
      " 24  Licensing_interest_by_a_specific_company          3166 non-null   float64\n",
      " 25  Market_feedback                                   3166 non-null   float64\n",
      " 26  Nature_of_improvement_over_existing_art           3166 non-null   float64\n",
      " 27  Patentability_questions                           3166 non-null   float64\n",
      " 28  Risk_cost_sharing_w_other_institution             3166 non-null   float64\n",
      " 29  Size_of_Market                                    3166 non-null   float64\n",
      " 30  Stage_of_research                                 3166 non-null   float64\n",
      " 31  topic1                                            3166 non-null   float64\n",
      " 32  topic2                                            3166 non-null   float64\n",
      " 33  topic3                                            3166 non-null   float64\n",
      " 34  lda_topic                                         3166 non-null   float64\n",
      " 35  Patents_in_Division                               3166 non-null   float64\n",
      " 36  Successful Patents_in_Division                    3166 non-null   float64\n",
      " 37  Division_Patent_Success_Rate                      3166 non-null   float64\n",
      " 38  Patents_in_Tech                                   3166 non-null   float64\n",
      " 39  Disclosure_to_Filing                              3166 non-null   float64\n",
      " 40  Patent_Status                                     3165 non-null   object \n",
      "dtypes: float64(39), int64(1), object(1)\n",
      "memory usage: 1014.2+ KB\n"
     ]
    }
   ],
   "source": [
    "df = pd.read_csv('modeling.csv', sep = ',')\n",
    "\n",
    "# print first few rows of df \n",
    "df.info()"
   ]
  },
  {
   "cell_type": "markdown",
   "id": "ca731e85",
   "metadata": {},
   "source": [
    "### Model Preprocessing"
   ]
  },
  {
   "cell_type": "code",
   "execution_count": 3,
   "id": "8ec57822",
   "metadata": {},
   "outputs": [
    {
     "data": {
      "text/html": [
       "<div>\n",
       "<style scoped>\n",
       "    .dataframe tbody tr th:only-of-type {\n",
       "        vertical-align: middle;\n",
       "    }\n",
       "\n",
       "    .dataframe tbody tr th {\n",
       "        vertical-align: top;\n",
       "    }\n",
       "\n",
       "    .dataframe thead th {\n",
       "        text-align: right;\n",
       "    }\n",
       "</style>\n",
       "<table border=\"1\" class=\"dataframe\">\n",
       "  <thead>\n",
       "    <tr style=\"text-align: right;\">\n",
       "      <th></th>\n",
       "      <th>Disclosure_Date</th>\n",
       "      <th>Country_WIPO_ID</th>\n",
       "      <th>Actually_File_Date</th>\n",
       "      <th>Is_Priority</th>\n",
       "      <th>Lawfirm</th>\n",
       "      <th>Attorney</th>\n",
       "      <th>Number_of_Inventors</th>\n",
       "      <th>Application_Type</th>\n",
       "      <th>Lead_Inventor</th>\n",
       "      <th>Division_Department</th>\n",
       "      <th>...</th>\n",
       "      <th>topic1</th>\n",
       "      <th>topic2</th>\n",
       "      <th>topic3</th>\n",
       "      <th>lda_topic</th>\n",
       "      <th>Patents_in_Division</th>\n",
       "      <th>Successful Patents_in_Division</th>\n",
       "      <th>Division_Patent_Success_Rate</th>\n",
       "      <th>Patents_in_Tech</th>\n",
       "      <th>Disclosure_to_Filing</th>\n",
       "      <th>Patent_Status</th>\n",
       "    </tr>\n",
       "  </thead>\n",
       "  <tbody>\n",
       "    <tr>\n",
       "      <th>0</th>\n",
       "      <td>0.372629</td>\n",
       "      <td>0.941860</td>\n",
       "      <td>0.370048</td>\n",
       "      <td>1.0</td>\n",
       "      <td>0.701031</td>\n",
       "      <td>0.659722</td>\n",
       "      <td>0.000000</td>\n",
       "      <td>0.888889</td>\n",
       "      <td>0.331307</td>\n",
       "      <td>0.633333</td>\n",
       "      <td>...</td>\n",
       "      <td>0.042594</td>\n",
       "      <td>0.895720</td>\n",
       "      <td>0.065075</td>\n",
       "      <td>0.5</td>\n",
       "      <td>1.0</td>\n",
       "      <td>1.0</td>\n",
       "      <td>0.379626</td>\n",
       "      <td>0.000000</td>\n",
       "      <td>0.510944</td>\n",
       "      <td>0.0</td>\n",
       "    </tr>\n",
       "    <tr>\n",
       "      <th>1</th>\n",
       "      <td>0.571259</td>\n",
       "      <td>0.941860</td>\n",
       "      <td>0.561741</td>\n",
       "      <td>1.0</td>\n",
       "      <td>0.154639</td>\n",
       "      <td>0.881944</td>\n",
       "      <td>0.000000</td>\n",
       "      <td>0.888889</td>\n",
       "      <td>0.145897</td>\n",
       "      <td>0.006667</td>\n",
       "      <td>...</td>\n",
       "      <td>0.018785</td>\n",
       "      <td>0.736053</td>\n",
       "      <td>0.251967</td>\n",
       "      <td>0.5</td>\n",
       "      <td>1.0</td>\n",
       "      <td>1.0</td>\n",
       "      <td>0.379626</td>\n",
       "      <td>0.000000</td>\n",
       "      <td>0.502780</td>\n",
       "      <td>0.0</td>\n",
       "    </tr>\n",
       "    <tr>\n",
       "      <th>2</th>\n",
       "      <td>0.782425</td>\n",
       "      <td>0.941860</td>\n",
       "      <td>0.793953</td>\n",
       "      <td>1.0</td>\n",
       "      <td>0.701031</td>\n",
       "      <td>0.812500</td>\n",
       "      <td>0.111111</td>\n",
       "      <td>0.666667</td>\n",
       "      <td>0.872340</td>\n",
       "      <td>0.746667</td>\n",
       "      <td>...</td>\n",
       "      <td>0.034030</td>\n",
       "      <td>0.432757</td>\n",
       "      <td>0.545258</td>\n",
       "      <td>1.0</td>\n",
       "      <td>1.0</td>\n",
       "      <td>1.0</td>\n",
       "      <td>0.379626</td>\n",
       "      <td>0.000000</td>\n",
       "      <td>0.529453</td>\n",
       "      <td>0.0</td>\n",
       "    </tr>\n",
       "    <tr>\n",
       "      <th>3</th>\n",
       "      <td>0.617259</td>\n",
       "      <td>0.058140</td>\n",
       "      <td>0.710370</td>\n",
       "      <td>0.0</td>\n",
       "      <td>0.701031</td>\n",
       "      <td>0.812500</td>\n",
       "      <td>0.166667</td>\n",
       "      <td>1.000000</td>\n",
       "      <td>0.589666</td>\n",
       "      <td>0.406667</td>\n",
       "      <td>...</td>\n",
       "      <td>0.884092</td>\n",
       "      <td>0.058615</td>\n",
       "      <td>0.058616</td>\n",
       "      <td>0.0</td>\n",
       "      <td>1.0</td>\n",
       "      <td>1.0</td>\n",
       "      <td>0.379626</td>\n",
       "      <td>0.089888</td>\n",
       "      <td>0.630657</td>\n",
       "      <td>0.0</td>\n",
       "    </tr>\n",
       "    <tr>\n",
       "      <th>4</th>\n",
       "      <td>0.617259</td>\n",
       "      <td>0.104651</td>\n",
       "      <td>0.658887</td>\n",
       "      <td>0.0</td>\n",
       "      <td>0.701031</td>\n",
       "      <td>0.812500</td>\n",
       "      <td>0.166667</td>\n",
       "      <td>0.444444</td>\n",
       "      <td>0.589666</td>\n",
       "      <td>0.406667</td>\n",
       "      <td>...</td>\n",
       "      <td>0.884092</td>\n",
       "      <td>0.058615</td>\n",
       "      <td>0.058616</td>\n",
       "      <td>0.0</td>\n",
       "      <td>1.0</td>\n",
       "      <td>1.0</td>\n",
       "      <td>0.379626</td>\n",
       "      <td>0.089888</td>\n",
       "      <td>0.566542</td>\n",
       "      <td>0.0</td>\n",
       "    </tr>\n",
       "  </tbody>\n",
       "</table>\n",
       "<p>5 rows × 40 columns</p>\n",
       "</div>"
      ],
      "text/plain": [
       "   Disclosure_Date  Country_WIPO_ID  Actually_File_Date  Is_Priority  \\\n",
       "0         0.372629         0.941860            0.370048          1.0   \n",
       "1         0.571259         0.941860            0.561741          1.0   \n",
       "2         0.782425         0.941860            0.793953          1.0   \n",
       "3         0.617259         0.058140            0.710370          0.0   \n",
       "4         0.617259         0.104651            0.658887          0.0   \n",
       "\n",
       "    Lawfirm  Attorney  Number_of_Inventors  Application_Type  Lead_Inventor  \\\n",
       "0  0.701031  0.659722             0.000000          0.888889       0.331307   \n",
       "1  0.154639  0.881944             0.000000          0.888889       0.145897   \n",
       "2  0.701031  0.812500             0.111111          0.666667       0.872340   \n",
       "3  0.701031  0.812500             0.166667          1.000000       0.589666   \n",
       "4  0.701031  0.812500             0.166667          0.444444       0.589666   \n",
       "\n",
       "   Division_Department  ...    topic1    topic2    topic3  lda_topic  \\\n",
       "0             0.633333  ...  0.042594  0.895720  0.065075        0.5   \n",
       "1             0.006667  ...  0.018785  0.736053  0.251967        0.5   \n",
       "2             0.746667  ...  0.034030  0.432757  0.545258        1.0   \n",
       "3             0.406667  ...  0.884092  0.058615  0.058616        0.0   \n",
       "4             0.406667  ...  0.884092  0.058615  0.058616        0.0   \n",
       "\n",
       "   Patents_in_Division  Successful Patents_in_Division  \\\n",
       "0                  1.0                             1.0   \n",
       "1                  1.0                             1.0   \n",
       "2                  1.0                             1.0   \n",
       "3                  1.0                             1.0   \n",
       "4                  1.0                             1.0   \n",
       "\n",
       "   Division_Patent_Success_Rate  Patents_in_Tech  Disclosure_to_Filing  \\\n",
       "0                      0.379626         0.000000              0.510944   \n",
       "1                      0.379626         0.000000              0.502780   \n",
       "2                      0.379626         0.000000              0.529453   \n",
       "3                      0.379626         0.089888              0.630657   \n",
       "4                      0.379626         0.089888              0.566542   \n",
       "\n",
       "   Patent_Status  \n",
       "0            0.0  \n",
       "1            0.0  \n",
       "2            0.0  \n",
       "3            0.0  \n",
       "4            0.0  \n",
       "\n",
       "[5 rows x 40 columns]"
      ]
     },
     "execution_count": 3,
     "metadata": {},
     "output_type": "execute_result"
    }
   ],
   "source": [
    "# drop unamed column \n",
    "df = df.drop(df.columns[0], axis=1)\n",
    "\n",
    "# Remove row with null patent_status\n",
    "df = df.dropna(subset=['Patent_Status'])\n",
    "\n",
    "# convert funding status to binary \n",
    "df.loc[df['Patent_Status']=='no_fund', 'Patent_Status'] = 0\n",
    "df.loc[df['Patent_Status']=='fund', 'Patent_Status'] = 1\n",
    "df[\"Patent_Status\"] = df.Patent_Status.astype(float)\n",
    "\n",
    "df.head()"
   ]
  },
  {
   "cell_type": "markdown",
   "id": "5eb8ea35",
   "metadata": {},
   "source": [
    "### Break out population subsets "
   ]
  },
  {
   "cell_type": "code",
   "execution_count": 4,
   "id": "365a348a",
   "metadata": {},
   "outputs": [],
   "source": [
    "# individual topics \n",
    "df_top1 = df[(df['lda_topic']==0.0)]\n",
    "df_top2 = df[(df['lda_topic']==0.5)]\n",
    "df_top3 = df[(df['lda_topic']==1.0)]\n",
    "\n",
    "# individual Divisions  \n",
    "df_BSD = df[(df['Primary_Division']==0.25)]\n",
    "df_PSD = df[(df['Primary_Division']==1.00)]\n",
    "df_ANL = df[(df['Primary_Division']==0.00)]\n",
    "df_PME = df[(df['Primary_Division']==0.75)]\n",
    "df_Other = df[(df['Primary_Division']==0.50)]"
   ]
  },
  {
   "cell_type": "code",
   "execution_count": 5,
   "id": "895d1c03",
   "metadata": {
    "scrolled": true
   },
   "outputs": [
    {
     "name": "stderr",
     "output_type": "stream",
     "text": [
      "<ipython-input-5-69866c654d74>:5: DeprecationWarning: `np.bool` is a deprecated alias for the builtin `bool`. To silence this warning, use `bool` by itself. Doing this will not modify any behavior and is safe. If you specifically wanted the numpy scalar type, use `np.bool_` here.\n",
      "Deprecated in NumPy 1.20; for more details and guidance: https://numpy.org/devdocs/release/1.20.0-notes.html#deprecations\n",
      "  upper = corr_matrix.where(np.triu(np.ones(corr_matrix.shape), k=1).astype(np.bool))\n"
     ]
    },
    {
     "data": {
      "text/plain": [
       "['Actually_File_Date', 'Successful Patents_in_Division']"
      ]
     },
     "execution_count": 5,
     "metadata": {},
     "output_type": "execute_result"
    }
   ],
   "source": [
    "# Create correlation matrix\n",
    "corr_matrix = df.corr().abs()\n",
    "\n",
    "# Select upper triangle of correlation matrix\n",
    "upper = corr_matrix.where(np.triu(np.ones(corr_matrix.shape), k=1).astype(np.bool))\n",
    "\n",
    "# Find features with correlation greater than 0.90\n",
    "to_drop = [column for column in upper.columns if any(upper[column] > 0.90)]\n",
    "\n",
    "# Keeping the highly correlated features attains higher model scoring, so we will keep\n",
    "to_drop\n",
    "\n",
    "# # Drop features \n",
    "#df.drop(to_drop, axis=1, inplace=True)"
   ]
  },
  {
   "cell_type": "code",
   "execution_count": 6,
   "id": "35da1939",
   "metadata": {},
   "outputs": [],
   "source": [
    "def get_modeling_datasets(df):\n",
    "    X = df.iloc[:, 0:39]\n",
    "    y = df.iloc[:, 39]\n",
    "\n",
    "    x_train, x_test, y_train, y_test = train_test_split(X, y, test_size = 0.2, stratify = y)\n",
    "\n",
    "    # Employment of SMOTE to oversample skewed funding outputs. This yields better results \n",
    "    sm = SMOTE()\n",
    "    x_train, y_train = sm.fit_resample(x_train, y_train)\n",
    "    \n",
    "    pipelines = []\n",
    "    # Standard binary classification models \n",
    "    pipelines.append(('LogisticRegression', Pipeline([('LR',linear_model.LogisticRegression(max_iter=1000))])))\n",
    "    pipelines.append(('KNearestNeighbors', Pipeline([('KNN',KNeighborsClassifier(algorithm = 'brute', n_jobs=-1))])))\n",
    "    pipelines.append(('LinearSVC', Pipeline([('SVC',LinearSVC(C=0.0001))])))\n",
    "    pipelines.append(('DecisionTree', Pipeline([('DTREE',DecisionTreeClassifier())])))\n",
    "    # Employment of ensemble learning \n",
    "    pipelines.append(('BaggingClassifier', Pipeline([('BAG',BaggingClassifier(DecisionTreeClassifier(),max_samples=0.5,max_features=1.0,n_estimators=10))])))\n",
    "    pipelines.append(('BoostClassifier', Pipeline([('BOOST',AdaBoostClassifier(DecisionTreeClassifier(min_samples_split=10,max_depth=4),n_estimators=10,learning_rate=0.6))])))\n",
    "    pipelines.append(('RandomForest', Pipeline([('FOREST',RandomForestClassifier(n_estimators=30, max_depth=9))])))\n",
    "    pipelines.append(('GradientBoost', Pipeline([('GBoost',GradientBoostingClassifier())])))\n",
    "\n",
    "    results = []\n",
    "    names = []\n",
    "    for name, model in pipelines:\n",
    "        kfold = KFold(n_splits=10, random_state=21, shuffle=True)\n",
    "        cv_results = cross_val_score(model, x_train, y_train, cv=kfold, scoring='f1')\n",
    "        results.append(cv_results)\n",
    "        names.append(name)\n",
    "        msg = \"%s: %f (%f)\" % (name, cv_results.mean(), cv_results.std())\n",
    "        print(msg)"
   ]
  },
  {
   "cell_type": "markdown",
   "id": "7170a305",
   "metadata": {},
   "source": [
    "### The model is very accurate with Topic 2, but less accurate on Topics 1 and 3 compared to total dataset"
   ]
  },
  {
   "cell_type": "code",
   "execution_count": 7,
   "id": "2056e7e7",
   "metadata": {
    "scrolled": false
   },
   "outputs": [
    {
     "name": "stdout",
     "output_type": "stream",
     "text": [
      "\n",
      "Total Dataset Outputs----------------------------\n",
      "\n",
      "LogisticRegression: 0.853162 (0.019971)\n",
      "KNearestNeighbors: 0.922252 (0.014515)\n",
      "LinearSVC: 0.796389 (0.015534)\n",
      "DecisionTree: 0.927919 (0.014652)\n",
      "BaggingClassifier: 0.942655 (0.012351)\n",
      "BoostClassifier: 0.936481 (0.006216)\n",
      "RandomForest: 0.932634 (0.008670)\n",
      "GradientBoost: 0.936951 (0.008195)\n",
      "\n",
      "Topic 1 Model Outputs----------------------------\n",
      "\n",
      "LogisticRegression: 0.847674 (0.027219)\n",
      "KNearestNeighbors: 0.897901 (0.026488)\n",
      "LinearSVC: 0.751821 (0.040554)\n",
      "DecisionTree: 0.904414 (0.019122)\n",
      "BaggingClassifier: 0.906564 (0.026206)\n",
      "BoostClassifier: 0.898594 (0.014812)\n",
      "RandomForest: 0.930331 (0.022968)\n",
      "GradientBoost: 0.920382 (0.025793)\n",
      "\n",
      "Topic 2 Model Outputs----------------------------\n",
      "\n",
      "LogisticRegression: 0.900156 (0.013635)\n",
      "KNearestNeighbors: 0.938323 (0.011638)\n",
      "LinearSVC: 0.813623 (0.047698)\n",
      "DecisionTree: 0.934349 (0.019024)\n",
      "BaggingClassifier: 0.938146 (0.011520)\n",
      "BoostClassifier: 0.940330 (0.011370)\n",
      "RandomForest: 0.949257 (0.013557)\n",
      "GradientBoost: 0.947748 (0.016174)\n",
      "\n",
      "Topic 3 Model Outputs----------------------------\n",
      "\n",
      "LogisticRegression: 0.802208 (0.040134)\n",
      "KNearestNeighbors: 0.905623 (0.022066)\n",
      "LinearSVC: 0.740360 (0.032866)\n",
      "DecisionTree: 0.894684 (0.030938)\n",
      "BaggingClassifier: 0.916872 (0.037188)\n",
      "BoostClassifier: 0.901189 (0.027400)\n",
      "RandomForest: 0.935008 (0.023665)\n",
      "GradientBoost: 0.922003 (0.026700)\n"
     ]
    }
   ],
   "source": [
    "# Compare Scores for different breakouts \n",
    "print('\\nTotal Dataset Outputs----------------------------\\n')\n",
    "get_modeling_datasets(df)\n",
    "\n",
    "print('\\nTopic 1 Model Outputs----------------------------\\n')\n",
    "get_modeling_datasets(df_top1)\n",
    "\n",
    "print('\\nTopic 2 Model Outputs----------------------------\\n')\n",
    "get_modeling_datasets(df_top2)\n",
    "\n",
    "print('\\nTopic 3 Model Outputs----------------------------\\n')\n",
    "get_modeling_datasets(df_top3)"
   ]
  },
  {
   "cell_type": "markdown",
   "id": "34e6d42f",
   "metadata": {},
   "source": [
    "### Combining Topics 1 and 3 does not improve scoring much when comparing against the individual topic scores"
   ]
  },
  {
   "cell_type": "code",
   "execution_count": 8,
   "id": "3444f50d",
   "metadata": {},
   "outputs": [
    {
     "name": "stdout",
     "output_type": "stream",
     "text": [
      "\n",
      "Total Dataset Outputs----------------------------\n",
      "\n",
      "LogisticRegression: 0.850217 (0.022377)\n",
      "KNearestNeighbors: 0.921066 (0.010085)\n",
      "LinearSVC: 0.795213 (0.017640)\n",
      "DecisionTree: 0.920689 (0.012324)\n",
      "BaggingClassifier: 0.930280 (0.014546)\n",
      "BoostClassifier: 0.933260 (0.016634)\n",
      "RandomForest: 0.936164 (0.013666)\n",
      "GradientBoost: 0.928844 (0.016496)\n",
      "\n",
      "Topic 1 and Topic 3 Model Outputs----------------------------\n",
      "\n",
      "LogisticRegression: 0.813056 (0.028043)\n",
      "KNearestNeighbors: 0.904673 (0.026717)\n",
      "LinearSVC: 0.746652 (0.036075)\n",
      "DecisionTree: 0.897677 (0.014520)\n",
      "BaggingClassifier: 0.910977 (0.018284)\n",
      "BoostClassifier: 0.910159 (0.018548)\n",
      "RandomForest: 0.926276 (0.015917)\n",
      "GradientBoost: 0.912233 (0.021068)\n",
      "\n",
      "Topic 2 Model Outputs----------------------------\n",
      "\n",
      "LogisticRegression: 0.899453 (0.029890)\n",
      "KNearestNeighbors: 0.938864 (0.014523)\n",
      "LinearSVC: 0.805891 (0.060191)\n",
      "DecisionTree: 0.930473 (0.020922)\n",
      "BaggingClassifier: 0.935235 (0.020989)\n",
      "BoostClassifier: 0.941886 (0.017149)\n",
      "RandomForest: 0.952462 (0.015198)\n",
      "GradientBoost: 0.948504 (0.018876)\n"
     ]
    }
   ],
   "source": [
    "df_top1_top3 = pd.concat([df_top1, df_top3])\n",
    "\n",
    "# Compare Scores for different breakouts \n",
    "print('\\nTotal Dataset Outputs----------------------------\\n')\n",
    "get_modeling_datasets(df)\n",
    "\n",
    "print('\\nTopic 1 and Topic 3 Model Outputs----------------------------\\n')\n",
    "get_modeling_datasets(df_top1_top3)\n",
    "\n",
    "print('\\nTopic 2 Model Outputs----------------------------\\n')\n",
    "get_modeling_datasets(df_top2)"
   ]
  },
  {
   "cell_type": "markdown",
   "id": "52bf1a86",
   "metadata": {},
   "source": [
    "### The model is very accurate for BSD inventions, but much less accurate for other divisions. 81% of Topic 2 records are BSD, which makes sense given Topic 2 and BSD both perform very well within the model  "
   ]
  },
  {
   "cell_type": "code",
   "execution_count": 9,
   "id": "5e43da63",
   "metadata": {},
   "outputs": [
    {
     "name": "stdout",
     "output_type": "stream",
     "text": [
      "\n",
      "Total Dataset Outputs----------------------------\n",
      "\n",
      "LogisticRegression: 0.851059 (0.013566)\n",
      "KNearestNeighbors: 0.916188 (0.014190)\n",
      "LinearSVC: 0.790477 (0.015096)\n",
      "DecisionTree: 0.926458 (0.013897)\n",
      "BaggingClassifier: 0.932888 (0.015874)\n",
      "BoostClassifier: 0.935608 (0.012707)\n",
      "RandomForest: 0.936349 (0.012060)\n",
      "GradientBoost: 0.926432 (0.013542)\n",
      "\n",
      "BSD Model Outputs----------------------------\n",
      "\n",
      "LogisticRegression: 0.902664 (0.018886)\n",
      "KNearestNeighbors: 0.950258 (0.010523)\n",
      "LinearSVC: 0.836145 (0.016067)\n",
      "DecisionTree: 0.953768 (0.012637)\n",
      "BaggingClassifier: 0.957942 (0.011919)\n",
      "BoostClassifier: 0.955522 (0.008186)\n",
      "RandomForest: 0.959734 (0.010589)\n",
      "GradientBoost: 0.958830 (0.011702)\n",
      "\n",
      "PSD Model Outputs----------------------------\n",
      "\n",
      "LogisticRegression: 0.754041 (0.036622)\n",
      "KNearestNeighbors: 0.821813 (0.057066)\n",
      "LinearSVC: 0.670409 (0.049166)\n",
      "DecisionTree: 0.874242 (0.067801)\n",
      "BaggingClassifier: 0.872712 (0.049560)\n",
      "BoostClassifier: 0.870826 (0.031458)\n",
      "RandomForest: 0.883854 (0.054022)\n",
      "GradientBoost: 0.896979 (0.050066)\n",
      "\n",
      "ANL Model Outputs (Not possible to model because there are no successful patents in this Division----------------------------\n",
      "\n",
      "\n",
      "PME Model Outputs----------------------------\n",
      "\n",
      "LogisticRegression: 0.612013 (0.101105)\n",
      "KNearestNeighbors: 0.706190 (0.136527)\n",
      "LinearSVC: 0.417366 (0.276553)\n",
      "DecisionTree: 0.767179 (0.092686)\n",
      "BaggingClassifier: 0.754473 (0.120958)\n",
      "BoostClassifier: 0.726190 (0.146938)\n",
      "RandomForest: 0.775902 (0.127576)\n",
      "GradientBoost: 0.801429 (0.139918)\n",
      "\n",
      "Other Model Outputs----------------------------\n",
      "\n",
      "LogisticRegression: 0.233333 (0.366667)\n",
      "KNearestNeighbors: 0.300000 (0.378594)\n",
      "LinearSVC: 0.300000 (0.305505)\n"
     ]
    },
    {
     "name": "stderr",
     "output_type": "stream",
     "text": [
      "C:\\ProgramData\\Anaconda3\\lib\\site-packages\\sklearn\\metrics\\_classification.py:1580: UndefinedMetricWarning: F-score is ill-defined and being set to 0.0 due to no true nor predicted samples. Use `zero_division` parameter to control this behavior.\n",
      "  _warn_prf(average, \"true nor predicted\", \"F-score is\", len(true_sum))\n",
      "C:\\ProgramData\\Anaconda3\\lib\\site-packages\\sklearn\\metrics\\_classification.py:1580: UndefinedMetricWarning: F-score is ill-defined and being set to 0.0 due to no true nor predicted samples. Use `zero_division` parameter to control this behavior.\n",
      "  _warn_prf(average, \"true nor predicted\", \"F-score is\", len(true_sum))\n",
      "C:\\ProgramData\\Anaconda3\\lib\\site-packages\\sklearn\\metrics\\_classification.py:1580: UndefinedMetricWarning: F-score is ill-defined and being set to 0.0 due to no true nor predicted samples. Use `zero_division` parameter to control this behavior.\n",
      "  _warn_prf(average, \"true nor predicted\", \"F-score is\", len(true_sum))\n"
     ]
    },
    {
     "name": "stdout",
     "output_type": "stream",
     "text": [
      "DecisionTree: 0.666667 (0.447214)\n",
      "BaggingClassifier: 0.166667 (0.341565)\n",
      "BoostClassifier: 0.533333 (0.452155)\n"
     ]
    },
    {
     "name": "stderr",
     "output_type": "stream",
     "text": [
      "C:\\ProgramData\\Anaconda3\\lib\\site-packages\\sklearn\\metrics\\_classification.py:1580: UndefinedMetricWarning: F-score is ill-defined and being set to 0.0 due to no true nor predicted samples. Use `zero_division` parameter to control this behavior.\n",
      "  _warn_prf(average, \"true nor predicted\", \"F-score is\", len(true_sum))\n"
     ]
    },
    {
     "name": "stdout",
     "output_type": "stream",
     "text": [
      "RandomForest: 0.633333 (0.433333)\n",
      "GradientBoost: 0.533333 (0.452155)\n"
     ]
    },
    {
     "name": "stderr",
     "output_type": "stream",
     "text": [
      "C:\\ProgramData\\Anaconda3\\lib\\site-packages\\sklearn\\metrics\\_classification.py:1580: UndefinedMetricWarning: F-score is ill-defined and being set to 0.0 due to no true nor predicted samples. Use `zero_division` parameter to control this behavior.\n",
      "  _warn_prf(average, \"true nor predicted\", \"F-score is\", len(true_sum))\n"
     ]
    }
   ],
   "source": [
    "# Compare Scores for different breakouts \n",
    "print('\\nTotal Dataset Outputs----------------------------\\n')\n",
    "get_modeling_datasets(df)\n",
    "\n",
    "print('\\nBSD Model Outputs----------------------------\\n')\n",
    "get_modeling_datasets(df_BSD)\n",
    "\n",
    "print('\\nPSD Model Outputs----------------------------\\n')\n",
    "get_modeling_datasets(df_PSD)\n",
    "\n",
    "print('\\nANL Model Outputs (Not possible to model because there are no successful patents in this Division----------------------------\\n')\n",
    "#get_modeling_datasets(df_ANL)\n",
    "\n",
    "print('\\nPME Model Outputs----------------------------\\n')\n",
    "get_modeling_datasets(df_PME)\n",
    "\n",
    "print('\\nOther Model Outputs----------------------------\\n')\n",
    "get_modeling_datasets(df_Other)"
   ]
  },
  {
   "cell_type": "markdown",
   "id": "38c32808",
   "metadata": {},
   "source": [
    "### Non-BSD records perform quite a bit worse than BSD records. "
   ]
  },
  {
   "cell_type": "code",
   "execution_count": 10,
   "id": "a1284f45",
   "metadata": {},
   "outputs": [
    {
     "name": "stdout",
     "output_type": "stream",
     "text": [
      "\n",
      "Total Dataset Outputs----------------------------\n",
      "\n",
      "LogisticRegression: 0.854349 (0.017011)\n",
      "KNearestNeighbors: 0.913322 (0.015468)\n",
      "LinearSVC: 0.794294 (0.022688)\n",
      "DecisionTree: 0.921629 (0.016742)\n",
      "BaggingClassifier: 0.939286 (0.014077)\n",
      "BoostClassifier: 0.932326 (0.013594)\n",
      "RandomForest: 0.941010 (0.015541)\n",
      "GradientBoost: 0.932754 (0.015825)\n",
      "\n",
      "All Non-BSD Model Outputs----------------------------\n",
      "\n",
      "LogisticRegression: 0.782542 (0.039098)\n",
      "KNearestNeighbors: 0.852913 (0.027598)\n",
      "LinearSVC: 0.692532 (0.051354)\n",
      "DecisionTree: 0.898086 (0.033370)\n",
      "BaggingClassifier: 0.896981 (0.045886)\n",
      "BoostClassifier: 0.886994 (0.031807)\n",
      "RandomForest: 0.904591 (0.034563)\n",
      "GradientBoost: 0.921958 (0.031312)\n",
      "\n",
      "BSD Model Outputs----------------------------\n",
      "\n",
      "LogisticRegression: 0.893305 (0.015610)\n",
      "KNearestNeighbors: 0.946653 (0.016012)\n",
      "LinearSVC: 0.829546 (0.019264)\n",
      "DecisionTree: 0.947245 (0.018378)\n",
      "BaggingClassifier: 0.955072 (0.012180)\n",
      "BoostClassifier: 0.958638 (0.011915)\n",
      "RandomForest: 0.956128 (0.014242)\n",
      "GradientBoost: 0.958428 (0.016109)\n"
     ]
    }
   ],
   "source": [
    "df_non_BSD = pd.concat([df_PSD, df_ANL, df_PME, df_Other])\n",
    "\n",
    "# Compare Scores for different breakouts \n",
    "print('\\nTotal Dataset Outputs----------------------------\\n')\n",
    "get_modeling_datasets(df)\n",
    "\n",
    "print('\\nAll Non-BSD Model Outputs----------------------------\\n')\n",
    "get_modeling_datasets(df_non_BSD)\n",
    "\n",
    "print('\\nBSD Model Outputs----------------------------\\n')\n",
    "get_modeling_datasets(df_BSD)"
   ]
  },
  {
   "cell_type": "markdown",
   "id": "55f983bd",
   "metadata": {},
   "source": [
    "### Merge records in Topic 2 or BSD in one dataset and all other records in another dataset "
   ]
  },
  {
   "cell_type": "code",
   "execution_count": 11,
   "id": "4603bedf",
   "metadata": {},
   "outputs": [
    {
     "name": "stdout",
     "output_type": "stream",
     "text": [
      "Total Dataset (3165, 40)\n",
      "Records in Topic 2 or BSD (2629, 40)\n",
      "Records that are Non-BSD & Not in Topic 2 (536, 40)\n"
     ]
    }
   ],
   "source": [
    "df_BSD_top2 = df[(df['lda_topic']==0.5) | (df['Primary_Division']==0.25)]\n",
    "df_Non_BSD_top2 = df[(df['lda_topic']!=0.5) & (df['Primary_Division']!=0.25)]\n",
    "\n",
    "\n",
    "print('Total Dataset', df.shape)\n",
    "print('Records in Topic 2 or BSD', df_BSD_top2.shape)\n",
    "print('Records that are Non-BSD & Not in Topic 2', df_Non_BSD_top2.shape)"
   ]
  },
  {
   "cell_type": "code",
   "execution_count": 12,
   "id": "462a1672",
   "metadata": {},
   "outputs": [
    {
     "name": "stdout",
     "output_type": "stream",
     "text": [
      "\n",
      "Total Dataset Outputs----------------------------\n",
      "\n",
      "LogisticRegression: 0.850025 (0.022401)\n",
      "KNearestNeighbors: 0.921843 (0.016506)\n",
      "LinearSVC: 0.791273 (0.024876)\n",
      "DecisionTree: 0.918955 (0.015093)\n",
      "BaggingClassifier: 0.932540 (0.012895)\n",
      "BoostClassifier: 0.924661 (0.013816)\n",
      "RandomForest: 0.933504 (0.013623)\n",
      "GradientBoost: 0.925471 (0.011553)\n",
      "\n",
      "Records in Topic 2 or BSD----------------------------\n",
      "\n",
      "LogisticRegression: 0.882826 (0.020178)\n",
      "KNearestNeighbors: 0.937537 (0.015041)\n",
      "LinearSVC: 0.814132 (0.020217)\n",
      "DecisionTree: 0.939946 (0.012756)\n",
      "BaggingClassifier: 0.946492 (0.014311)\n",
      "BoostClassifier: 0.948558 (0.010397)\n",
      "RandomForest: 0.946490 (0.012713)\n",
      "GradientBoost: 0.945636 (0.015974)\n",
      "\n",
      "Records that are Non-BSD & Not in Topic 2----------------------------\n",
      "\n",
      "LogisticRegression: 0.735407 (0.068887)\n",
      "KNearestNeighbors: 0.821325 (0.025024)\n",
      "LinearSVC: 0.662695 (0.069688)\n",
      "DecisionTree: 0.843501 (0.057972)\n",
      "BaggingClassifier: 0.851047 (0.050132)\n",
      "BoostClassifier: 0.842950 (0.046684)\n",
      "RandomForest: 0.871355 (0.026205)\n",
      "GradientBoost: 0.876444 (0.039419)\n"
     ]
    }
   ],
   "source": [
    "# Compare Scores for different breakouts \n",
    "print('\\nTotal Dataset Outputs----------------------------\\n')\n",
    "get_modeling_datasets(df)\n",
    "\n",
    "print('\\nRecords in Topic 2 or BSD----------------------------\\n')\n",
    "get_modeling_datasets(df_BSD_top2)\n",
    "\n",
    "print('\\nRecords that are Non-BSD & Not in Topic 2----------------------------\\n')\n",
    "get_modeling_datasets(df_Non_BSD_top2)"
   ]
  },
  {
   "cell_type": "markdown",
   "id": "aa4bfcce",
   "metadata": {},
   "source": [
    "# Takeaway: If we do a subsample, I would recommend breaking out by Topic2 and Non-Topic 2, as this yielded the optimal outputs for the subsamples"
   ]
  },
  {
   "cell_type": "code",
   "execution_count": 13,
   "id": "cc859fa1",
   "metadata": {},
   "outputs": [],
   "source": [
    "X_top2 = df_top2.iloc[:, 0:39]\n",
    "y_top2 = df_top2.iloc[:, 39]\n",
    "x_train_top2, x_test_top2, y_train_top2, y_test_top2 = train_test_split(X_top2, y_top2, test_size = 0.2, stratify = y_top2)\n",
    "\n",
    "# Employment of SMOTE to oversample skewed funding outputs. This yields better results \n",
    "sm = SMOTE()\n",
    "x_train_top2, y_train_top2 = sm.fit_resample(x_train_top2, y_train_top2)"
   ]
  },
  {
   "cell_type": "code",
   "execution_count": 14,
   "id": "cb230694",
   "metadata": {},
   "outputs": [],
   "source": [
    "X_top1_top3 = df_top1_top3.iloc[:, 0:39]\n",
    "y_top1_top3 = df_top1_top3.iloc[:, 39]\n",
    "x_train_top1_top3, x_test_top1_top3, y_train_top1_top3, y_test_top1_top3 = train_test_split(X_top1_top3, y_top1_top3, test_size = 0.2, stratify = y_top1_top3)\n",
    "\n",
    "# Employment of SMOTE to oversample skewed funding outputs. This yields better results \n",
    "sm = SMOTE()\n",
    "x_train_top1_top3, y_train_top1_top3 = sm.fit_resample(x_train_top1_top3, y_train_top1_top3)"
   ]
  },
  {
   "cell_type": "markdown",
   "id": "f8b1ec0b",
   "metadata": {},
   "source": [
    "### Model Outputs - Random Forest \n",
    "\n",
    "### While model accuracy improves in the Topic 2 model, recall goes down significantly. Because we do recall is so important to the Polsky Center (we do not want to lose any True Positives) the team recommends not subsetting the dataset"
   ]
  },
  {
   "cell_type": "code",
   "execution_count": 15,
   "id": "af3db45d",
   "metadata": {},
   "outputs": [
    {
     "name": "stdout",
     "output_type": "stream",
     "text": [
      "\n",
      "Gradient Boosting Classifier Confusion Matrix\n",
      " [[189  13]\n",
      " [ 10  37]]\n"
     ]
    },
    {
     "name": "stderr",
     "output_type": "stream",
     "text": [
      "C:\\ProgramData\\Anaconda3\\lib\\site-packages\\sklearn\\utils\\deprecation.py:87: FutureWarning: Function plot_confusion_matrix is deprecated; Function `plot_confusion_matrix` is deprecated in 1.0 and will be removed in 1.2. Use one of the class methods: ConfusionMatrixDisplay.from_predictions or ConfusionMatrixDisplay.from_estimator.\n",
      "  warnings.warn(msg, category=FutureWarning)\n"
     ]
    },
    {
     "data": {
      "image/png": "[encoded data removed]",
      "text/plain": [
       "<Figure size 432x288 with 2 Axes>"
      ]
     },
     "metadata": {
      "needs_background": "light"
     },
     "output_type": "display_data"
    },
    {
     "name": "stdout",
     "output_type": "stream",
     "text": [
      "\n",
      "Logistic Regression Confusion Matrix\n",
      "               precision    recall  f1-score   support\n",
      "\n",
      "         0.0       0.95      0.94      0.94       202\n",
      "         1.0       0.74      0.79      0.76        47\n",
      "\n",
      "    accuracy                           0.91       249\n",
      "   macro avg       0.84      0.86      0.85       249\n",
      "weighted avg       0.91      0.91      0.91       249\n",
      "\n",
      "\n",
      "Accuracy: 0.908\n"
     ]
    }
   ],
   "source": [
    "#Produce and save the model, then load and apply the model.\n",
    "rfc = RandomForestClassifier(n_estimators=30, max_depth=9)\n",
    "rfc.fit(x_train_top2, y_train_top2)\n",
    "rfc_predictions = rfc.predict(x_test_top2)\n",
    "\n",
    "rfc_matrix = metrics.confusion_matrix(y_test_top2,rfc_predictions)\n",
    "print(\"\\nGradient Boosting Classifier Confusion Matrix\\n\",rfc_matrix)\n",
    "\n",
    "plot_confusion_matrix(rfc, x_test_top2, y_test_top2)  \n",
    "plt.show()\n",
    "\n",
    "class_report_rfc = classification_report(y_test_top2, rfc_predictions)\n",
    "print(\"\\nLogistic Regression Confusion Matrix\\n\",class_report_rfc)\n",
    "\n",
    "print(\"\\nAccuracy:\",round(metrics.accuracy_score(y_test_top2,rfc_predictions),3))"
   ]
  },
  {
   "cell_type": "code",
   "execution_count": 16,
   "id": "ba0b1203",
   "metadata": {},
   "outputs": [
    {
     "name": "stdout",
     "output_type": "stream",
     "text": [
      "\n",
      "Gradient Boosting Classifier Confusion Matrix\n",
      " [[248  22]\n",
      " [ 19  96]]\n"
     ]
    },
    {
     "name": "stderr",
     "output_type": "stream",
     "text": [
      "C:\\ProgramData\\Anaconda3\\lib\\site-packages\\sklearn\\utils\\deprecation.py:87: FutureWarning: Function plot_confusion_matrix is deprecated; Function `plot_confusion_matrix` is deprecated in 1.0 and will be removed in 1.2. Use one of the class methods: ConfusionMatrixDisplay.from_predictions or ConfusionMatrixDisplay.from_estimator.\n",
      "  warnings.warn(msg, category=FutureWarning)\n"
     ]
    },
    {
     "data": {
      "image/png": "[encoded data removed]",
      "text/plain": [
       "<Figure size 432x288 with 2 Axes>"
      ]
     },
     "metadata": {
      "needs_background": "light"
     },
     "output_type": "display_data"
    },
    {
     "name": "stdout",
     "output_type": "stream",
     "text": [
      "\n",
      "Logistic Regression Confusion Matrix\n",
      "               precision    recall  f1-score   support\n",
      "\n",
      "         0.0       0.93      0.92      0.92       270\n",
      "         1.0       0.81      0.83      0.82       115\n",
      "\n",
      "    accuracy                           0.89       385\n",
      "   macro avg       0.87      0.88      0.87       385\n",
      "weighted avg       0.89      0.89      0.89       385\n",
      "\n",
      "\n",
      "Accuracy: 0.894\n"
     ]
    }
   ],
   "source": [
    "#Produce and save the model, then load and apply the model.\n",
    "rfc = RandomForestClassifier(n_estimators=30, max_depth=9)\n",
    "rfc.fit(x_train_top1_top3, y_train_top1_top3)\n",
    "rfc_predictions = rfc.predict(x_test_top1_top3)\n",
    "\n",
    "rfc_matrix = metrics.confusion_matrix(y_test_top1_top3,rfc_predictions)\n",
    "print(\"\\nGradient Boosting Classifier Confusion Matrix\\n\",rfc_matrix)\n",
    "\n",
    "plot_confusion_matrix(rfc, x_test_top1_top3, y_test_top1_top3)  \n",
    "plt.show()\n",
    "\n",
    "class_report_rfc = classification_report(y_test_top1_top3, rfc_predictions)\n",
    "print(\"\\nLogistic Regression Confusion Matrix\\n\",class_report_rfc)\n",
    "\n",
    "print(\"\\nAccuracy:\",round(metrics.accuracy_score(y_test_top1_top3,rfc_predictions),3))"
   ]
  }
 ],
 "metadata": {
  "kernelspec": {
   "display_name": "Python 3",
   "language": "python",
   "name": "python3"
  },
  "language_info": {
   "codemirror_mode": {
    "name": "ipython",
    "version": 3
   },
   "file_extension": ".py",
   "mimetype": "text/x-python",
   "name": "python",
   "nbconvert_exporter": "python",
   "pygments_lexer": "ipython3",
   "version": "3.8.8"
  }
 },
 "nbformat": 4,
 "nbformat_minor": 5
}
