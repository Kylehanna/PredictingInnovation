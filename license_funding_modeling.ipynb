{
 "cells": [
  {
   "cell_type": "markdown",
   "id": "b1890fc3",
   "metadata": {},
   "source": [
    "# License Funding Modeling "
   ]
  },
  {
   "cell_type": "markdown",
   "id": "074d53b6",
   "metadata": {},
   "source": [
    "## 0. Import required packages and load dataset "
   ]
  },
  {
   "cell_type": "code",
   "execution_count": 1,
   "id": "3109546b",
   "metadata": {
    "scrolled": true
   },
   "outputs": [],
   "source": [
    "# general packages\n",
    "import pandas as pd\n",
    "import matplotlib.pyplot as plt\n",
    "import pandas as pd\n",
    "import seaborn as sns\n",
    "import numpy as np\n",
    "from pprint import pprint\n",
    "import warnings\n",
    "#warnings.filterwarnings(\"ignore\")\n",
    "import pickle\n",
    "\n",
    "# sklearn packages\n",
    "from sklearn.model_selection import train_test_split\n",
    "from sklearn.preprocessing import StandardScaler\n",
    "from sklearn import linear_model, metrics\n",
    "from sklearn.model_selection import GridSearchCV, RepeatedStratifiedKFold, train_test_split, cross_val_score, RandomizedSearchCV\n",
    "from sklearn.naive_bayes import MultinomialNB\n",
    "from sklearn.neighbors import KNeighborsClassifier\n",
    "from sklearn.svm import LinearSVC\n",
    "from sklearn.tree import DecisionTreeClassifier\n",
    "from sklearn.pipeline import Pipeline\n",
    "from sklearn.model_selection import KFold\n",
    "from sklearn.ensemble import BaggingClassifier, AdaBoostClassifier, RandomForestClassifier, GradientBoostingClassifier\n",
    "from sklearn.metrics import plot_confusion_matrix,classification_report\n",
    "from xgboost import XGBClassifier\n",
    "\n",
    "# imbelearn package\n",
    "from imblearn.over_sampling import SMOTE"
   ]
  },
  {
   "cell_type": "markdown",
   "id": "6be1c4cf",
   "metadata": {},
   "source": [
    "## 1. Read data"
   ]
  },
  {
   "cell_type": "code",
   "execution_count": 2,
   "id": "54df83c4",
   "metadata": {},
   "outputs": [
    {
     "name": "stdout",
     "output_type": "stream",
     "text": [
      "<class 'pandas.core.frame.DataFrame'>\n",
      "RangeIndex: 3170 entries, 0 to 3169\n",
      "Data columns (total 41 columns):\n",
      " #   Column                                            Non-Null Count  Dtype  \n",
      "---  ------                                            --------------  -----  \n",
      " 0   Unnamed: 0                                        3170 non-null   int64  \n",
      " 1   Disclosure_Date                                   3170 non-null   float64\n",
      " 2   Country_WIPO_ID                                   3170 non-null   float64\n",
      " 3   Actually_File_Date                                3170 non-null   float64\n",
      " 4   Is_Priority                                       3170 non-null   float64\n",
      " 5   Lawfirm                                           3170 non-null   float64\n",
      " 6   Attorney                                          3170 non-null   float64\n",
      " 7   Number_of_Inventors                               3170 non-null   float64\n",
      " 8   Application_Type                                  3170 non-null   float64\n",
      " 9   Lead_Inventor                                     3170 non-null   float64\n",
      " 10  Division_Department                               3170 non-null   float64\n",
      " 11  Primary_Division                                  3170 non-null   float64\n",
      " 12  Owners                                            3170 non-null   float64\n",
      " 13  Ability_of_investigator_to_continue_research      3170 non-null   float64\n",
      " 14  Ability_to_advance_the_project_outside_the_lab    3170 non-null   float64\n",
      " 15  Compelling_nature_of_data                         3170 non-null   float64\n",
      " 16  Detectability_of_infringement_and_enforceability  3170 non-null   float64\n",
      " 17  Development_and_regulatory_path_for_the_product   3170 non-null   float64\n",
      " 18  Freedom-to-operate_FTO_issues                     3170 non-null   float64\n",
      " 19  Historical_cooperation_or_not_of_investigator     3170 non-null   float64\n",
      " 20  Identity_of_the_eventual_product                  3170 non-null   float64\n",
      " 21  Impact_of_patent_on_adoption_of_technology        3170 non-null   float64\n",
      " 22  Industrial_startup_co-ownership_of_the_IP         3170 non-null   float64\n",
      " 23  Institution                                       3170 non-null   float64\n",
      " 24  Licensing_interest_by_a_specific_company          3170 non-null   float64\n",
      " 25  Market_feedback                                   3170 non-null   float64\n",
      " 26  Nature_of_improvement_over_existing_art           3170 non-null   float64\n",
      " 27  Patentability_questions                           3170 non-null   float64\n",
      " 28  Risk_cost_sharing_w_other_institution             3170 non-null   float64\n",
      " 29  Size_of_Market                                    3170 non-null   float64\n",
      " 30  Stage_of_research                                 3170 non-null   float64\n",
      " 31  topic1                                            3170 non-null   float64\n",
      " 32  topic2                                            3170 non-null   float64\n",
      " 33  topic3                                            3170 non-null   float64\n",
      " 34  lda_topic                                         3170 non-null   float64\n",
      " 35  Licenses_in_Division                              3170 non-null   float64\n",
      " 36  Successful Licenses_in_Division                   3170 non-null   float64\n",
      " 37  Division_License_Success_Rate                     3170 non-null   float64\n",
      " 38  Licenses_in_Tech                                  3170 non-null   float64\n",
      " 39  Disclosure_to_Filing                              3170 non-null   float64\n",
      " 40  License_Status                                    3169 non-null   object \n",
      "dtypes: float64(39), int64(1), object(1)\n",
      "memory usage: 1015.5+ KB\n"
     ]
    }
   ],
   "source": [
    "df = pd.read_csv('modeling_license.csv', sep = ',')\n",
    "\n",
    "# print first few rows of df \n",
    "df.info()"
   ]
  },
  {
   "cell_type": "markdown",
   "id": "e5490393",
   "metadata": {},
   "source": [
    "## 2. Model Preprocessing"
   ]
  },
  {
   "cell_type": "code",
   "execution_count": 3,
   "id": "b3ad6870",
   "metadata": {},
   "outputs": [
    {
     "data": {
      "text/html": [
       "<div>\n",
       "<style scoped>\n",
       "    .dataframe tbody tr th:only-of-type {\n",
       "        vertical-align: middle;\n",
       "    }\n",
       "\n",
       "    .dataframe tbody tr th {\n",
       "        vertical-align: top;\n",
       "    }\n",
       "\n",
       "    .dataframe thead th {\n",
       "        text-align: right;\n",
       "    }\n",
       "</style>\n",
       "<table border=\"1\" class=\"dataframe\">\n",
       "  <thead>\n",
       "    <tr style=\"text-align: right;\">\n",
       "      <th></th>\n",
       "      <th>Disclosure_Date</th>\n",
       "      <th>Country_WIPO_ID</th>\n",
       "      <th>Actually_File_Date</th>\n",
       "      <th>Is_Priority</th>\n",
       "      <th>Lawfirm</th>\n",
       "      <th>Attorney</th>\n",
       "      <th>Number_of_Inventors</th>\n",
       "      <th>Application_Type</th>\n",
       "      <th>Lead_Inventor</th>\n",
       "      <th>Division_Department</th>\n",
       "      <th>...</th>\n",
       "      <th>topic1</th>\n",
       "      <th>topic2</th>\n",
       "      <th>topic3</th>\n",
       "      <th>lda_topic</th>\n",
       "      <th>Licenses_in_Division</th>\n",
       "      <th>Successful Licenses_in_Division</th>\n",
       "      <th>Division_License_Success_Rate</th>\n",
       "      <th>Licenses_in_Tech</th>\n",
       "      <th>Disclosure_to_Filing</th>\n",
       "      <th>License_Status</th>\n",
       "    </tr>\n",
       "  </thead>\n",
       "  <tbody>\n",
       "    <tr>\n",
       "      <th>0</th>\n",
       "      <td>0.372629</td>\n",
       "      <td>0.941860</td>\n",
       "      <td>0.370048</td>\n",
       "      <td>1.0</td>\n",
       "      <td>0.701031</td>\n",
       "      <td>0.657343</td>\n",
       "      <td>0.000000</td>\n",
       "      <td>0.9</td>\n",
       "      <td>0.331307</td>\n",
       "      <td>0.633333</td>\n",
       "      <td>...</td>\n",
       "      <td>0.041752</td>\n",
       "      <td>0.897451</td>\n",
       "      <td>0.064076</td>\n",
       "      <td>0.5</td>\n",
       "      <td>1.0</td>\n",
       "      <td>1.0</td>\n",
       "      <td>0.45659</td>\n",
       "      <td>0.000000</td>\n",
       "      <td>0.510944</td>\n",
       "      <td>0.0</td>\n",
       "    </tr>\n",
       "    <tr>\n",
       "      <th>1</th>\n",
       "      <td>0.571259</td>\n",
       "      <td>0.941860</td>\n",
       "      <td>0.561741</td>\n",
       "      <td>1.0</td>\n",
       "      <td>0.154639</td>\n",
       "      <td>0.881119</td>\n",
       "      <td>0.000000</td>\n",
       "      <td>0.9</td>\n",
       "      <td>0.145897</td>\n",
       "      <td>0.006667</td>\n",
       "      <td>...</td>\n",
       "      <td>0.018005</td>\n",
       "      <td>0.750324</td>\n",
       "      <td>0.238005</td>\n",
       "      <td>0.5</td>\n",
       "      <td>1.0</td>\n",
       "      <td>1.0</td>\n",
       "      <td>0.45659</td>\n",
       "      <td>0.000000</td>\n",
       "      <td>0.502780</td>\n",
       "      <td>0.0</td>\n",
       "    </tr>\n",
       "    <tr>\n",
       "      <th>2</th>\n",
       "      <td>0.782425</td>\n",
       "      <td>0.941860</td>\n",
       "      <td>0.793953</td>\n",
       "      <td>1.0</td>\n",
       "      <td>0.701031</td>\n",
       "      <td>0.811189</td>\n",
       "      <td>0.111111</td>\n",
       "      <td>0.7</td>\n",
       "      <td>0.872340</td>\n",
       "      <td>0.746667</td>\n",
       "      <td>...</td>\n",
       "      <td>0.033183</td>\n",
       "      <td>0.430758</td>\n",
       "      <td>0.547701</td>\n",
       "      <td>1.0</td>\n",
       "      <td>1.0</td>\n",
       "      <td>1.0</td>\n",
       "      <td>0.45659</td>\n",
       "      <td>0.000000</td>\n",
       "      <td>0.529453</td>\n",
       "      <td>1.0</td>\n",
       "    </tr>\n",
       "    <tr>\n",
       "      <th>3</th>\n",
       "      <td>0.617259</td>\n",
       "      <td>0.058140</td>\n",
       "      <td>0.710370</td>\n",
       "      <td>0.0</td>\n",
       "      <td>0.701031</td>\n",
       "      <td>0.811189</td>\n",
       "      <td>0.166667</td>\n",
       "      <td>1.0</td>\n",
       "      <td>0.589666</td>\n",
       "      <td>0.406667</td>\n",
       "      <td>...</td>\n",
       "      <td>0.887480</td>\n",
       "      <td>0.054432</td>\n",
       "      <td>0.059367</td>\n",
       "      <td>0.0</td>\n",
       "      <td>1.0</td>\n",
       "      <td>1.0</td>\n",
       "      <td>0.45659</td>\n",
       "      <td>0.089888</td>\n",
       "      <td>0.630657</td>\n",
       "      <td>1.0</td>\n",
       "    </tr>\n",
       "    <tr>\n",
       "      <th>4</th>\n",
       "      <td>0.617259</td>\n",
       "      <td>0.104651</td>\n",
       "      <td>0.658887</td>\n",
       "      <td>0.0</td>\n",
       "      <td>0.701031</td>\n",
       "      <td>0.811189</td>\n",
       "      <td>0.166667</td>\n",
       "      <td>0.5</td>\n",
       "      <td>0.589666</td>\n",
       "      <td>0.406667</td>\n",
       "      <td>...</td>\n",
       "      <td>0.887481</td>\n",
       "      <td>0.054432</td>\n",
       "      <td>0.059366</td>\n",
       "      <td>0.0</td>\n",
       "      <td>1.0</td>\n",
       "      <td>1.0</td>\n",
       "      <td>0.45659</td>\n",
       "      <td>0.089888</td>\n",
       "      <td>0.566542</td>\n",
       "      <td>1.0</td>\n",
       "    </tr>\n",
       "  </tbody>\n",
       "</table>\n",
       "<p>5 rows × 40 columns</p>\n",
       "</div>"
      ],
      "text/plain": [
       "   Disclosure_Date  Country_WIPO_ID  Actually_File_Date  Is_Priority  \\\n",
       "0         0.372629         0.941860            0.370048          1.0   \n",
       "1         0.571259         0.941860            0.561741          1.0   \n",
       "2         0.782425         0.941860            0.793953          1.0   \n",
       "3         0.617259         0.058140            0.710370          0.0   \n",
       "4         0.617259         0.104651            0.658887          0.0   \n",
       "\n",
       "    Lawfirm  Attorney  Number_of_Inventors  Application_Type  Lead_Inventor  \\\n",
       "0  0.701031  0.657343             0.000000               0.9       0.331307   \n",
       "1  0.154639  0.881119             0.000000               0.9       0.145897   \n",
       "2  0.701031  0.811189             0.111111               0.7       0.872340   \n",
       "3  0.701031  0.811189             0.166667               1.0       0.589666   \n",
       "4  0.701031  0.811189             0.166667               0.5       0.589666   \n",
       "\n",
       "   Division_Department  ...    topic1    topic2    topic3  lda_topic  \\\n",
       "0             0.633333  ...  0.041752  0.897451  0.064076        0.5   \n",
       "1             0.006667  ...  0.018005  0.750324  0.238005        0.5   \n",
       "2             0.746667  ...  0.033183  0.430758  0.547701        1.0   \n",
       "3             0.406667  ...  0.887480  0.054432  0.059367        0.0   \n",
       "4             0.406667  ...  0.887481  0.054432  0.059366        0.0   \n",
       "\n",
       "   Licenses_in_Division  Successful Licenses_in_Division  \\\n",
       "0                   1.0                              1.0   \n",
       "1                   1.0                              1.0   \n",
       "2                   1.0                              1.0   \n",
       "3                   1.0                              1.0   \n",
       "4                   1.0                              1.0   \n",
       "\n",
       "   Division_License_Success_Rate  Licenses_in_Tech  Disclosure_to_Filing  \\\n",
       "0                        0.45659          0.000000              0.510944   \n",
       "1                        0.45659          0.000000              0.502780   \n",
       "2                        0.45659          0.000000              0.529453   \n",
       "3                        0.45659          0.089888              0.630657   \n",
       "4                        0.45659          0.089888              0.566542   \n",
       "\n",
       "   License_Status  \n",
       "0             0.0  \n",
       "1             0.0  \n",
       "2             1.0  \n",
       "3             1.0  \n",
       "4             1.0  \n",
       "\n",
       "[5 rows x 40 columns]"
      ]
     },
     "execution_count": 3,
     "metadata": {},
     "output_type": "execute_result"
    }
   ],
   "source": [
    "# drop unamed column \n",
    "df = df.drop(df.columns[0], axis=1)\n",
    "\n",
    "# Remove row with null patent_status\n",
    "df = df.dropna(subset=['License_Status'])\n",
    "\n",
    "# convert funding status to binary \n",
    "df.loc[df['License_Status']=='no_license', 'License_Status'] = 0\n",
    "df.loc[df['License_Status']=='license', 'License_Status'] = 1\n",
    "df[\"License_Status\"] = df.License_Status.astype(float)\n",
    "\n",
    "df.head()"
   ]
  },
  {
   "cell_type": "code",
   "execution_count": 4,
   "id": "494a92d9",
   "metadata": {
    "scrolled": true
   },
   "outputs": [
    {
     "name": "stderr",
     "output_type": "stream",
     "text": [
      "<ipython-input-4-69866c654d74>:5: DeprecationWarning: `np.bool` is a deprecated alias for the builtin `bool`. To silence this warning, use `bool` by itself. Doing this will not modify any behavior and is safe. If you specifically wanted the numpy scalar type, use `np.bool_` here.\n",
      "Deprecated in NumPy 1.20; for more details and guidance: https://numpy.org/devdocs/release/1.20.0-notes.html#deprecations\n",
      "  upper = corr_matrix.where(np.triu(np.ones(corr_matrix.shape), k=1).astype(np.bool))\n"
     ]
    },
    {
     "data": {
      "text/plain": [
       "['Actually_File_Date', 'Successful Licenses_in_Division']"
      ]
     },
     "execution_count": 4,
     "metadata": {},
     "output_type": "execute_result"
    }
   ],
   "source": [
    "# Create correlation matrix\n",
    "corr_matrix = df.corr().abs()\n",
    "\n",
    "# Select upper triangle of correlation matrix\n",
    "upper = corr_matrix.where(np.triu(np.ones(corr_matrix.shape), k=1).astype(np.bool))\n",
    "\n",
    "# Find features with correlation greater than 0.90\n",
    "to_drop = [column for column in upper.columns if any(upper[column] > 0.90)]\n",
    "\n",
    "# Keeping the highly correlated features attains higher model scoring, so we will keep\n",
    "to_drop\n",
    "\n",
    "# # Drop features \n",
    "#df.drop(to_drop, axis=1, inplace=True)"
   ]
  },
  {
   "cell_type": "code",
   "execution_count": 5,
   "id": "44d9d647",
   "metadata": {},
   "outputs": [
    {
     "data": {
      "text/plain": [
       "(2535, 2535, 634, 634, 3169)"
      ]
     },
     "execution_count": 5,
     "metadata": {},
     "output_type": "execute_result"
    }
   ],
   "source": [
    "X = df.iloc[:, 0:39]\n",
    "y = df.iloc[:, 39]\n",
    "x_train, x_test, y_train, y_test = train_test_split(X, y, test_size = 0.2, stratify = y)\n",
    "\n",
    "# check split of data\n",
    "len(x_train), len(y_train), len(x_test), len(y_test), len(df)"
   ]
  },
  {
   "cell_type": "code",
   "execution_count": 6,
   "id": "dc105cb6",
   "metadata": {},
   "outputs": [
    {
     "name": "stdout",
     "output_type": "stream",
     "text": [
      "(2754, 39)\n",
      "(2754,)\n",
      "0.0    0.5\n",
      "1.0    0.5\n",
      "Name: License_Status, dtype: float64\n"
     ]
    }
   ],
   "source": [
    "# Employment of SMOTE to oversample skewed funding outputs. This yields better results \n",
    "sm = SMOTE()\n",
    "x_train, y_train = sm.fit_resample(x_train, y_train)\n",
    "\n",
    "# check shape of x_train and y_train, and new response variable ratio\n",
    "print(x_train.shape)\n",
    "print(y_train.shape)\n",
    "print(y_train.value_counts(normalize = True))"
   ]
  },
  {
   "cell_type": "markdown",
   "id": "d5e54a01",
   "metadata": {},
   "source": [
    "## 3. Binary Classification Modeling Pipeline\n",
    "\n",
    "\n",
    "### Ensemble learning models perform better than standard binary classification models\n",
    "In this section, we train a number of models using the default model setting and compare their performance using f1 score. We will select the top 3 models to further explore in the next section."
   ]
  },
  {
   "cell_type": "code",
   "execution_count": 7,
   "id": "e2437929",
   "metadata": {
    "scrolled": true
   },
   "outputs": [
    {
     "name": "stderr",
     "output_type": "stream",
     "text": [
      "C:\\ProgramData\\Anaconda3\\lib\\site-packages\\sklearn\\linear_model\\_logistic.py:814: ConvergenceWarning: lbfgs failed to converge (status=1):\n",
      "STOP: TOTAL NO. of ITERATIONS REACHED LIMIT.\n",
      "\n",
      "Increase the number of iterations (max_iter) or scale the data as shown in:\n",
      "    https://scikit-learn.org/stable/modules/preprocessing.html\n",
      "Please also refer to the documentation for alternative solver options:\n",
      "    https://scikit-learn.org/stable/modules/linear_model.html#logistic-regression\n",
      "  n_iter_i = _check_optimize_result(\n",
      "C:\\ProgramData\\Anaconda3\\lib\\site-packages\\sklearn\\linear_model\\_logistic.py:814: ConvergenceWarning: lbfgs failed to converge (status=1):\n",
      "STOP: TOTAL NO. of ITERATIONS REACHED LIMIT.\n",
      "\n",
      "Increase the number of iterations (max_iter) or scale the data as shown in:\n",
      "    https://scikit-learn.org/stable/modules/preprocessing.html\n",
      "Please also refer to the documentation for alternative solver options:\n",
      "    https://scikit-learn.org/stable/modules/linear_model.html#logistic-regression\n",
      "  n_iter_i = _check_optimize_result(\n",
      "C:\\ProgramData\\Anaconda3\\lib\\site-packages\\sklearn\\linear_model\\_logistic.py:814: ConvergenceWarning: lbfgs failed to converge (status=1):\n",
      "STOP: TOTAL NO. of ITERATIONS REACHED LIMIT.\n",
      "\n",
      "Increase the number of iterations (max_iter) or scale the data as shown in:\n",
      "    https://scikit-learn.org/stable/modules/preprocessing.html\n",
      "Please also refer to the documentation for alternative solver options:\n",
      "    https://scikit-learn.org/stable/modules/linear_model.html#logistic-regression\n",
      "  n_iter_i = _check_optimize_result(\n",
      "C:\\ProgramData\\Anaconda3\\lib\\site-packages\\sklearn\\linear_model\\_logistic.py:814: ConvergenceWarning: lbfgs failed to converge (status=1):\n",
      "STOP: TOTAL NO. of ITERATIONS REACHED LIMIT.\n",
      "\n",
      "Increase the number of iterations (max_iter) or scale the data as shown in:\n",
      "    https://scikit-learn.org/stable/modules/preprocessing.html\n",
      "Please also refer to the documentation for alternative solver options:\n",
      "    https://scikit-learn.org/stable/modules/linear_model.html#logistic-regression\n",
      "  n_iter_i = _check_optimize_result(\n",
      "C:\\ProgramData\\Anaconda3\\lib\\site-packages\\sklearn\\linear_model\\_logistic.py:814: ConvergenceWarning: lbfgs failed to converge (status=1):\n",
      "STOP: TOTAL NO. of ITERATIONS REACHED LIMIT.\n",
      "\n",
      "Increase the number of iterations (max_iter) or scale the data as shown in:\n",
      "    https://scikit-learn.org/stable/modules/preprocessing.html\n",
      "Please also refer to the documentation for alternative solver options:\n",
      "    https://scikit-learn.org/stable/modules/linear_model.html#logistic-regression\n",
      "  n_iter_i = _check_optimize_result(\n",
      "C:\\ProgramData\\Anaconda3\\lib\\site-packages\\sklearn\\linear_model\\_logistic.py:814: ConvergenceWarning: lbfgs failed to converge (status=1):\n",
      "STOP: TOTAL NO. of ITERATIONS REACHED LIMIT.\n",
      "\n",
      "Increase the number of iterations (max_iter) or scale the data as shown in:\n",
      "    https://scikit-learn.org/stable/modules/preprocessing.html\n",
      "Please also refer to the documentation for alternative solver options:\n",
      "    https://scikit-learn.org/stable/modules/linear_model.html#logistic-regression\n",
      "  n_iter_i = _check_optimize_result(\n",
      "C:\\ProgramData\\Anaconda3\\lib\\site-packages\\sklearn\\linear_model\\_logistic.py:814: ConvergenceWarning: lbfgs failed to converge (status=1):\n",
      "STOP: TOTAL NO. of ITERATIONS REACHED LIMIT.\n",
      "\n",
      "Increase the number of iterations (max_iter) or scale the data as shown in:\n",
      "    https://scikit-learn.org/stable/modules/preprocessing.html\n",
      "Please also refer to the documentation for alternative solver options:\n",
      "    https://scikit-learn.org/stable/modules/linear_model.html#logistic-regression\n",
      "  n_iter_i = _check_optimize_result(\n",
      "C:\\ProgramData\\Anaconda3\\lib\\site-packages\\sklearn\\linear_model\\_logistic.py:814: ConvergenceWarning: lbfgs failed to converge (status=1):\n",
      "STOP: TOTAL NO. of ITERATIONS REACHED LIMIT.\n",
      "\n",
      "Increase the number of iterations (max_iter) or scale the data as shown in:\n",
      "    https://scikit-learn.org/stable/modules/preprocessing.html\n",
      "Please also refer to the documentation for alternative solver options:\n",
      "    https://scikit-learn.org/stable/modules/linear_model.html#logistic-regression\n",
      "  n_iter_i = _check_optimize_result(\n",
      "C:\\ProgramData\\Anaconda3\\lib\\site-packages\\sklearn\\linear_model\\_logistic.py:814: ConvergenceWarning: lbfgs failed to converge (status=1):\n",
      "STOP: TOTAL NO. of ITERATIONS REACHED LIMIT.\n",
      "\n",
      "Increase the number of iterations (max_iter) or scale the data as shown in:\n",
      "    https://scikit-learn.org/stable/modules/preprocessing.html\n",
      "Please also refer to the documentation for alternative solver options:\n",
      "    https://scikit-learn.org/stable/modules/linear_model.html#logistic-regression\n",
      "  n_iter_i = _check_optimize_result(\n"
     ]
    },
    {
     "name": "stdout",
     "output_type": "stream",
     "text": [
      "LogisticRegression: 0.762268 (0.029795)\n",
      "KNearestNeighbors: 0.839519 (0.023679)\n",
      "LinearSVC: 0.761361 (0.030443)\n",
      "DecisionTree: 0.873752 (0.016776)\n",
      "BaggingClassifier: 0.892681 (0.013973)\n",
      "BoostClassifier: 0.843363 (0.015998)\n",
      "RandomForest: 0.904039 (0.014754)\n",
      "GradientBoost: 0.885710 (0.025828)\n"
     ]
    },
    {
     "name": "stderr",
     "output_type": "stream",
     "text": [
      "C:\\ProgramData\\Anaconda3\\lib\\site-packages\\xgboost\\sklearn.py:1224: UserWarning: The use of label encoder in XGBClassifier is deprecated and will be removed in a future release. To remove this warning, do the following: 1) Pass option use_label_encoder=False when constructing XGBClassifier object; and 2) Encode your labels (y) as integers starting with 0, i.e. 0, 1, 2, ..., [num_class - 1].\n",
      "  warnings.warn(label_encoder_deprecation_msg, UserWarning)\n",
      "C:\\ProgramData\\Anaconda3\\lib\\site-packages\\xgboost\\sklearn.py:1224: UserWarning: The use of label encoder in XGBClassifier is deprecated and will be removed in a future release. To remove this warning, do the following: 1) Pass option use_label_encoder=False when constructing XGBClassifier object; and 2) Encode your labels (y) as integers starting with 0, i.e. 0, 1, 2, ..., [num_class - 1].\n",
      "  warnings.warn(label_encoder_deprecation_msg, UserWarning)\n",
      "C:\\ProgramData\\Anaconda3\\lib\\site-packages\\xgboost\\sklearn.py:1224: UserWarning: The use of label encoder in XGBClassifier is deprecated and will be removed in a future release. To remove this warning, do the following: 1) Pass option use_label_encoder=False when constructing XGBClassifier object; and 2) Encode your labels (y) as integers starting with 0, i.e. 0, 1, 2, ..., [num_class - 1].\n",
      "  warnings.warn(label_encoder_deprecation_msg, UserWarning)\n",
      "C:\\ProgramData\\Anaconda3\\lib\\site-packages\\xgboost\\sklearn.py:1224: UserWarning: The use of label encoder in XGBClassifier is deprecated and will be removed in a future release. To remove this warning, do the following: 1) Pass option use_label_encoder=False when constructing XGBClassifier object; and 2) Encode your labels (y) as integers starting with 0, i.e. 0, 1, 2, ..., [num_class - 1].\n",
      "  warnings.warn(label_encoder_deprecation_msg, UserWarning)\n",
      "C:\\ProgramData\\Anaconda3\\lib\\site-packages\\xgboost\\sklearn.py:1224: UserWarning: The use of label encoder in XGBClassifier is deprecated and will be removed in a future release. To remove this warning, do the following: 1) Pass option use_label_encoder=False when constructing XGBClassifier object; and 2) Encode your labels (y) as integers starting with 0, i.e. 0, 1, 2, ..., [num_class - 1].\n",
      "  warnings.warn(label_encoder_deprecation_msg, UserWarning)\n",
      "C:\\ProgramData\\Anaconda3\\lib\\site-packages\\xgboost\\sklearn.py:1224: UserWarning: The use of label encoder in XGBClassifier is deprecated and will be removed in a future release. To remove this warning, do the following: 1) Pass option use_label_encoder=False when constructing XGBClassifier object; and 2) Encode your labels (y) as integers starting with 0, i.e. 0, 1, 2, ..., [num_class - 1].\n",
      "  warnings.warn(label_encoder_deprecation_msg, UserWarning)\n",
      "C:\\ProgramData\\Anaconda3\\lib\\site-packages\\xgboost\\sklearn.py:1224: UserWarning: The use of label encoder in XGBClassifier is deprecated and will be removed in a future release. To remove this warning, do the following: 1) Pass option use_label_encoder=False when constructing XGBClassifier object; and 2) Encode your labels (y) as integers starting with 0, i.e. 0, 1, 2, ..., [num_class - 1].\n",
      "  warnings.warn(label_encoder_deprecation_msg, UserWarning)\n",
      "C:\\ProgramData\\Anaconda3\\lib\\site-packages\\xgboost\\sklearn.py:1224: UserWarning: The use of label encoder in XGBClassifier is deprecated and will be removed in a future release. To remove this warning, do the following: 1) Pass option use_label_encoder=False when constructing XGBClassifier object; and 2) Encode your labels (y) as integers starting with 0, i.e. 0, 1, 2, ..., [num_class - 1].\n",
      "  warnings.warn(label_encoder_deprecation_msg, UserWarning)\n",
      "C:\\ProgramData\\Anaconda3\\lib\\site-packages\\xgboost\\sklearn.py:1224: UserWarning: The use of label encoder in XGBClassifier is deprecated and will be removed in a future release. To remove this warning, do the following: 1) Pass option use_label_encoder=False when constructing XGBClassifier object; and 2) Encode your labels (y) as integers starting with 0, i.e. 0, 1, 2, ..., [num_class - 1].\n",
      "  warnings.warn(label_encoder_deprecation_msg, UserWarning)\n",
      "C:\\ProgramData\\Anaconda3\\lib\\site-packages\\xgboost\\sklearn.py:1224: UserWarning: The use of label encoder in XGBClassifier is deprecated and will be removed in a future release. To remove this warning, do the following: 1) Pass option use_label_encoder=False when constructing XGBClassifier object; and 2) Encode your labels (y) as integers starting with 0, i.e. 0, 1, 2, ..., [num_class - 1].\n",
      "  warnings.warn(label_encoder_deprecation_msg, UserWarning)\n"
     ]
    },
    {
     "name": "stdout",
     "output_type": "stream",
     "text": [
      "XGBoosting: 0.905394 (0.017445)\n"
     ]
    }
   ],
   "source": [
    "pipelines = []\n",
    "# Standard binary classification models \n",
    "pipelines.append(('LogisticRegression', Pipeline([('LR',linear_model.LogisticRegression())])))\n",
    "pipelines.append(('KNearestNeighbors', Pipeline([('KNN',KNeighborsClassifier())])))\n",
    "pipelines.append(('LinearSVC', Pipeline([('SVC',LinearSVC())])))\n",
    "pipelines.append(('DecisionTree', Pipeline([('DTREE',DecisionTreeClassifier())])))\n",
    "# Employment of ensemble learning \n",
    "pipelines.append(('BaggingClassifier', Pipeline([('BAG',BaggingClassifier())])))\n",
    "pipelines.append(('BoostClassifier', Pipeline([('BOOST',AdaBoostClassifier())])))\n",
    "pipelines.append(('RandomForest', Pipeline([('FOREST',RandomForestClassifier())])))\n",
    "pipelines.append(('GradientBoost', Pipeline([('GBoost',GradientBoostingClassifier())])))\n",
    "pipelines.append(('XGBoosting', Pipeline([('XGBoost',XGBClassifier(objective='binary:logistic', eval_metric='error'))])))\n",
    "\n",
    "results = []\n",
    "names = []\n",
    "for name, model in pipelines:\n",
    "    kfold = KFold(n_splits=10, random_state=42, shuffle=True)\n",
    "    cv_results = cross_val_score(model, x_train, y_train, cv=kfold, scoring='f1')\n",
    "    results.append(cv_results)\n",
    "    names.append(name)\n",
    "    msg = \"%s: %f (%f)\" % (name, cv_results.mean(), cv_results.std())\n",
    "    print(msg)\n",
    "    "
   ]
  },
  {
   "cell_type": "markdown",
   "id": "814dbff5",
   "metadata": {},
   "source": [
    "### Models with top f1 score:\n",
    "1. RandomForest\n",
    "2. XGBoost\n",
    "3. GradientBoost"
   ]
  },
  {
   "cell_type": "markdown",
   "id": "a4a25365",
   "metadata": {},
   "source": [
    "## 4. Model Outputs for selected models\n",
    "\n",
    "In this section, we double tap into the 6 models with top f1 scores. We read their confusion matrix to make sure the Type I and Type II errors are not too high. We also predict the trianing, testing and CV datasets using each model to compile a table where we can compare results from each round. The goal is to see how much a gap there is for each model between training and testing results and between trianing and CV results to avoid overfitting problem."
   ]
  },
  {
   "cell_type": "code",
   "execution_count": 8,
   "id": "7fbceb34",
   "metadata": {},
   "outputs": [],
   "source": [
    "def roc_curve(model):\n",
    "    probs = model.predict_proba(x_test)\n",
    "    preds = probs[:,1]\n",
    "    fpr, tpr, threshold = metrics.roc_curve(y_test, preds)\n",
    "    roc_auc = metrics.auc(fpr, tpr)\n",
    "\n",
    "    plt.figure()\n",
    "    plt.plot(fpr, tpr, label='GridSearchCV (area = %0.2f)' % roc_auc)\n",
    "    plt.plot([0, 1], [0, 1],'r--')\n",
    "    plt.xlim([0.0, 1.0])\n",
    "    plt.ylim([0.0, 1.05])\n",
    "    plt.xlabel('False Positive Rate')\n",
    "    plt.ylabel('True Positive Rate')\n",
    "    plt.title('Receiver operating characteristic')\n",
    "    plt.legend(loc=\"lower right\")\n",
    "    plt.savefig('Log_ROC')\n",
    "    plt.show()"
   ]
  },
  {
   "cell_type": "code",
   "execution_count": 9,
   "id": "6c156fa6",
   "metadata": {},
   "outputs": [],
   "source": [
    "def fitting_score(train_predictions, test_predictions, model):\n",
    "    # Evaluate the train, test and CV metrics\n",
    "    # train\n",
    "    train_recall = metrics.recall_score(y_train, train_predictions, average='macro')\n",
    "    train_precision = metrics.precision_score(y_train, train_predictions, average='macro')\n",
    "    train_f1 = metrics.f1_score(y_train, train_predictions, average='macro')\n",
    "\n",
    "    # test\n",
    "    test_recall = metrics.recall_score(y_test, test_predictions, average='macro')\n",
    "    test_precision = metrics.precision_score(y_test, test_predictions, average='macro')\n",
    "    test_f1 = metrics.f1_score(y_test, test_predictions, average='macro')\n",
    "\n",
    "    # CV\n",
    "    cv_recall = cross_val_score(model, x_train, y_train, cv=5, scoring='recall', n_jobs=-1).mean()\n",
    "    cv_precision = cross_val_score(model, x_train, y_train, cv=5, scoring='precision', n_jobs=-1).mean()\n",
    "    cv_f1 = cross_val_score(model, x_train, y_train, cv=5, scoring='f1', n_jobs=-1).mean()\n",
    "    \n",
    "    # Put everything in a table\n",
    "    d = {'train': [train_recall, train_precision, train_f1], 'test': [test_recall, test_precision, test_f1],\n",
    "        'cv':[cv_recall, cv_precision, cv_f1]}\n",
    "    score_df = pd.DataFrame(data=d, index=['recall', 'precision', 'f1'])\n",
    "    return score_df.round(decimals=3)"
   ]
  },
  {
   "cell_type": "markdown",
   "id": "11567a48",
   "metadata": {},
   "source": [
    "### 4.1. Random Forest "
   ]
  },
  {
   "cell_type": "code",
   "execution_count": 10,
   "id": "229d1059",
   "metadata": {},
   "outputs": [
    {
     "name": "stderr",
     "output_type": "stream",
     "text": [
      "C:\\ProgramData\\Anaconda3\\lib\\site-packages\\sklearn\\utils\\deprecation.py:87: FutureWarning: Function plot_confusion_matrix is deprecated; Function `plot_confusion_matrix` is deprecated in 1.0 and will be removed in 1.2. Use one of the class methods: ConfusionMatrixDisplay.from_predictions or ConfusionMatrixDisplay.from_estimator.\n",
      "  warnings.warn(msg, category=FutureWarning)\n"
     ]
    },
    {
     "data": {
      "image/png": "[encoded data removed]",
      "text/plain": [
       "<Figure size 432x288 with 2 Axes>"
      ]
     },
     "metadata": {
      "needs_background": "light"
     },
     "output_type": "display_data"
    },
    {
     "name": "stdout",
     "output_type": "stream",
     "text": [
      "\n",
      "Random Forest Confusion Matrix\n",
      "               precision    recall  f1-score   support\n",
      "\n",
      "         0.0       0.92      0.92      0.92       344\n",
      "         1.0       0.90      0.91      0.91       290\n",
      "\n",
      "    accuracy                           0.91       634\n",
      "   macro avg       0.91      0.91      0.91       634\n",
      "weighted avg       0.91      0.91      0.91       634\n",
      "\n",
      "\n",
      "Accuracy: 0.913\n",
      "\n",
      " Random Forest Train/Test/CV Scoring\n"
     ]
    },
    {
     "data": {
      "text/html": [
       "<div>\n",
       "<style scoped>\n",
       "    .dataframe tbody tr th:only-of-type {\n",
       "        vertical-align: middle;\n",
       "    }\n",
       "\n",
       "    .dataframe tbody tr th {\n",
       "        vertical-align: top;\n",
       "    }\n",
       "\n",
       "    .dataframe thead th {\n",
       "        text-align: right;\n",
       "    }\n",
       "</style>\n",
       "<table border=\"1\" class=\"dataframe\">\n",
       "  <thead>\n",
       "    <tr style=\"text-align: right;\">\n",
       "      <th></th>\n",
       "      <th>train</th>\n",
       "      <th>test</th>\n",
       "      <th>cv</th>\n",
       "    </tr>\n",
       "  </thead>\n",
       "  <tbody>\n",
       "    <tr>\n",
       "      <th>recall</th>\n",
       "      <td>1.0</td>\n",
       "      <td>0.913</td>\n",
       "      <td>0.906</td>\n",
       "    </tr>\n",
       "    <tr>\n",
       "      <th>precision</th>\n",
       "      <td>1.0</td>\n",
       "      <td>0.912</td>\n",
       "      <td>0.898</td>\n",
       "    </tr>\n",
       "    <tr>\n",
       "      <th>f1</th>\n",
       "      <td>1.0</td>\n",
       "      <td>0.913</td>\n",
       "      <td>0.902</td>\n",
       "    </tr>\n",
       "  </tbody>\n",
       "</table>\n",
       "</div>"
      ],
      "text/plain": [
       "           train   test     cv\n",
       "recall       1.0  0.913  0.906\n",
       "precision    1.0  0.912  0.898\n",
       "f1           1.0  0.913  0.902"
      ]
     },
     "execution_count": 10,
     "metadata": {},
     "output_type": "execute_result"
    }
   ],
   "source": [
    "#Produce and save the model, then load and apply the model.\n",
    "rfc = RandomForestClassifier(random_state=42)\n",
    "rfc.fit(x_train, y_train)\n",
    "rfc_predictions = rfc.predict(x_test)\n",
    "rfc_predictions_train=rfc.predict(x_train)\n",
    "\n",
    "rfc_matrix = metrics.confusion_matrix(y_test,rfc_predictions)\n",
    "\n",
    "plot_confusion_matrix(rfc, x_test, y_test)  \n",
    "plt.show()\n",
    "\n",
    "class_report_rfc = classification_report(y_test, rfc_predictions)\n",
    "print(\"\\nRandom Forest Confusion Matrix\\n\",class_report_rfc)\n",
    "\n",
    "print(\"\\nAccuracy:\",round(metrics.accuracy_score(y_test,rfc_predictions),3))\n",
    "\n",
    "\n",
    "print('\\n Random Forest Train/Test/CV Scoring')\n",
    "fitting_score(rfc_predictions_train, rfc_predictions, rfc)"
   ]
  },
  {
   "cell_type": "code",
   "execution_count": 11,
   "id": "cb8b967a",
   "metadata": {
    "scrolled": false
   },
   "outputs": [
    {
     "data": {
      "image/png": "[encoded data removed]",
      "text/plain": [
       "<Figure size 1440x1872 with 1 Axes>"
      ]
     },
     "metadata": {
      "needs_background": "light"
     },
     "output_type": "display_data"
    }
   ],
   "source": [
    "# Review feature importance in descending order\n",
    "features = X.columns\n",
    "importances = rfc.feature_importances_\n",
    "indices = np.argsort(importances)\n",
    "\n",
    "plt.figure(figsize=(20, 26))\n",
    "plt.title('Feature Importance', fontsize=20)\n",
    "plt.barh(range(len(indices)), importances[indices], color='cornflowerblue', align='center')\n",
    "plt.yticks(range(len(indices)), [features[i] for i in indices], fontsize=15)\n",
    "plt.xlabel('Importance', fontsize=20)\n",
    "plt.show()"
   ]
  },
  {
   "cell_type": "code",
   "execution_count": 12,
   "id": "d0b20e6b",
   "metadata": {
    "scrolled": true
   },
   "outputs": [
    {
     "data": {
      "image/png": "[encoded data removed]",
      "text/plain": [
       "<Figure size 432x288 with 1 Axes>"
      ]
     },
     "metadata": {
      "needs_background": "light"
     },
     "output_type": "display_data"
    }
   ],
   "source": [
    "roc_curve(rfc)"
   ]
  },
  {
   "cell_type": "markdown",
   "id": "b1089e67",
   "metadata": {},
   "source": [
    "### 4.2 XGBoost "
   ]
  },
  {
   "cell_type": "code",
   "execution_count": 13,
   "id": "d917655a",
   "metadata": {},
   "outputs": [
    {
     "name": "stderr",
     "output_type": "stream",
     "text": [
      "C:\\ProgramData\\Anaconda3\\lib\\site-packages\\xgboost\\sklearn.py:1224: UserWarning: The use of label encoder in XGBClassifier is deprecated and will be removed in a future release. To remove this warning, do the following: 1) Pass option use_label_encoder=False when constructing XGBClassifier object; and 2) Encode your labels (y) as integers starting with 0, i.e. 0, 1, 2, ..., [num_class - 1].\n",
      "  warnings.warn(label_encoder_deprecation_msg, UserWarning)\n",
      "C:\\ProgramData\\Anaconda3\\lib\\site-packages\\sklearn\\utils\\deprecation.py:87: FutureWarning: Function plot_confusion_matrix is deprecated; Function `plot_confusion_matrix` is deprecated in 1.0 and will be removed in 1.2. Use one of the class methods: ConfusionMatrixDisplay.from_predictions or ConfusionMatrixDisplay.from_estimator.\n",
      "  warnings.warn(msg, category=FutureWarning)\n"
     ]
    },
    {
     "data": {
      "image/png": "[encoded data removed]",
      "text/plain": [
       "<Figure size 432x288 with 2 Axes>"
      ]
     },
     "metadata": {
      "needs_background": "light"
     },
     "output_type": "display_data"
    },
    {
     "name": "stdout",
     "output_type": "stream",
     "text": [
      "\n",
      "XGBoost Confusion Matrix\n",
      "               precision    recall  f1-score   support\n",
      "\n",
      "         0.0       0.91      0.88      0.90       344\n",
      "         1.0       0.87      0.90      0.88       290\n",
      "\n",
      "    accuracy                           0.89       634\n",
      "   macro avg       0.89      0.89      0.89       634\n",
      "weighted avg       0.89      0.89      0.89       634\n",
      "\n",
      "\n",
      "Accuracy: 0.891\n",
      "\n",
      "XGBoost Train/Test/CV Scoring\n"
     ]
    },
    {
     "data": {
      "text/html": [
       "<div>\n",
       "<style scoped>\n",
       "    .dataframe tbody tr th:only-of-type {\n",
       "        vertical-align: middle;\n",
       "    }\n",
       "\n",
       "    .dataframe tbody tr th {\n",
       "        vertical-align: top;\n",
       "    }\n",
       "\n",
       "    .dataframe thead th {\n",
       "        text-align: right;\n",
       "    }\n",
       "</style>\n",
       "<table border=\"1\" class=\"dataframe\">\n",
       "  <thead>\n",
       "    <tr style=\"text-align: right;\">\n",
       "      <th></th>\n",
       "      <th>train</th>\n",
       "      <th>test</th>\n",
       "      <th>cv</th>\n",
       "    </tr>\n",
       "  </thead>\n",
       "  <tbody>\n",
       "    <tr>\n",
       "      <th>recall</th>\n",
       "      <td>0.922</td>\n",
       "      <td>0.892</td>\n",
       "      <td>0.885</td>\n",
       "    </tr>\n",
       "    <tr>\n",
       "      <th>precision</th>\n",
       "      <td>0.922</td>\n",
       "      <td>0.890</td>\n",
       "      <td>0.883</td>\n",
       "    </tr>\n",
       "    <tr>\n",
       "      <th>f1</th>\n",
       "      <td>0.922</td>\n",
       "      <td>0.891</td>\n",
       "      <td>0.883</td>\n",
       "    </tr>\n",
       "  </tbody>\n",
       "</table>\n",
       "</div>"
      ],
      "text/plain": [
       "           train   test     cv\n",
       "recall     0.922  0.892  0.885\n",
       "precision  0.922  0.890  0.883\n",
       "f1         0.922  0.891  0.883"
      ]
     },
     "execution_count": 13,
     "metadata": {},
     "output_type": "execute_result"
    }
   ],
   "source": [
    "#Produce and save the model, then load and apply the model.\n",
    "# Initial estimations for XGBoost were included within the model \n",
    "xgb = XGBClassifier(random_state=42, objective='binary:logistic', eval_metric='error', gamma=10,\n",
    "                   colsample_bytree=0.25, learning_rate=0.1, n_estimators=200, reg_lambda=1)\n",
    "xgb.fit(x_train, y_train)\n",
    "xgb_predictions = xgb.predict(x_test)\n",
    "xgb_predictions_train = xgb.predict(x_train)\n",
    "\n",
    "xgb_matrix = metrics.confusion_matrix(y_test,xgb_predictions)\n",
    "\n",
    "plot_confusion_matrix(xgb, x_test, y_test)  \n",
    "plt.show()\n",
    "\n",
    "class_report_xgb = classification_report(y_test, xgb_predictions)\n",
    "print(\"\\nXGBoost Confusion Matrix\\n\",class_report_xgb)\n",
    "\n",
    "print(\"\\nAccuracy:\",round(metrics.accuracy_score(y_test,xgb_predictions),3))\n",
    "\n",
    "print('\\nXGBoost Train/Test/CV Scoring')\n",
    "fitting_score(xgb_predictions_train, xgb_predictions, xgb)"
   ]
  },
  {
   "cell_type": "code",
   "execution_count": 14,
   "id": "f656a8b7",
   "metadata": {},
   "outputs": [
    {
     "data": {
      "image/png": "[encoded data removed]",
      "text/plain": [
       "<Figure size 432x288 with 1 Axes>"
      ]
     },
     "metadata": {
      "needs_background": "light"
     },
     "output_type": "display_data"
    }
   ],
   "source": [
    "roc_curve(xgb)"
   ]
  },
  {
   "cell_type": "markdown",
   "id": "cca77363",
   "metadata": {},
   "source": [
    "### 4.3. Gradient Boosting "
   ]
  },
  {
   "cell_type": "code",
   "execution_count": 15,
   "id": "147ba9fe",
   "metadata": {
    "scrolled": false
   },
   "outputs": [
    {
     "name": "stderr",
     "output_type": "stream",
     "text": [
      "C:\\ProgramData\\Anaconda3\\lib\\site-packages\\sklearn\\utils\\deprecation.py:87: FutureWarning: Function plot_confusion_matrix is deprecated; Function `plot_confusion_matrix` is deprecated in 1.0 and will be removed in 1.2. Use one of the class methods: ConfusionMatrixDisplay.from_predictions or ConfusionMatrixDisplay.from_estimator.\n",
      "  warnings.warn(msg, category=FutureWarning)\n"
     ]
    },
    {
     "data": {
      "image/png": "[encoded data removed]",
      "text/plain": [
       "<Figure size 432x288 with 2 Axes>"
      ]
     },
     "metadata": {
      "needs_background": "light"
     },
     "output_type": "display_data"
    },
    {
     "name": "stdout",
     "output_type": "stream",
     "text": [
      "\n",
      "Gradient Boosting Classifier Confusion Matrix\n",
      "               precision    recall  f1-score   support\n",
      "\n",
      "         0.0       0.91      0.89      0.90       344\n",
      "         1.0       0.87      0.89      0.88       290\n",
      "\n",
      "    accuracy                           0.89       634\n",
      "   macro avg       0.89      0.89      0.89       634\n",
      "weighted avg       0.89      0.89      0.89       634\n",
      "\n",
      "\n",
      "Accuracy: 0.89\n",
      "\n",
      " Gradient Boosting Classification Train/Test/CV Scoring\n"
     ]
    },
    {
     "data": {
      "text/html": [
       "<div>\n",
       "<style scoped>\n",
       "    .dataframe tbody tr th:only-of-type {\n",
       "        vertical-align: middle;\n",
       "    }\n",
       "\n",
       "    .dataframe tbody tr th {\n",
       "        vertical-align: top;\n",
       "    }\n",
       "\n",
       "    .dataframe thead th {\n",
       "        text-align: right;\n",
       "    }\n",
       "</style>\n",
       "<table border=\"1\" class=\"dataframe\">\n",
       "  <thead>\n",
       "    <tr style=\"text-align: right;\">\n",
       "      <th></th>\n",
       "      <th>train</th>\n",
       "      <th>test</th>\n",
       "      <th>cv</th>\n",
       "    </tr>\n",
       "  </thead>\n",
       "  <tbody>\n",
       "    <tr>\n",
       "      <th>recall</th>\n",
       "      <td>0.923</td>\n",
       "      <td>0.890</td>\n",
       "      <td>0.878</td>\n",
       "    </tr>\n",
       "    <tr>\n",
       "      <th>precision</th>\n",
       "      <td>0.923</td>\n",
       "      <td>0.888</td>\n",
       "      <td>0.880</td>\n",
       "    </tr>\n",
       "    <tr>\n",
       "      <th>f1</th>\n",
       "      <td>0.923</td>\n",
       "      <td>0.889</td>\n",
       "      <td>0.879</td>\n",
       "    </tr>\n",
       "  </tbody>\n",
       "</table>\n",
       "</div>"
      ],
      "text/plain": [
       "           train   test     cv\n",
       "recall     0.923  0.890  0.878\n",
       "precision  0.923  0.888  0.880\n",
       "f1         0.923  0.889  0.879"
      ]
     },
     "execution_count": 15,
     "metadata": {},
     "output_type": "execute_result"
    }
   ],
   "source": [
    "#Produce and save the model, then load and apply the model.\n",
    "gbm = GradientBoostingClassifier(random_state=42)\n",
    "gbm.fit(x_train, y_train)\n",
    "gbm_predictions = gbm.predict(x_test)\n",
    "gbm_predictions_train = gbm.predict(x_train)\n",
    "\n",
    "gbm_matrix = metrics.confusion_matrix(y_test,gbm_predictions)\n",
    "\n",
    "plot_confusion_matrix(gbm, x_test, y_test)  \n",
    "plt.show()\n",
    "\n",
    "class_report_gbm = classification_report(y_test, gbm_predictions)\n",
    "print(\"\\nGradient Boosting Classifier Confusion Matrix\\n\",class_report_gbm)\n",
    "\n",
    "print(\"\\nAccuracy:\",round(metrics.accuracy_score(y_test,gbm_predictions),3))\n",
    "\n",
    "print('\\n Gradient Boosting Classification Train/Test/CV Scoring')\n",
    "fitting_score(gbm_predictions_train, gbm_predictions, gbm)"
   ]
  },
  {
   "cell_type": "code",
   "execution_count": 16,
   "id": "aa4aa544",
   "metadata": {
    "scrolled": true
   },
   "outputs": [
    {
     "data": {
      "image/png": "[encoded data removed]",
      "text/plain": [
       "<Figure size 432x288 with 1 Axes>"
      ]
     },
     "metadata": {
      "needs_background": "light"
     },
     "output_type": "display_data"
    }
   ],
   "source": [
    "roc_curve(gbm)"
   ]
  },
  {
   "cell_type": "markdown",
   "id": "690982ce",
   "metadata": {},
   "source": [
    "## 5. Hyperparameter Tuning\n",
    "In this section, we further select the top 3 models to perform hyperparameter tuning. We are uisng grid search to look for the best combination of different model parameter settings. We also perform additional manual tuning on the parameters if there is significant overfitting."
   ]
  },
  {
   "cell_type": "markdown",
   "id": "542ae92b",
   "metadata": {},
   "source": [
    "### 5.1. Parameter Tuning for Random Forest (best f1 test scoring, but overfitting occurring)"
   ]
  },
  {
   "cell_type": "code",
   "execution_count": 17,
   "id": "2bf98865",
   "metadata": {},
   "outputs": [
    {
     "name": "stdout",
     "output_type": "stream",
     "text": [
      "Fitting 3 folds for each of 500 candidates, totalling 1500 fits\n"
     ]
    },
    {
     "data": {
      "text/plain": [
       "GridSearchCV(cv=3, estimator=RandomForestClassifier(random_state=42), n_jobs=4,\n",
       "             param_grid={'max_depth': [5, 8, 15, 25, 30],\n",
       "                         'min_samples_leaf': [1, 2, 5, 10],\n",
       "                         'min_samples_split': [2, 5, 10, 15, 100],\n",
       "                         'n_estimators': [100, 300, 500, 800, 1200]},\n",
       "             scoring='f1', verbose=1)"
      ]
     },
     "execution_count": 17,
     "metadata": {},
     "output_type": "execute_result"
    }
   ],
   "source": [
    "# Tune learning rate and n_estimators\n",
    "tuned_param = {'n_estimators':[100, 300, 500, 800, 1200], 'min_samples_split':[2, 5, 10, 15, 100], \n",
    "               'min_samples_leaf':[1, 2, 5, 10], 'max_depth':[5, 8, 15, 25, 30]}\n",
    "tuning = GridSearchCV(estimator =rfc, \n",
    "                      param_grid = tuned_param, scoring='f1',n_jobs=4, cv=3, verbose = 1)\n",
    "tuning.fit(x_train,y_train)"
   ]
  },
  {
   "cell_type": "code",
   "execution_count": 18,
   "id": "a71c38a8",
   "metadata": {
    "scrolled": true
   },
   "outputs": [
    {
     "data": {
      "text/plain": [
       "{'max_depth': 15,\n",
       " 'min_samples_leaf': 1,\n",
       " 'min_samples_split': 5,\n",
       " 'n_estimators': 100}"
      ]
     },
     "execution_count": 18,
     "metadata": {},
     "output_type": "execute_result"
    }
   ],
   "source": [
    "tuning.best_params_"
   ]
  },
  {
   "cell_type": "code",
   "execution_count": 19,
   "id": "6b0c056a",
   "metadata": {},
   "outputs": [
    {
     "name": "stderr",
     "output_type": "stream",
     "text": [
      "C:\\ProgramData\\Anaconda3\\lib\\site-packages\\sklearn\\utils\\deprecation.py:87: FutureWarning: Function plot_confusion_matrix is deprecated; Function `plot_confusion_matrix` is deprecated in 1.0 and will be removed in 1.2. Use one of the class methods: ConfusionMatrixDisplay.from_predictions or ConfusionMatrixDisplay.from_estimator.\n",
      "  warnings.warn(msg, category=FutureWarning)\n"
     ]
    },
    {
     "data": {
      "image/png": "[encoded data removed]",
      "text/plain": [
       "<Figure size 432x288 with 2 Axes>"
      ]
     },
     "metadata": {
      "needs_background": "light"
     },
     "output_type": "display_data"
    },
    {
     "name": "stdout",
     "output_type": "stream",
     "text": [
      "\n",
      "Random Forest Confusion Matrix\n",
      "               precision    recall  f1-score   support\n",
      "\n",
      "         0.0       0.93      0.92      0.93       344\n",
      "         1.0       0.91      0.92      0.91       290\n",
      "\n",
      "    accuracy                           0.92       634\n",
      "   macro avg       0.92      0.92      0.92       634\n",
      "weighted avg       0.92      0.92      0.92       634\n",
      "\n",
      "\n",
      "Accuracy: 0.92\n",
      "\n",
      " Random Forest Train/Test/CV Scoring\n"
     ]
    },
    {
     "data": {
      "text/html": [
       "<div>\n",
       "<style scoped>\n",
       "    .dataframe tbody tr th:only-of-type {\n",
       "        vertical-align: middle;\n",
       "    }\n",
       "\n",
       "    .dataframe tbody tr th {\n",
       "        vertical-align: top;\n",
       "    }\n",
       "\n",
       "    .dataframe thead th {\n",
       "        text-align: right;\n",
       "    }\n",
       "</style>\n",
       "<table border=\"1\" class=\"dataframe\">\n",
       "  <thead>\n",
       "    <tr style=\"text-align: right;\">\n",
       "      <th></th>\n",
       "      <th>train</th>\n",
       "      <th>test</th>\n",
       "      <th>cv</th>\n",
       "    </tr>\n",
       "  </thead>\n",
       "  <tbody>\n",
       "    <tr>\n",
       "      <th>recall</th>\n",
       "      <td>0.992</td>\n",
       "      <td>0.920</td>\n",
       "      <td>0.908</td>\n",
       "    </tr>\n",
       "    <tr>\n",
       "      <th>precision</th>\n",
       "      <td>0.992</td>\n",
       "      <td>0.919</td>\n",
       "      <td>0.898</td>\n",
       "    </tr>\n",
       "    <tr>\n",
       "      <th>f1</th>\n",
       "      <td>0.992</td>\n",
       "      <td>0.919</td>\n",
       "      <td>0.902</td>\n",
       "    </tr>\n",
       "  </tbody>\n",
       "</table>\n",
       "</div>"
      ],
      "text/plain": [
       "           train   test     cv\n",
       "recall     0.992  0.920  0.908\n",
       "precision  0.992  0.919  0.898\n",
       "f1         0.992  0.919  0.902"
      ]
     },
     "execution_count": 19,
     "metadata": {},
     "output_type": "execute_result"
    }
   ],
   "source": [
    "#Produce and save the model, then load and apply the model.\n",
    "rfc = RandomForestClassifier(max_depth=25, min_samples_leaf=1,\n",
    "                            min_samples_split=5, n_estimators=1200, random_state=42)\n",
    "rfc.fit(x_train, y_train)\n",
    "rfc_predictions = rfc.predict(x_test)\n",
    "rfc_predictions_train=rfc.predict(x_train)\n",
    "\n",
    "rfc_matrix = metrics.confusion_matrix(y_test,rfc_predictions)\n",
    "\n",
    "plot_confusion_matrix(rfc, x_test, y_test)  \n",
    "plt.show()\n",
    "\n",
    "class_report_rfc = classification_report(y_test, rfc_predictions)\n",
    "print(\"\\nRandom Forest Confusion Matrix\\n\",class_report_rfc)\n",
    "\n",
    "print(\"\\nAccuracy:\",round(metrics.accuracy_score(y_test,rfc_predictions),3))\n",
    "\n",
    "\n",
    "print('\\n Random Forest Train/Test/CV Scoring')\n",
    "fitting_score(rfc_predictions_train, rfc_predictions, rfc)"
   ]
  },
  {
   "cell_type": "markdown",
   "id": "cc454d76",
   "metadata": {},
   "source": [
    "We observe significant overfitting, so we need to manually tune the model parameters again"
   ]
  },
  {
   "cell_type": "code",
   "execution_count": 20,
   "id": "f151e051",
   "metadata": {},
   "outputs": [
    {
     "name": "stderr",
     "output_type": "stream",
     "text": [
      "C:\\ProgramData\\Anaconda3\\lib\\site-packages\\sklearn\\utils\\deprecation.py:87: FutureWarning: Function plot_confusion_matrix is deprecated; Function `plot_confusion_matrix` is deprecated in 1.0 and will be removed in 1.2. Use one of the class methods: ConfusionMatrixDisplay.from_predictions or ConfusionMatrixDisplay.from_estimator.\n",
      "  warnings.warn(msg, category=FutureWarning)\n"
     ]
    },
    {
     "data": {
      "image/png": "[encoded data removed]",
      "text/plain": [
       "<Figure size 432x288 with 2 Axes>"
      ]
     },
     "metadata": {
      "needs_background": "light"
     },
     "output_type": "display_data"
    },
    {
     "name": "stdout",
     "output_type": "stream",
     "text": [
      "\n",
      "Random Forest Confusion Matrix\n",
      "               precision    recall  f1-score   support\n",
      "\n",
      "         0.0       0.86      0.82      0.84       344\n",
      "         1.0       0.79      0.84      0.82       290\n",
      "\n",
      "    accuracy                           0.83       634\n",
      "   macro avg       0.83      0.83      0.83       634\n",
      "weighted avg       0.83      0.83      0.83       634\n",
      "\n",
      "\n",
      "Accuracy: 0.828\n",
      "\n",
      " Random Forest Train/Test/CV Scoring\n"
     ]
    },
    {
     "data": {
      "text/html": [
       "<div>\n",
       "<style scoped>\n",
       "    .dataframe tbody tr th:only-of-type {\n",
       "        vertical-align: middle;\n",
       "    }\n",
       "\n",
       "    .dataframe tbody tr th {\n",
       "        vertical-align: top;\n",
       "    }\n",
       "\n",
       "    .dataframe thead th {\n",
       "        text-align: right;\n",
       "    }\n",
       "</style>\n",
       "<table border=\"1\" class=\"dataframe\">\n",
       "  <thead>\n",
       "    <tr style=\"text-align: right;\">\n",
       "      <th></th>\n",
       "      <th>train</th>\n",
       "      <th>test</th>\n",
       "      <th>cv</th>\n",
       "    </tr>\n",
       "  </thead>\n",
       "  <tbody>\n",
       "    <tr>\n",
       "      <th>recall</th>\n",
       "      <td>0.841</td>\n",
       "      <td>0.829</td>\n",
       "      <td>0.795</td>\n",
       "    </tr>\n",
       "    <tr>\n",
       "      <th>precision</th>\n",
       "      <td>0.842</td>\n",
       "      <td>0.827</td>\n",
       "      <td>0.845</td>\n",
       "    </tr>\n",
       "    <tr>\n",
       "      <th>f1</th>\n",
       "      <td>0.840</td>\n",
       "      <td>0.827</td>\n",
       "      <td>0.819</td>\n",
       "    </tr>\n",
       "  </tbody>\n",
       "</table>\n",
       "</div>"
      ],
      "text/plain": [
       "           train   test     cv\n",
       "recall     0.841  0.829  0.795\n",
       "precision  0.842  0.827  0.845\n",
       "f1         0.840  0.827  0.819"
      ]
     },
     "execution_count": 20,
     "metadata": {},
     "output_type": "execute_result"
    }
   ],
   "source": [
    "#Produce and save the model, then load and apply the model.\n",
    "rfc = RandomForestClassifier(max_depth=5, min_samples_leaf=1,\n",
    "                            min_samples_split=5, n_estimators=1200, random_state=42)\n",
    "rfc.fit(x_train, y_train)\n",
    "rfc_predictions = rfc.predict(x_test)\n",
    "rfc_predictions_train=rfc.predict(x_train)\n",
    "\n",
    "rfc_matrix = metrics.confusion_matrix(y_test,rfc_predictions)\n",
    "\n",
    "plot_confusion_matrix(rfc, x_test, y_test)  \n",
    "plt.show()\n",
    "\n",
    "class_report_rfc = classification_report(y_test, rfc_predictions)\n",
    "print(\"\\nRandom Forest Confusion Matrix\\n\",class_report_rfc)\n",
    "\n",
    "print(\"\\nAccuracy:\",round(metrics.accuracy_score(y_test,rfc_predictions),3))\n",
    "\n",
    "\n",
    "print('\\n Random Forest Train/Test/CV Scoring')\n",
    "fitting_score(rfc_predictions_train, rfc_predictions, rfc)"
   ]
  },
  {
   "cell_type": "markdown",
   "id": "1026353f",
   "metadata": {},
   "source": [
    "### 5.1. Parameter Tuning for Gradient Boosting (Good f1 scoring and less overfitting)"
   ]
  },
  {
   "cell_type": "code",
   "execution_count": 21,
   "id": "b0f027f3",
   "metadata": {
    "scrolled": true
   },
   "outputs": [
    {
     "data": {
      "text/plain": [
       "GridSearchCV(cv=5,\n",
       "             estimator=GradientBoostingClassifier(max_depth=4, random_state=2,\n",
       "                                                  subsample=1),\n",
       "             n_jobs=4,\n",
       "             param_grid={'learning_rate': [0.1, 0.05, 0.01],\n",
       "                         'min_samples_leaf': [1, 10, 20],\n",
       "                         'min_samples_split': [2, 20, 50],\n",
       "                         'n_estimators': [100, 250, 500]},\n",
       "             scoring='f1')"
      ]
     },
     "execution_count": 21,
     "metadata": {},
     "output_type": "execute_result"
    }
   ],
   "source": [
    "# Tune learning rate and n_estimators\n",
    "tuned_param = {'learning_rate':[0.1,0.05,0.01], 'n_estimators':[100,250,500], 'min_samples_split':[2,20,50], \n",
    "               'min_samples_leaf':[1, 10, 20]}\n",
    "tuning = GridSearchCV(estimator =GradientBoostingClassifier(max_depth=4, random_state=2, \n",
    "                               subsample=1), \n",
    "                      param_grid = tuned_param, scoring='f1',n_jobs=4, cv=5)\n",
    "tuning.fit(x_train,y_train)"
   ]
  },
  {
   "cell_type": "code",
   "execution_count": 22,
   "id": "3469bcf2",
   "metadata": {
    "scrolled": true
   },
   "outputs": [
    {
     "name": "stderr",
     "output_type": "stream",
     "text": [
      "<ipython-input-22-efad291d2317>:1: RuntimeWarning: invalid value encountered in double_scalars\n",
      "  tuning.best_params_, (-tuning.best_score_)**(1/2)\n"
     ]
    },
    {
     "data": {
      "text/plain": [
       "({'learning_rate': 0.1,\n",
       "  'min_samples_leaf': 10,\n",
       "  'min_samples_split': 2,\n",
       "  'n_estimators': 500},\n",
       " nan)"
      ]
     },
     "execution_count": 22,
     "metadata": {},
     "output_type": "execute_result"
    }
   ],
   "source": [
    "tuning.best_params_, (-tuning.best_score_)**(1/2)"
   ]
  },
  {
   "cell_type": "code",
   "execution_count": 23,
   "id": "ddbb5e2b",
   "metadata": {},
   "outputs": [
    {
     "name": "stderr",
     "output_type": "stream",
     "text": [
      "C:\\ProgramData\\Anaconda3\\lib\\site-packages\\sklearn\\utils\\deprecation.py:87: FutureWarning: Function plot_confusion_matrix is deprecated; Function `plot_confusion_matrix` is deprecated in 1.0 and will be removed in 1.2. Use one of the class methods: ConfusionMatrixDisplay.from_predictions or ConfusionMatrixDisplay.from_estimator.\n",
      "  warnings.warn(msg, category=FutureWarning)\n"
     ]
    },
    {
     "data": {
      "image/png": "[encoded data removed]",
      "text/plain": [
       "<Figure size 432x288 with 2 Axes>"
      ]
     },
     "metadata": {
      "needs_background": "light"
     },
     "output_type": "display_data"
    },
    {
     "name": "stdout",
     "output_type": "stream",
     "text": [
      "\n",
      "Gradient Boosting Classifier Confusion Matrix\n",
      "               precision    recall  f1-score   support\n",
      "\n",
      "         0.0       0.91      0.93      0.92       344\n",
      "         1.0       0.91      0.89      0.90       290\n",
      "\n",
      "    accuracy                           0.91       634\n",
      "   macro avg       0.91      0.91      0.91       634\n",
      "weighted avg       0.91      0.91      0.91       634\n",
      "\n",
      "\n",
      "Accuracy: 0.912\n",
      "\n",
      " Gradient Boosting Classifier Train/Test/CV Scoring\n"
     ]
    },
    {
     "data": {
      "text/html": [
       "<div>\n",
       "<style scoped>\n",
       "    .dataframe tbody tr th:only-of-type {\n",
       "        vertical-align: middle;\n",
       "    }\n",
       "\n",
       "    .dataframe tbody tr th {\n",
       "        vertical-align: top;\n",
       "    }\n",
       "\n",
       "    .dataframe thead th {\n",
       "        text-align: right;\n",
       "    }\n",
       "</style>\n",
       "<table border=\"1\" class=\"dataframe\">\n",
       "  <thead>\n",
       "    <tr style=\"text-align: right;\">\n",
       "      <th></th>\n",
       "      <th>train</th>\n",
       "      <th>test</th>\n",
       "      <th>cv</th>\n",
       "    </tr>\n",
       "  </thead>\n",
       "  <tbody>\n",
       "    <tr>\n",
       "      <th>recall</th>\n",
       "      <td>0.923</td>\n",
       "      <td>0.910</td>\n",
       "      <td>0.896</td>\n",
       "    </tr>\n",
       "    <tr>\n",
       "      <th>precision</th>\n",
       "      <td>0.923</td>\n",
       "      <td>0.912</td>\n",
       "      <td>0.898</td>\n",
       "    </tr>\n",
       "    <tr>\n",
       "      <th>f1</th>\n",
       "      <td>0.923</td>\n",
       "      <td>0.911</td>\n",
       "      <td>0.897</td>\n",
       "    </tr>\n",
       "  </tbody>\n",
       "</table>\n",
       "</div>"
      ],
      "text/plain": [
       "           train   test     cv\n",
       "recall     0.923  0.910  0.896\n",
       "precision  0.923  0.912  0.898\n",
       "f1         0.923  0.911  0.897"
      ]
     },
     "execution_count": 23,
     "metadata": {},
     "output_type": "execute_result"
    }
   ],
   "source": [
    "#Produce and save the model, then load and apply the model.\n",
    "gbm = GradientBoostingClassifier(max_depth=4, random_state=42, \n",
    "                               subsample=1, learning_rate= 0.1, min_samples_leaf=20,\n",
    "                                min_samples_split=50, n_estimators=500)\n",
    "gbm.fit(x_train, y_train)\n",
    "gbm_predictions = gbm.predict(x_test)\n",
    "\n",
    "gbm_matrix = metrics.confusion_matrix(y_test,gbm_predictions)\n",
    "\n",
    "plot_confusion_matrix(gbm, x_test, y_test)  \n",
    "plt.show()\n",
    "\n",
    "class_report_gbm = classification_report(y_test, gbm_predictions)\n",
    "print(\"\\nGradient Boosting Classifier Confusion Matrix\\n\",class_report_gbm)\n",
    "\n",
    "print(\"\\nAccuracy:\",round(metrics.accuracy_score(y_test,gbm_predictions),3))\n",
    "\n",
    "print('\\n Gradient Boosting Classifier Train/Test/CV Scoring')\n",
    "fitting_score(gbm_predictions_train, gbm_predictions, gbm)"
   ]
  },
  {
   "cell_type": "markdown",
   "id": "38382419",
   "metadata": {},
   "source": [
    "### 5.3 Parameter Tuning for XGBoost "
   ]
  },
  {
   "cell_type": "code",
   "execution_count": 24,
   "id": "8dc9c489",
   "metadata": {},
   "outputs": [
    {
     "ename": "KeyboardInterrupt",
     "evalue": "",
     "output_type": "error",
     "traceback": [
      "\u001b[1;31m---------------------------------------------------------------------------\u001b[0m",
      "\u001b[1;31mKeyboardInterrupt\u001b[0m                         Traceback (most recent call last)",
      "\u001b[1;32m<ipython-input-24-6401ffb7724c>\u001b[0m in \u001b[0;36m<module>\u001b[1;34m\u001b[0m\n\u001b[0;32m     13\u001b[0m tuning = GridSearchCV(estimator =XGBClassifier(random_state=42, objective='binary:logistic', eval_metric='error'), \n\u001b[0;32m     14\u001b[0m                       param_grid = param_grid, n_jobs=-1, cv=3, scoring=\"f1\")\n\u001b[1;32m---> 15\u001b[1;33m \u001b[0mtuning\u001b[0m\u001b[1;33m.\u001b[0m\u001b[0mfit\u001b[0m\u001b[1;33m(\u001b[0m\u001b[0mx_train\u001b[0m\u001b[1;33m,\u001b[0m\u001b[0my_train\u001b[0m\u001b[1;33m)\u001b[0m\u001b[1;33m\u001b[0m\u001b[1;33m\u001b[0m\u001b[0m\n\u001b[0m",
      "\u001b[1;32mC:\\ProgramData\\Anaconda3\\lib\\site-packages\\sklearn\\model_selection\\_search.py\u001b[0m in \u001b[0;36mfit\u001b[1;34m(self, X, y, groups, **fit_params)\u001b[0m\n\u001b[0;32m    889\u001b[0m                 \u001b[1;32mreturn\u001b[0m \u001b[0mresults\u001b[0m\u001b[1;33m\u001b[0m\u001b[1;33m\u001b[0m\u001b[0m\n\u001b[0;32m    890\u001b[0m \u001b[1;33m\u001b[0m\u001b[0m\n\u001b[1;32m--> 891\u001b[1;33m             \u001b[0mself\u001b[0m\u001b[1;33m.\u001b[0m\u001b[0m_run_search\u001b[0m\u001b[1;33m(\u001b[0m\u001b[0mevaluate_candidates\u001b[0m\u001b[1;33m)\u001b[0m\u001b[1;33m\u001b[0m\u001b[1;33m\u001b[0m\u001b[0m\n\u001b[0m\u001b[0;32m    892\u001b[0m \u001b[1;33m\u001b[0m\u001b[0m\n\u001b[0;32m    893\u001b[0m             \u001b[1;31m# multimetric is determined here because in the case of a callable\u001b[0m\u001b[1;33m\u001b[0m\u001b[1;33m\u001b[0m\u001b[1;33m\u001b[0m\u001b[0m\n",
      "\u001b[1;32mC:\\ProgramData\\Anaconda3\\lib\\site-packages\\sklearn\\model_selection\\_search.py\u001b[0m in \u001b[0;36m_run_search\u001b[1;34m(self, evaluate_candidates)\u001b[0m\n\u001b[0;32m   1390\u001b[0m     \u001b[1;32mdef\u001b[0m \u001b[0m_run_search\u001b[0m\u001b[1;33m(\u001b[0m\u001b[0mself\u001b[0m\u001b[1;33m,\u001b[0m \u001b[0mevaluate_candidates\u001b[0m\u001b[1;33m)\u001b[0m\u001b[1;33m:\u001b[0m\u001b[1;33m\u001b[0m\u001b[1;33m\u001b[0m\u001b[0m\n\u001b[0;32m   1391\u001b[0m         \u001b[1;34m\"\"\"Search all candidates in param_grid\"\"\"\u001b[0m\u001b[1;33m\u001b[0m\u001b[1;33m\u001b[0m\u001b[0m\n\u001b[1;32m-> 1392\u001b[1;33m         \u001b[0mevaluate_candidates\u001b[0m\u001b[1;33m(\u001b[0m\u001b[0mParameterGrid\u001b[0m\u001b[1;33m(\u001b[0m\u001b[0mself\u001b[0m\u001b[1;33m.\u001b[0m\u001b[0mparam_grid\u001b[0m\u001b[1;33m)\u001b[0m\u001b[1;33m)\u001b[0m\u001b[1;33m\u001b[0m\u001b[1;33m\u001b[0m\u001b[0m\n\u001b[0m\u001b[0;32m   1393\u001b[0m \u001b[1;33m\u001b[0m\u001b[0m\n\u001b[0;32m   1394\u001b[0m \u001b[1;33m\u001b[0m\u001b[0m\n",
      "\u001b[1;32mC:\\ProgramData\\Anaconda3\\lib\\site-packages\\sklearn\\model_selection\\_search.py\u001b[0m in \u001b[0;36mevaluate_candidates\u001b[1;34m(candidate_params, cv, more_results)\u001b[0m\n\u001b[0;32m    836\u001b[0m                     )\n\u001b[0;32m    837\u001b[0m \u001b[1;33m\u001b[0m\u001b[0m\n\u001b[1;32m--> 838\u001b[1;33m                 out = parallel(\n\u001b[0m\u001b[0;32m    839\u001b[0m                     delayed(_fit_and_score)(\n\u001b[0;32m    840\u001b[0m                         \u001b[0mclone\u001b[0m\u001b[1;33m(\u001b[0m\u001b[0mbase_estimator\u001b[0m\u001b[1;33m)\u001b[0m\u001b[1;33m,\u001b[0m\u001b[1;33m\u001b[0m\u001b[1;33m\u001b[0m\u001b[0m\n",
      "\u001b[1;32mC:\\ProgramData\\Anaconda3\\lib\\site-packages\\joblib\\parallel.py\u001b[0m in \u001b[0;36m__call__\u001b[1;34m(self, iterable)\u001b[0m\n\u001b[0;32m   1052\u001b[0m \u001b[1;33m\u001b[0m\u001b[0m\n\u001b[0;32m   1053\u001b[0m             \u001b[1;32mwith\u001b[0m \u001b[0mself\u001b[0m\u001b[1;33m.\u001b[0m\u001b[0m_backend\u001b[0m\u001b[1;33m.\u001b[0m\u001b[0mretrieval_context\u001b[0m\u001b[1;33m(\u001b[0m\u001b[1;33m)\u001b[0m\u001b[1;33m:\u001b[0m\u001b[1;33m\u001b[0m\u001b[1;33m\u001b[0m\u001b[0m\n\u001b[1;32m-> 1054\u001b[1;33m                 \u001b[0mself\u001b[0m\u001b[1;33m.\u001b[0m\u001b[0mretrieve\u001b[0m\u001b[1;33m(\u001b[0m\u001b[1;33m)\u001b[0m\u001b[1;33m\u001b[0m\u001b[1;33m\u001b[0m\u001b[0m\n\u001b[0m\u001b[0;32m   1055\u001b[0m             \u001b[1;31m# Make sure that we get a last message telling us we are done\u001b[0m\u001b[1;33m\u001b[0m\u001b[1;33m\u001b[0m\u001b[1;33m\u001b[0m\u001b[0m\n\u001b[0;32m   1056\u001b[0m             \u001b[0melapsed_time\u001b[0m \u001b[1;33m=\u001b[0m \u001b[0mtime\u001b[0m\u001b[1;33m.\u001b[0m\u001b[0mtime\u001b[0m\u001b[1;33m(\u001b[0m\u001b[1;33m)\u001b[0m \u001b[1;33m-\u001b[0m \u001b[0mself\u001b[0m\u001b[1;33m.\u001b[0m\u001b[0m_start_time\u001b[0m\u001b[1;33m\u001b[0m\u001b[1;33m\u001b[0m\u001b[0m\n",
      "\u001b[1;32mC:\\ProgramData\\Anaconda3\\lib\\site-packages\\joblib\\parallel.py\u001b[0m in \u001b[0;36mretrieve\u001b[1;34m(self)\u001b[0m\n\u001b[0;32m    931\u001b[0m             \u001b[1;32mtry\u001b[0m\u001b[1;33m:\u001b[0m\u001b[1;33m\u001b[0m\u001b[1;33m\u001b[0m\u001b[0m\n\u001b[0;32m    932\u001b[0m                 \u001b[1;32mif\u001b[0m \u001b[0mgetattr\u001b[0m\u001b[1;33m(\u001b[0m\u001b[0mself\u001b[0m\u001b[1;33m.\u001b[0m\u001b[0m_backend\u001b[0m\u001b[1;33m,\u001b[0m \u001b[1;34m'supports_timeout'\u001b[0m\u001b[1;33m,\u001b[0m \u001b[1;32mFalse\u001b[0m\u001b[1;33m)\u001b[0m\u001b[1;33m:\u001b[0m\u001b[1;33m\u001b[0m\u001b[1;33m\u001b[0m\u001b[0m\n\u001b[1;32m--> 933\u001b[1;33m                     \u001b[0mself\u001b[0m\u001b[1;33m.\u001b[0m\u001b[0m_output\u001b[0m\u001b[1;33m.\u001b[0m\u001b[0mextend\u001b[0m\u001b[1;33m(\u001b[0m\u001b[0mjob\u001b[0m\u001b[1;33m.\u001b[0m\u001b[0mget\u001b[0m\u001b[1;33m(\u001b[0m\u001b[0mtimeout\u001b[0m\u001b[1;33m=\u001b[0m\u001b[0mself\u001b[0m\u001b[1;33m.\u001b[0m\u001b[0mtimeout\u001b[0m\u001b[1;33m)\u001b[0m\u001b[1;33m)\u001b[0m\u001b[1;33m\u001b[0m\u001b[1;33m\u001b[0m\u001b[0m\n\u001b[0m\u001b[0;32m    934\u001b[0m                 \u001b[1;32melse\u001b[0m\u001b[1;33m:\u001b[0m\u001b[1;33m\u001b[0m\u001b[1;33m\u001b[0m\u001b[0m\n\u001b[0;32m    935\u001b[0m                     \u001b[0mself\u001b[0m\u001b[1;33m.\u001b[0m\u001b[0m_output\u001b[0m\u001b[1;33m.\u001b[0m\u001b[0mextend\u001b[0m\u001b[1;33m(\u001b[0m\u001b[0mjob\u001b[0m\u001b[1;33m.\u001b[0m\u001b[0mget\u001b[0m\u001b[1;33m(\u001b[0m\u001b[1;33m)\u001b[0m\u001b[1;33m)\u001b[0m\u001b[1;33m\u001b[0m\u001b[1;33m\u001b[0m\u001b[0m\n",
      "\u001b[1;32mC:\\ProgramData\\Anaconda3\\lib\\site-packages\\joblib\\_parallel_backends.py\u001b[0m in \u001b[0;36mwrap_future_result\u001b[1;34m(future, timeout)\u001b[0m\n\u001b[0;32m    540\u001b[0m         AsyncResults.get from multiprocessing.\"\"\"\n\u001b[0;32m    541\u001b[0m         \u001b[1;32mtry\u001b[0m\u001b[1;33m:\u001b[0m\u001b[1;33m\u001b[0m\u001b[1;33m\u001b[0m\u001b[0m\n\u001b[1;32m--> 542\u001b[1;33m             \u001b[1;32mreturn\u001b[0m \u001b[0mfuture\u001b[0m\u001b[1;33m.\u001b[0m\u001b[0mresult\u001b[0m\u001b[1;33m(\u001b[0m\u001b[0mtimeout\u001b[0m\u001b[1;33m=\u001b[0m\u001b[0mtimeout\u001b[0m\u001b[1;33m)\u001b[0m\u001b[1;33m\u001b[0m\u001b[1;33m\u001b[0m\u001b[0m\n\u001b[0m\u001b[0;32m    543\u001b[0m         \u001b[1;32mexcept\u001b[0m \u001b[0mCfTimeoutError\u001b[0m \u001b[1;32mas\u001b[0m \u001b[0me\u001b[0m\u001b[1;33m:\u001b[0m\u001b[1;33m\u001b[0m\u001b[1;33m\u001b[0m\u001b[0m\n\u001b[0;32m    544\u001b[0m             \u001b[1;32mraise\u001b[0m \u001b[0mTimeoutError\u001b[0m \u001b[1;32mfrom\u001b[0m \u001b[0me\u001b[0m\u001b[1;33m\u001b[0m\u001b[1;33m\u001b[0m\u001b[0m\n",
      "\u001b[1;32mC:\\ProgramData\\Anaconda3\\lib\\concurrent\\futures\\_base.py\u001b[0m in \u001b[0;36mresult\u001b[1;34m(self, timeout)\u001b[0m\n\u001b[0;32m    432\u001b[0m                 \u001b[1;32mreturn\u001b[0m \u001b[0mself\u001b[0m\u001b[1;33m.\u001b[0m\u001b[0m__get_result\u001b[0m\u001b[1;33m(\u001b[0m\u001b[1;33m)\u001b[0m\u001b[1;33m\u001b[0m\u001b[1;33m\u001b[0m\u001b[0m\n\u001b[0;32m    433\u001b[0m \u001b[1;33m\u001b[0m\u001b[0m\n\u001b[1;32m--> 434\u001b[1;33m             \u001b[0mself\u001b[0m\u001b[1;33m.\u001b[0m\u001b[0m_condition\u001b[0m\u001b[1;33m.\u001b[0m\u001b[0mwait\u001b[0m\u001b[1;33m(\u001b[0m\u001b[0mtimeout\u001b[0m\u001b[1;33m)\u001b[0m\u001b[1;33m\u001b[0m\u001b[1;33m\u001b[0m\u001b[0m\n\u001b[0m\u001b[0;32m    435\u001b[0m \u001b[1;33m\u001b[0m\u001b[0m\n\u001b[0;32m    436\u001b[0m             \u001b[1;32mif\u001b[0m \u001b[0mself\u001b[0m\u001b[1;33m.\u001b[0m\u001b[0m_state\u001b[0m \u001b[1;32min\u001b[0m \u001b[1;33m[\u001b[0m\u001b[0mCANCELLED\u001b[0m\u001b[1;33m,\u001b[0m \u001b[0mCANCELLED_AND_NOTIFIED\u001b[0m\u001b[1;33m]\u001b[0m\u001b[1;33m:\u001b[0m\u001b[1;33m\u001b[0m\u001b[1;33m\u001b[0m\u001b[0m\n",
      "\u001b[1;32mC:\\ProgramData\\Anaconda3\\lib\\threading.py\u001b[0m in \u001b[0;36mwait\u001b[1;34m(self, timeout)\u001b[0m\n\u001b[0;32m    300\u001b[0m         \u001b[1;32mtry\u001b[0m\u001b[1;33m:\u001b[0m    \u001b[1;31m# restore state no matter what (e.g., KeyboardInterrupt)\u001b[0m\u001b[1;33m\u001b[0m\u001b[1;33m\u001b[0m\u001b[0m\n\u001b[0;32m    301\u001b[0m             \u001b[1;32mif\u001b[0m \u001b[0mtimeout\u001b[0m \u001b[1;32mis\u001b[0m \u001b[1;32mNone\u001b[0m\u001b[1;33m:\u001b[0m\u001b[1;33m\u001b[0m\u001b[1;33m\u001b[0m\u001b[0m\n\u001b[1;32m--> 302\u001b[1;33m                 \u001b[0mwaiter\u001b[0m\u001b[1;33m.\u001b[0m\u001b[0macquire\u001b[0m\u001b[1;33m(\u001b[0m\u001b[1;33m)\u001b[0m\u001b[1;33m\u001b[0m\u001b[1;33m\u001b[0m\u001b[0m\n\u001b[0m\u001b[0;32m    303\u001b[0m                 \u001b[0mgotit\u001b[0m \u001b[1;33m=\u001b[0m \u001b[1;32mTrue\u001b[0m\u001b[1;33m\u001b[0m\u001b[1;33m\u001b[0m\u001b[0m\n\u001b[0;32m    304\u001b[0m             \u001b[1;32melse\u001b[0m\u001b[1;33m:\u001b[0m\u001b[1;33m\u001b[0m\u001b[1;33m\u001b[0m\u001b[0m\n",
      "\u001b[1;31mKeyboardInterrupt\u001b[0m: "
     ]
    }
   ],
   "source": [
    "param_grid = {\n",
    "    \"max_depth\": [5, 7, 10, 15],\n",
    "    \"learning_rate\": [0.1, 0.01, 0.05],\n",
    "    \"gamma\": [5, 10, 20, 30],\n",
    "    \"reg_lambda\": [1, 5, 10],\n",
    "    \"reg_alpha\": [1, 5, 10, 20],\n",
    "    \"scale_pos_weight\": [2, 3, 5, 10],\n",
    "    \"subsample\": [0.7, 0.8, 0.9],\n",
    "    \"colsample_bytree\": [0.25, 0.35, 0.45],\n",
    "    'min_child_weight': [0,1]\n",
    "}\n",
    "\n",
    "tuning = GridSearchCV(estimator =XGBClassifier(random_state=42, objective='binary:logistic', eval_metric='error'), \n",
    "                      param_grid = param_grid, n_jobs=-1, cv=3, scoring=\"f1\")\n",
    "tuning.fit(x_train,y_train)"
   ]
  },
  {
   "cell_type": "code",
   "execution_count": null,
   "id": "ac1b0cea",
   "metadata": {},
   "outputs": [],
   "source": [
    "tuning.best_params_"
   ]
  },
  {
   "cell_type": "code",
   "execution_count": 25,
   "id": "55df6011",
   "metadata": {},
   "outputs": [
    {
     "name": "stderr",
     "output_type": "stream",
     "text": [
      "C:\\ProgramData\\Anaconda3\\lib\\site-packages\\xgboost\\sklearn.py:1224: UserWarning: The use of label encoder in XGBClassifier is deprecated and will be removed in a future release. To remove this warning, do the following: 1) Pass option use_label_encoder=False when constructing XGBClassifier object; and 2) Encode your labels (y) as integers starting with 0, i.e. 0, 1, 2, ..., [num_class - 1].\n",
      "  warnings.warn(label_encoder_deprecation_msg, UserWarning)\n",
      "C:\\ProgramData\\Anaconda3\\lib\\site-packages\\sklearn\\utils\\deprecation.py:87: FutureWarning: Function plot_confusion_matrix is deprecated; Function `plot_confusion_matrix` is deprecated in 1.0 and will be removed in 1.2. Use one of the class methods: ConfusionMatrixDisplay.from_predictions or ConfusionMatrixDisplay.from_estimator.\n",
      "  warnings.warn(msg, category=FutureWarning)\n"
     ]
    },
    {
     "data": {
      "image/png": "[encoded data removed]",
      "text/plain": [
       "<Figure size 432x288 with 2 Axes>"
      ]
     },
     "metadata": {
      "needs_background": "light"
     },
     "output_type": "display_data"
    },
    {
     "name": "stdout",
     "output_type": "stream",
     "text": [
      "\n",
      "XGBoost Confusion Matrix\n",
      "               precision    recall  f1-score   support\n",
      "\n",
      "         0.0       0.94      0.85      0.90       344\n",
      "         1.0       0.84      0.94      0.89       290\n",
      "\n",
      "    accuracy                           0.89       634\n",
      "   macro avg       0.89      0.90      0.89       634\n",
      "weighted avg       0.90      0.89      0.89       634\n",
      "\n",
      "\n",
      "Accuracy: 0.893\n",
      "\n",
      "XGBoost Train/Test/CV Scoring\n"
     ]
    },
    {
     "data": {
      "text/html": [
       "<div>\n",
       "<style scoped>\n",
       "    .dataframe tbody tr th:only-of-type {\n",
       "        vertical-align: middle;\n",
       "    }\n",
       "\n",
       "    .dataframe tbody tr th {\n",
       "        vertical-align: top;\n",
       "    }\n",
       "\n",
       "    .dataframe thead th {\n",
       "        text-align: right;\n",
       "    }\n",
       "</style>\n",
       "<table border=\"1\" class=\"dataframe\">\n",
       "  <thead>\n",
       "    <tr style=\"text-align: right;\">\n",
       "      <th></th>\n",
       "      <th>train</th>\n",
       "      <th>test</th>\n",
       "      <th>cv</th>\n",
       "    </tr>\n",
       "  </thead>\n",
       "  <tbody>\n",
       "    <tr>\n",
       "      <th>recall</th>\n",
       "      <td>0.942</td>\n",
       "      <td>0.896</td>\n",
       "      <td>0.947</td>\n",
       "    </tr>\n",
       "    <tr>\n",
       "      <th>precision</th>\n",
       "      <td>0.946</td>\n",
       "      <td>0.894</td>\n",
       "      <td>0.863</td>\n",
       "    </tr>\n",
       "    <tr>\n",
       "      <th>f1</th>\n",
       "      <td>0.942</td>\n",
       "      <td>0.893</td>\n",
       "      <td>0.903</td>\n",
       "    </tr>\n",
       "  </tbody>\n",
       "</table>\n",
       "</div>"
      ],
      "text/plain": [
       "           train   test     cv\n",
       "recall     0.942  0.896  0.947\n",
       "precision  0.946  0.894  0.863\n",
       "f1         0.942  0.893  0.903"
      ]
     },
     "execution_count": 25,
     "metadata": {},
     "output_type": "execute_result"
    }
   ],
   "source": [
    "xgb = XGBClassifier(random_state=42, objective='binary:logistic', eval_metric='error', gamma=5,\n",
    "                   colsample_bytree=0.45, learning_rate=0.05, reg_lambda=1, max_depth=15,\n",
    "                   min_child_weight=0, reg_alpha=1, scale_pos_weight=2, subsample=0.9)\n",
    "\n",
    "xgb.fit(x_train, y_train)\n",
    "xgb_predictions = xgb.predict(x_test)\n",
    "xgb_predictions_train = xgb.predict(x_train)\n",
    "\n",
    "xgb_matrix = metrics.confusion_matrix(y_test,xgb_predictions)\n",
    "\n",
    "plot_confusion_matrix(xgb, x_test, y_test)  \n",
    "plt.show()\n",
    "\n",
    "class_report_xgb = classification_report(y_test, xgb_predictions)\n",
    "print(\"\\nXGBoost Confusion Matrix\\n\",class_report_xgb)\n",
    "\n",
    "print(\"\\nAccuracy:\",round(metrics.accuracy_score(y_test,xgb_predictions),3))\n",
    "\n",
    "print('\\nXGBoost Train/Test/CV Scoring')\n",
    "fitting_score(xgb_predictions_train, xgb_predictions, xgb)"
   ]
  },
  {
   "cell_type": "markdown",
   "id": "f70ca754",
   "metadata": {},
   "source": [
    "## Model result: Gradient Boosting yields the best CV f1 score"
   ]
  },
  {
   "cell_type": "markdown",
   "id": "c6919b17",
   "metadata": {},
   "source": [
    "## 6. Run statistical analysis on each features. \n",
    "In this section, we are using logit and probit models to get a read on how much each independent variable affects the likelihood of licensing"
   ]
  },
  {
   "cell_type": "code",
   "execution_count": null,
   "id": "4902fb61",
   "metadata": {
    "scrolled": false
   },
   "outputs": [],
   "source": [
    "from sklearn.linear_model import LogisticRegression\n",
    "\n",
    "logreg = LogisticRegression().fit(x_train,y_train)\n",
    "logreg\n",
    "\n",
    "print(\"Training set score: {:.3f}\".format(logreg.score(x_train,y_train)))\n",
    "print(\"Test set score: {:.3f}\".format(logreg.score(x_test,y_test)))\n",
    "\n",
    "import statsmodels.api as sm\n",
    "logit_model=sm.Logit(y,X)\n",
    "\n",
    "#Use method = 'bfgs' because default Hessian method starts with a bad starting value and reaches max iterations\n",
    "result=logit_model.fit(method = 'bfgs')\n",
    "print(result.summary())"
   ]
  }
 ],
 "metadata": {
  "kernelspec": {
   "display_name": "Python 3",
   "language": "python",
   "name": "python3"
  },
  "language_info": {
   "codemirror_mode": {
    "name": "ipython",
    "version": 3
   },
   "file_extension": ".py",
   "mimetype": "text/x-python",
   "name": "python",
   "nbconvert_exporter": "python",
   "pygments_lexer": "ipython3",
   "version": "3.8.8"
  }
 },
 "nbformat": 4,
 "nbformat_minor": 5
}
