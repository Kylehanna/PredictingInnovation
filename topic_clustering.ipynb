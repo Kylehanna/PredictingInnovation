{
 "cells": [
  {
   "cell_type": "markdown",
   "id": "054e0f7b",
   "metadata": {},
   "source": [
    "## Topic Clustering \n",
    "\n",
    "Source Materials: https://medium.com/analytics-vidhya/topic-modeling-using-gensim-lda-in-python-48eaa2344920"
   ]
  },
  {
   "cell_type": "markdown",
   "id": "5b8388f0",
   "metadata": {},
   "source": [
    "### Import required packages "
   ]
  },
  {
   "cell_type": "code",
   "execution_count": 1,
   "id": "b6b98ff0",
   "metadata": {},
   "outputs": [
    {
     "name": "stderr",
     "output_type": "stream",
     "text": [
      "[nltk_data] Downloading package stopwords to C:\\Users\\Nick's\n",
      "[nltk_data]     Laptop\\AppData\\Roaming\\nltk_data...\n",
      "[nltk_data]   Package stopwords is already up-to-date!\n"
     ]
    },
    {
     "data": {
      "text/plain": [
       "True"
      ]
     },
     "execution_count": 1,
     "metadata": {},
     "output_type": "execute_result"
    }
   ],
   "source": [
    "import nltk\n",
    "nltk.download('stopwords')"
   ]
  },
  {
   "cell_type": "code",
   "execution_count": 2,
   "id": "1de7e9dd",
   "metadata": {},
   "outputs": [],
   "source": [
    "import re\n",
    "import numpy as np\n",
    "import pandas as  pd\n",
    "from pprint import pprint# Gensim\n",
    "import gensim\n",
    "import gensim.corpora as corpora\n",
    "from gensim.utils import simple_preprocess\n",
    "from gensim.models import CoherenceModel# spaCy for preprocessing\n",
    "import spacy# Plotting tools\n",
    "import pyLDAvis\n",
    "#import pyLDAvis.gensim\n",
    "import matplotlib.pyplot as plt\n",
    "%matplotlib inline"
   ]
  },
  {
   "cell_type": "markdown",
   "id": "e6f39ca6",
   "metadata": {},
   "source": [
    "### Prepare stopwords "
   ]
  },
  {
   "cell_type": "code",
   "execution_count": 3,
   "id": "d55406b5",
   "metadata": {},
   "outputs": [
    {
     "name": "stderr",
     "output_type": "stream",
     "text": [
      "C:\\ProgramData\\Anaconda3\\lib\\site-packages\\ipykernel\\ipkernel.py:287: DeprecationWarning: `should_run_async` will not call `transform_cell` automatically in the future. Please pass the result to `transformed_cell` argument and any exception that happen during thetransform in `preprocessing_exc_tuple` in IPython 7.17 and above.\n",
      "  and should_run_async(code)\n"
     ]
    }
   ],
   "source": [
    "# NLTK Stop words\n",
    "from nltk.corpus import stopwords\n",
    "stop_words = stopwords.words('english')"
   ]
  },
  {
   "cell_type": "markdown",
   "id": "2a56564d",
   "metadata": {},
   "source": [
    "### Load dataset"
   ]
  },
  {
   "cell_type": "code",
   "execution_count": 4,
   "id": "81b474aa",
   "metadata": {},
   "outputs": [
    {
     "name": "stderr",
     "output_type": "stream",
     "text": [
      "C:\\ProgramData\\Anaconda3\\lib\\site-packages\\ipykernel\\ipkernel.py:287: DeprecationWarning: `should_run_async` will not call `transform_cell` automatically in the future. Please pass the result to `transformed_cell` argument and any exception that happen during thetransform in `preprocessing_exc_tuple` in IPython 7.17 and above.\n",
      "  and should_run_async(code)\n"
     ]
    },
    {
     "data": {
      "text/html": [
       "<div>\n",
       "<style scoped>\n",
       "    .dataframe tbody tr th:only-of-type {\n",
       "        vertical-align: middle;\n",
       "    }\n",
       "\n",
       "    .dataframe tbody tr th {\n",
       "        vertical-align: top;\n",
       "    }\n",
       "\n",
       "    .dataframe thead th {\n",
       "        text-align: right;\n",
       "    }\n",
       "</style>\n",
       "<table border=\"1\" class=\"dataframe\">\n",
       "  <thead>\n",
       "    <tr style=\"text-align: right;\">\n",
       "      <th></th>\n",
       "      <th>Unnamed: 0</th>\n",
       "      <th>Tech_Title</th>\n",
       "      <th>Lead_Inventor</th>\n",
       "      <th>Disclosure_Date</th>\n",
       "      <th>Division_Department</th>\n",
       "      <th>Owners</th>\n",
       "      <th>Alternate_Title</th>\n",
       "      <th>Tech_Publisher_Featured</th>\n",
       "      <th>Total_Budget</th>\n",
       "      <th>Ability_of_investigator_to_continue_research</th>\n",
       "      <th>...</th>\n",
       "      <th>Lawfirm</th>\n",
       "      <th>Attorney</th>\n",
       "      <th>Inventors_0</th>\n",
       "      <th>Inventors_1</th>\n",
       "      <th>Inventors_2</th>\n",
       "      <th>Inventors_3</th>\n",
       "      <th>Inventors_4</th>\n",
       "      <th>Number_of_Inventors</th>\n",
       "      <th>Application_Type</th>\n",
       "      <th>Licensed</th>\n",
       "    </tr>\n",
       "  </thead>\n",
       "  <tbody>\n",
       "    <tr>\n",
       "      <th>0</th>\n",
       "      <td>0</td>\n",
       "      <td>Light Collectors in Cylinderical Geometry</td>\n",
       "      <td>Roland Winston</td>\n",
       "      <td>NaN</td>\n",
       "      <td>Physical Sciences Division (PSD), Physics</td>\n",
       "      <td>University of Chicago</td>\n",
       "      <td></td>\n",
       "      <td>No</td>\n",
       "      <td>0.0</td>\n",
       "      <td>No</td>\n",
       "      <td>...</td>\n",
       "      <td>Marshall, Gerstein &amp; Borun</td>\n",
       "      <td>NaN</td>\n",
       "      <td>Roland Winston</td>\n",
       "      <td>NaN</td>\n",
       "      <td>NaN</td>\n",
       "      <td>NaN</td>\n",
       "      <td>NaN</td>\n",
       "      <td>1.0</td>\n",
       "      <td>US Utility</td>\n",
       "      <td>Yes</td>\n",
       "    </tr>\n",
       "    <tr>\n",
       "      <th>1</th>\n",
       "      <td>1</td>\n",
       "      <td>Radiant Energy Collector</td>\n",
       "      <td>Roland Winston</td>\n",
       "      <td>NaN</td>\n",
       "      <td>Physical Sciences Division (PSD), Physics</td>\n",
       "      <td>University of Chicago</td>\n",
       "      <td></td>\n",
       "      <td>No</td>\n",
       "      <td>0.0</td>\n",
       "      <td>No</td>\n",
       "      <td>...</td>\n",
       "      <td>Marshall, Gerstein &amp; Borun</td>\n",
       "      <td>Borun, Michael</td>\n",
       "      <td>Roland Winston</td>\n",
       "      <td>NaN</td>\n",
       "      <td>NaN</td>\n",
       "      <td>NaN</td>\n",
       "      <td>NaN</td>\n",
       "      <td>1.0</td>\n",
       "      <td>US Utility</td>\n",
       "      <td>Yes</td>\n",
       "    </tr>\n",
       "    <tr>\n",
       "      <th>2</th>\n",
       "      <td>2</td>\n",
       "      <td>Cylindrical Radiant Energy Direction Device Wi...</td>\n",
       "      <td>Roland Winston</td>\n",
       "      <td>NaN</td>\n",
       "      <td>Physical Sciences Division (PSD), Physics</td>\n",
       "      <td>University of Chicago</td>\n",
       "      <td></td>\n",
       "      <td>No</td>\n",
       "      <td>0.0</td>\n",
       "      <td>No</td>\n",
       "      <td>...</td>\n",
       "      <td>Marshall, Gerstein &amp; Borun</td>\n",
       "      <td>Borun, Michael</td>\n",
       "      <td>Roland Winston</td>\n",
       "      <td>NaN</td>\n",
       "      <td>NaN</td>\n",
       "      <td>NaN</td>\n",
       "      <td>NaN</td>\n",
       "      <td>1.0</td>\n",
       "      <td>US Utility</td>\n",
       "      <td>Yes</td>\n",
       "    </tr>\n",
       "    <tr>\n",
       "      <th>3</th>\n",
       "      <td>3</td>\n",
       "      <td>Ideal Light Concentrators with Reflector Gaps</td>\n",
       "      <td>Roland Winston</td>\n",
       "      <td>NaN</td>\n",
       "      <td>Physical Sciences Division (PSD), Physics</td>\n",
       "      <td>University of Chicago</td>\n",
       "      <td></td>\n",
       "      <td>No</td>\n",
       "      <td>0.0</td>\n",
       "      <td>No</td>\n",
       "      <td>...</td>\n",
       "      <td>Marshall, Gerstein &amp; Borun</td>\n",
       "      <td>NaN</td>\n",
       "      <td>Roland Winston</td>\n",
       "      <td>NaN</td>\n",
       "      <td>NaN</td>\n",
       "      <td>NaN</td>\n",
       "      <td>NaN</td>\n",
       "      <td>1.0</td>\n",
       "      <td>US Utility</td>\n",
       "      <td>Yes</td>\n",
       "    </tr>\n",
       "    <tr>\n",
       "      <th>4</th>\n",
       "      <td>4</td>\n",
       "      <td>Nonimaging Radiant Energy Direction Device</td>\n",
       "      <td>Roland Winston</td>\n",
       "      <td>NaN</td>\n",
       "      <td>Physical Sciences Division (PSD), Physics</td>\n",
       "      <td>University of Chicago</td>\n",
       "      <td></td>\n",
       "      <td>No</td>\n",
       "      <td>0.0</td>\n",
       "      <td>No</td>\n",
       "      <td>...</td>\n",
       "      <td>Marshall, Gerstein &amp; Borun</td>\n",
       "      <td>NaN</td>\n",
       "      <td>Roland Winston</td>\n",
       "      <td>NaN</td>\n",
       "      <td>NaN</td>\n",
       "      <td>NaN</td>\n",
       "      <td>NaN</td>\n",
       "      <td>1.0</td>\n",
       "      <td>US Utility</td>\n",
       "      <td>Yes</td>\n",
       "    </tr>\n",
       "  </tbody>\n",
       "</table>\n",
       "<p>5 rows × 46 columns</p>\n",
       "</div>"
      ],
      "text/plain": [
       "   Unnamed: 0                                         Tech_Title  \\\n",
       "0           0          Light Collectors in Cylinderical Geometry   \n",
       "1           1                           Radiant Energy Collector   \n",
       "2           2  Cylindrical Radiant Energy Direction Device Wi...   \n",
       "3           3      Ideal Light Concentrators with Reflector Gaps   \n",
       "4           4         Nonimaging Radiant Energy Direction Device   \n",
       "\n",
       "    Lead_Inventor Disclosure_Date                        Division_Department  \\\n",
       "0  Roland Winston             NaN  Physical Sciences Division (PSD), Physics   \n",
       "1  Roland Winston             NaN  Physical Sciences Division (PSD), Physics   \n",
       "2  Roland Winston             NaN  Physical Sciences Division (PSD), Physics   \n",
       "3  Roland Winston             NaN  Physical Sciences Division (PSD), Physics   \n",
       "4  Roland Winston             NaN  Physical Sciences Division (PSD), Physics   \n",
       "\n",
       "                  Owners Alternate_Title Tech_Publisher_Featured  \\\n",
       "0  University of Chicago                                      No   \n",
       "1  University of Chicago                                      No   \n",
       "2  University of Chicago                                      No   \n",
       "3  University of Chicago                                      No   \n",
       "4  University of Chicago                                      No   \n",
       "\n",
       "   Total_Budget Ability_of_investigator_to_continue_research  ...  \\\n",
       "0           0.0                                           No  ...   \n",
       "1           0.0                                           No  ...   \n",
       "2           0.0                                           No  ...   \n",
       "3           0.0                                           No  ...   \n",
       "4           0.0                                           No  ...   \n",
       "\n",
       "                      Lawfirm        Attorney     Inventors_0 Inventors_1  \\\n",
       "0  Marshall, Gerstein & Borun             NaN  Roland Winston         NaN   \n",
       "1  Marshall, Gerstein & Borun  Borun, Michael  Roland Winston         NaN   \n",
       "2  Marshall, Gerstein & Borun  Borun, Michael  Roland Winston         NaN   \n",
       "3  Marshall, Gerstein & Borun             NaN  Roland Winston         NaN   \n",
       "4  Marshall, Gerstein & Borun             NaN  Roland Winston         NaN   \n",
       "\n",
       "  Inventors_2 Inventors_3 Inventors_4 Number_of_Inventors Application_Type  \\\n",
       "0         NaN         NaN         NaN                 1.0       US Utility   \n",
       "1         NaN         NaN         NaN                 1.0       US Utility   \n",
       "2         NaN         NaN         NaN                 1.0       US Utility   \n",
       "3         NaN         NaN         NaN                 1.0       US Utility   \n",
       "4         NaN         NaN         NaN                 1.0       US Utility   \n",
       "\n",
       "  Licensed  \n",
       "0      Yes  \n",
       "1      Yes  \n",
       "2      Yes  \n",
       "3      Yes  \n",
       "4      Yes  \n",
       "\n",
       "[5 rows x 46 columns]"
      ]
     },
     "execution_count": 4,
     "metadata": {},
     "output_type": "execute_result"
    }
   ],
   "source": [
    "df = pd.DataFrame(pd.read_csv(\"modeling.csv\"))\n",
    "df.head()"
   ]
  },
  {
   "cell_type": "markdown",
   "id": "8544a7db",
   "metadata": {},
   "source": [
    "###  Convert Titles to list and tokenize "
   ]
  },
  {
   "cell_type": "code",
   "execution_count": 5,
   "id": "def04ea1",
   "metadata": {},
   "outputs": [
    {
     "name": "stdout",
     "output_type": "stream",
     "text": [
      "[['light', 'collectors', 'in', 'cylinderical', 'geometry']]\n"
     ]
    },
    {
     "name": "stderr",
     "output_type": "stream",
     "text": [
      "C:\\ProgramData\\Anaconda3\\lib\\site-packages\\ipykernel\\ipkernel.py:287: DeprecationWarning: `should_run_async` will not call `transform_cell` automatically in the future. Please pass the result to `transformed_cell` argument and any exception that happen during thetransform in `preprocessing_exc_tuple` in IPython 7.17 and above.\n",
      "  and should_run_async(code)\n"
     ]
    }
   ],
   "source": [
    "# Convert to list \n",
    "data = df.Tech_Title.values.tolist()\n",
    "\n",
    "def sent_to_words(sentences):\n",
    "  for sentence in sentences:\n",
    "    yield(gensim.utils.simple_preprocess(str(sentence), deacc=True))            #deacc=True removes punctuations\n",
    "data_words = list(sent_to_words(data))\n",
    "print(data_words[:1])"
   ]
  },
  {
   "cell_type": "markdown",
   "id": "504f0516",
   "metadata": {},
   "source": [
    "### Create Bigram and Trigram models "
   ]
  },
  {
   "cell_type": "code",
   "execution_count": 6,
   "id": "07e5efb3",
   "metadata": {},
   "outputs": [
    {
     "name": "stderr",
     "output_type": "stream",
     "text": [
      "C:\\ProgramData\\Anaconda3\\lib\\site-packages\\ipykernel\\ipkernel.py:287: DeprecationWarning: `should_run_async` will not call `transform_cell` automatically in the future. Please pass the result to `transformed_cell` argument and any exception that happen during thetransform in `preprocessing_exc_tuple` in IPython 7.17 and above.\n",
      "  and should_run_async(code)\n"
     ]
    },
    {
     "name": "stdout",
     "output_type": "stream",
     "text": [
      "['light', 'collectors', 'in', 'cylinderical', 'geometry']\n"
     ]
    }
   ],
   "source": [
    "# Build the bigram and trigram models\n",
    "bigram = gensim.models.Phrases(data_words, min_count=5, threshold=100) # higher threshold fewer phrases.\n",
    "trigram = gensim.models.Phrases(bigram[data_words], threshold=100)\n",
    "# Faster way to get a sentence clubbed as a trigram/bigram\n",
    "bigram_mod = gensim.models.phrases.Phraser(bigram)\n",
    "trigram_mod = gensim.models.phrases.Phraser(trigram)\n",
    "# See trigram example\n",
    "print(trigram_mod[bigram_mod[data_words[0]]])"
   ]
  },
  {
   "cell_type": "markdown",
   "id": "82194701",
   "metadata": {},
   "source": [
    "### Remove Stopwords, make bigrams and lemmatize"
   ]
  },
  {
   "cell_type": "code",
   "execution_count": 7,
   "id": "e7b67d01",
   "metadata": {},
   "outputs": [
    {
     "name": "stderr",
     "output_type": "stream",
     "text": [
      "C:\\ProgramData\\Anaconda3\\lib\\site-packages\\ipykernel\\ipkernel.py:287: DeprecationWarning: `should_run_async` will not call `transform_cell` automatically in the future. Please pass the result to `transformed_cell` argument and any exception that happen during thetransform in `preprocessing_exc_tuple` in IPython 7.17 and above.\n",
      "  and should_run_async(code)\n"
     ]
    }
   ],
   "source": [
    "# Define function for stopwords, bigrams, trigrams and lemmatization\n",
    "def remove_stopwords(texts):\n",
    "    return [[word for word in simple_preprocess(str(doc)) if word not in stop_words] for doc in texts]\n",
    "\n",
    "def make_bigrams(texts):\n",
    "    return [bigram_mod[doc] for doc in texts]\n",
    "\n",
    "def make_trigrams(texts):\n",
    "    return [trigram_mod[bigram_mod[doc]] for doc in texts]\n",
    "\n",
    "def lemmatization(texts, allowed_postags=['NOUN', 'ADJ', 'VERB', 'ADV']):\n",
    "    \"\"\"https://spacy.io/api/annotation\"\"\"\n",
    "    texts_out = []\n",
    "    for sent in texts:\n",
    "        doc = nlp(\" \".join(sent)) \n",
    "        texts_out.append([token.lemma_ for token in doc if token.pos_ in allowed_postags])\n",
    "    return texts_out"
   ]
  },
  {
   "cell_type": "markdown",
   "id": "dfc42af3",
   "metadata": {},
   "source": [
    "### Call functions on Title data"
   ]
  },
  {
   "cell_type": "code",
   "execution_count": 8,
   "id": "c25a44c5",
   "metadata": {},
   "outputs": [
    {
     "name": "stderr",
     "output_type": "stream",
     "text": [
      "C:\\ProgramData\\Anaconda3\\lib\\site-packages\\ipykernel\\ipkernel.py:287: DeprecationWarning: `should_run_async` will not call `transform_cell` automatically in the future. Please pass the result to `transformed_cell` argument and any exception that happen during thetransform in `preprocessing_exc_tuple` in IPython 7.17 and above.\n",
      "  and should_run_async(code)\n"
     ]
    },
    {
     "name": "stdout",
     "output_type": "stream",
     "text": [
      "[['light', 'collector', 'cylinderical', 'geometry']]\n"
     ]
    }
   ],
   "source": [
    "# Remove Stop Words\n",
    "data_words_nostops = remove_stopwords(data_words)\n",
    "\n",
    "# Form Bigrams\n",
    "data_words_bigrams = make_bigrams(data_words_nostops)\n",
    "\n",
    "# Initialize spacy 'en' model, keeping only tagger component (for efficiency)\n",
    "# python -m spacy download en_core_web_sm\n",
    "nlp = spacy.load('en_core_web_sm', disable=['parser', 'ner'])\n",
    "\n",
    "# Do lemmatization keeping only noun, adj, vb, adv\n",
    "data_lemmatized = lemmatization(data_words_bigrams, allowed_postags=['NOUN', 'ADJ', 'VERB', 'ADV'])\n",
    "\n",
    "print(data_lemmatized[:1])"
   ]
  },
  {
   "cell_type": "markdown",
   "id": "f2d0bc07",
   "metadata": {},
   "source": [
    "### Create data dictionary and corpus for topic modeling "
   ]
  },
  {
   "cell_type": "code",
   "execution_count": 9,
   "id": "5fbfffab",
   "metadata": {},
   "outputs": [
    {
     "name": "stdout",
     "output_type": "stream",
     "text": [
      "[[(0, 1), (1, 1), (2, 1), (3, 1)]]\n"
     ]
    },
    {
     "name": "stderr",
     "output_type": "stream",
     "text": [
      "C:\\ProgramData\\Anaconda3\\lib\\site-packages\\ipykernel\\ipkernel.py:287: DeprecationWarning: `should_run_async` will not call `transform_cell` automatically in the future. Please pass the result to `transformed_cell` argument and any exception that happen during thetransform in `preprocessing_exc_tuple` in IPython 7.17 and above.\n",
      "  and should_run_async(code)\n"
     ]
    }
   ],
   "source": [
    "# Create Dictionary \n",
    "id2word = corpora.Dictionary(data_lemmatized)  \n",
    "# Create Corpus \n",
    "texts = data_lemmatized  \n",
    "# Term Document Frequency \n",
    "corpus = [id2word.doc2bow(text) for text in texts]  \n",
    "# View \n",
    "print(corpus[:1])"
   ]
  },
  {
   "cell_type": "markdown",
   "id": "b5e4d8cd",
   "metadata": {},
   "source": [
    "### Develop LDA Topic Model "
   ]
  },
  {
   "cell_type": "code",
   "execution_count": 10,
   "id": "66b9a417",
   "metadata": {},
   "outputs": [
    {
     "name": "stderr",
     "output_type": "stream",
     "text": [
      "C:\\ProgramData\\Anaconda3\\lib\\site-packages\\ipykernel\\ipkernel.py:287: DeprecationWarning: `should_run_async` will not call `transform_cell` automatically in the future. Please pass the result to `transformed_cell` argument and any exception that happen during thetransform in `preprocessing_exc_tuple` in IPython 7.17 and above.\n",
      "  and should_run_async(code)\n"
     ]
    }
   ],
   "source": [
    "lda_model = gensim.models.ldamodel.LdaModel(corpus=corpus,\n",
    "                                           id2word=id2word,\n",
    "                                           num_topics=5, \n",
    "                                           random_state=100,\n",
    "                                           update_every=1,\n",
    "                                           chunksize=100,\n",
    "                                           passes=10,\n",
    "                                           alpha='auto',\n",
    "                                           per_word_topics=True)"
   ]
  },
  {
   "cell_type": "markdown",
   "id": "5bc74d0d",
   "metadata": {},
   "source": [
    "### View LDA topics "
   ]
  },
  {
   "cell_type": "code",
   "execution_count": 11,
   "id": "5aa7327e",
   "metadata": {},
   "outputs": [
    {
     "name": "stdout",
     "output_type": "stream",
     "text": [
      "[(0,\n",
      "  '0.089*\"image\" + 0.038*\"automate\" + 0.035*\"medical\" + 0.028*\"optical\" + '\n",
      "  '0.023*\"lung\" + 0.023*\"identification\" + 0.022*\"computer\" + '\n",
      "  '0.019*\"computerized\" + 0.017*\"analysis\" + 0.016*\"technique\"'),\n",
      " (1,\n",
      "  '0.058*\"protein\" + 0.044*\"human\" + 0.041*\"relate\" + 0.041*\"nuclear\" + '\n",
      "  '0.035*\"ubiquitous\" + 0.030*\"fragment\" + 0.016*\"vaccine\" + 0.016*\"radiation\" '\n",
      "  '+ 0.015*\"process\" + 0.015*\"peptide\"'),\n",
      " (2,\n",
      "  '0.077*\"gene\" + 0.064*\"receptor\" + 0.040*\"treatment\" + 0.040*\"herpe\" + '\n",
      "  '0.035*\"virus\" + 0.028*\"function\" + 0.026*\"composition\" + 0.025*\"disease\" + '\n",
      "  '0.022*\"induction\" + 0.017*\"base\"'),\n",
      " (3,\n",
      "  '0.060*\"cell\" + 0.055*\"new\" + 0.052*\"detection\" + 0.045*\"plant\" + '\n",
      "  '0.042*\"sequence\" + 0.039*\"identifying_centromere\" + 0.026*\"cancer\" + '\n",
      "  '0.023*\"lesion\" + 0.023*\"improve\" + 0.020*\"promoter\"'),\n",
      " (4,\n",
      "  '0.167*\"method\" + 0.083*\"system\" + 0.052*\"use\" + '\n",
      "  '0.041*\"substituted_benzylguanine\" + 0.020*\"tumor\" + 0.019*\"modulation\" + '\n",
      "  '0.015*\"expression\" + 0.014*\"generation\" + 0.013*\"hypothermia\" + '\n",
      "  '0.012*\"change\"')]\n"
     ]
    },
    {
     "name": "stderr",
     "output_type": "stream",
     "text": [
      "C:\\ProgramData\\Anaconda3\\lib\\site-packages\\ipykernel\\ipkernel.py:287: DeprecationWarning: `should_run_async` will not call `transform_cell` automatically in the future. Please pass the result to `transformed_cell` argument and any exception that happen during thetransform in `preprocessing_exc_tuple` in IPython 7.17 and above.\n",
      "  and should_run_async(code)\n"
     ]
    }
   ],
   "source": [
    "# Print the keyword of topics\n",
    "pprint(lda_model.print_topics())\n",
    "doc_lda = lda_model[corpus]"
   ]
  },
  {
   "cell_type": "markdown",
   "id": "fc8d28e4",
   "metadata": {},
   "source": [
    "### Compute model Perplexity and Coherence score. We are looking for a low perplexity score and high coherence score\n",
    "\n",
    "Perplexity:  -9.100127809875115"
   ]
  },
  {
   "cell_type": "code",
   "execution_count": 12,
   "id": "f0a1922d",
   "metadata": {},
   "outputs": [
    {
     "name": "stderr",
     "output_type": "stream",
     "text": [
      "C:\\ProgramData\\Anaconda3\\lib\\site-packages\\ipykernel\\ipkernel.py:287: DeprecationWarning: `should_run_async` will not call `transform_cell` automatically in the future. Please pass the result to `transformed_cell` argument and any exception that happen during thetransform in `preprocessing_exc_tuple` in IPython 7.17 and above.\n",
      "  and should_run_async(code)\n"
     ]
    },
    {
     "name": "stdout",
     "output_type": "stream",
     "text": [
      "\n",
      "Perplexity:  -8.141246247042863\n"
     ]
    }
   ],
   "source": [
    "# Compute Perplexity\n",
    "print('\\nPerplexity: ', lda_model.log_perplexity(corpus))  \n",
    "# a measure of how good the model is. lower the better.\n",
    "\n",
    "# # Compute Coherence Score\n",
    "# coherence_model_lda = CoherenceModel(model=lda_model, texts=data_lemmatized, dictionary=id2word, coherence='c_v')\n",
    "# coherence_lda = coherence_model_lda.get_coherence()\n",
    "# print('\\nCoherence Score: ', coherence_lda)"
   ]
  },
  {
   "cell_type": "markdown",
   "id": "8aef399d",
   "metadata": {},
   "source": [
    "### Visualize the topic model "
   ]
  },
  {
   "cell_type": "code",
   "execution_count": 13,
   "id": "e3a434a6",
   "metadata": {},
   "outputs": [
    {
     "name": "stderr",
     "output_type": "stream",
     "text": [
      "C:\\ProgramData\\Anaconda3\\lib\\site-packages\\ipykernel\\ipkernel.py:287: DeprecationWarning: `should_run_async` will not call `transform_cell` automatically in the future. Please pass the result to `transformed_cell` argument and any exception that happen during thetransform in `preprocessing_exc_tuple` in IPython 7.17 and above.\n",
      "  and should_run_async(code)\n"
     ]
    },
    {
     "data": {
      "text/html": [
       "\n",
       "<link rel=\"stylesheet\" type=\"text/css\" href=\"https://cdn.jsdelivr.net/gh/bmabey/pyLDAvis@3.3.1/pyLDAvis/js/ldavis.v1.0.0.css\">\n",
       "\n",
       "\n",
       "<div id=\"ldavis_el996429669385268801887057256\"></div>\n",
       "<script type=\"text/javascript\">\n",
       "\n",
       "var ldavis_el996429669385268801887057256_data = {\"mdsDat\": {\"x\": [0.2048273102973254, -0.01784242031699185, -0.3055783567030708, -0.17551111511278172, 0.29410458183551896], \"y\": [0.24470895845714527, -0.3336686560603388, -0.08101367196490551, 0.2886164482360226, -0.11864307866792355], \"topics\": [1, 2, 3, 4, 5], \"cluster\": [1, 1, 1, 1, 1], \"Freq\": [24.73493021035905, 23.0829469961992, 20.125982028046018, 16.88705265547759, 15.16908810991814]}, \"tinfo\": {\"Term\": [\"method\", \"system\", \"image\", \"gene\", \"receptor\", \"cell\", \"use\", \"new\", \"detection\", \"protein\", \"plant\", \"treatment\", \"sequence\", \"herpe\", \"substituted_benzylguanine\", \"human\", \"identifying_centromere\", \"virus\", \"relate\", \"nuclear\", \"automate\", \"medical\", \"ubiquitous\", \"function\", \"composition\", \"fragment\", \"optical\", \"disease\", \"cancer\", \"lesion\", \"method\", \"system\", \"use\", \"tumor\", \"expression\", \"modulation\", \"change\", \"therapy\", \"acid\", \"generation\", \"surveillance\", \"produce\", \"target\", \"synthesis\", \"active\", \"treat\", \"tomography\", \"hypothermia\", \"diabetes\", \"resin\", \"substituted_benzylguanine\", \"activity\", \"diagnosis\", \"positron_emission\", \"phase\", \"compound\", \"enhance\", \"solution\", \"reagent\", \"regulate\", \"ion_exchange\", \"catalytic\", \"industrial_process\", \"analysis\", \"gene\", \"receptor\", \"treatment\", \"herpe\", \"virus\", \"function\", \"composition\", \"disease\", \"induction\", \"application\", \"induce\", \"base\", \"opioid\", \"rapid\", \"protease\", \"specific\", \"prevention\", \"viruse\", \"inhibitor\", \"molecule\", \"combination\", \"control\", \"pruritus\", \"mouse\", \"pharmaceutical\", \"recombinant\", \"beta\", \"vector\", \"differential\", \"reconstruction\", \"genetically_engineere\", \"simplex\", \"brain_tumor\", \"cell\", \"new\", \"detection\", \"sequence\", \"plant\", \"cancer\", \"lesion\", \"improve\", \"promoter\", \"agent\", \"novel\", \"factor\", \"patient\", \"ionizing_radiation\", \"structure\", \"anti\", \"non\", \"activate\", \"blood\", \"identifying_centromere\", \"inhibition\", \"radiotherapy\", \"vaccination\", \"brain\", \"dna\", \"stimulate\", \"antimicrobial\", \"resolution\", \"feature\", \"reduction\", \"secretion\", \"mass\", \"saline\", \"radio_sensitizer\", \"image\", \"automate\", \"medical\", \"optical\", \"lung\", \"identification\", \"computerized\", \"computer\", \"technique\", \"chest\", \"insulin\", \"apparatus\", \"diagnostic\", \"nonimage\", \"viral\", \"mammogram\", \"chest_radiograph\", \"improved\", \"region\", \"nodule\", \"status\", \"bone\", \"source\", \"tissue\", \"assessment\", \"digital\", \"processing\", \"separation\", \"determination\", \"test\", \"chest_radiographs\", \"compact\", \"subtraction\", \"analysis\", \"diffractive_optic\", \"gradient_force\", \"impose\", \"matching_technique\", \"protein\", \"human\", \"relate\", \"nuclear\", \"fragment\", \"ubiquitous\", \"vaccine\", \"radiation\", \"peptide\", \"growth\", \"process\", \"production\", \"bind\", \"synthetic\", \"monitor\", \"material\", \"antibody\", \"amyloid\", \"neuronal\", \"metal\", \"mixture\", \"wound\", \"oil\", \"variant\", \"chain\", \"formation\", \"alteration\", \"type\", \"oxide\", \"crystallization\", \"cysteine\", \"boric_acid\", \"lubrication\", \"determining_sensor\"], \"Freq\": [1588.0, 787.0, 580.0, 681.0, 570.0, 463.0, 492.0, 421.0, 402.0, 340.0, 347.0, 357.0, 325.0, 353.0, 390.0, 256.0, 302.0, 313.0, 240.0, 236.0, 246.0, 228.0, 207.0, 246.0, 231.0, 172.0, 181.0, 219.0, 198.0, 176.0, 1587.5810541029339, 786.8489638293291, 491.36502981825646, 193.2986116137067, 145.82710995598927, 180.13068327515293, 117.67306586340477, 102.30122528831059, 88.16603544448297, 131.19228813755205, 117.55627107211849, 93.91601097935342, 80.54324580587779, 87.94248636377736, 76.44059254081684, 74.84078824862048, 93.87593727885007, 124.59196951844436, 72.40035905363334, 65.22249522511196, 385.42517787139633, 63.88999169919719, 55.66250245958557, 92.58804201606722, 73.9138388726542, 51.70756025409258, 49.18194574577236, 47.86852977024058, 53.960646223831084, 49.8482747773237, 76.45073018034479, 55.61466657690011, 96.71924492276045, 93.34997216741785, 680.4122719673161, 569.3178591071435, 356.3702654614054, 353.05491173017435, 312.83238204438476, 245.47706282211482, 230.5185794499968, 218.78540955381175, 191.8961555861185, 147.72248544969048, 146.97605618336456, 149.12184254205204, 111.94772681542551, 121.23364114009922, 107.75885240132025, 94.99911975918756, 88.93342602395826, 94.21886153002085, 81.33668534832944, 83.38572334556723, 67.70715691764752, 67.80998295512524, 67.81613891986143, 59.09479331292152, 64.53063378873011, 52.659684007104076, 78.25725257890261, 90.47839187257658, 54.281508764841675, 50.70196772770314, 123.7398934338949, 79.6650648517452, 113.19834360320398, 462.6672763931677, 420.66959942029274, 401.81690623904547, 324.70452470762564, 346.83052634194917, 197.73208793988778, 175.41776113532293, 175.17991528315477, 150.75883266532128, 135.86739166471918, 135.7366346464799, 125.90429319056382, 125.66061292259116, 126.07689705319399, 114.87177216631176, 107.42080643997957, 94.37472936526696, 103.66772506560032, 76.7634446660086, 298.1048482356203, 55.61570283483645, 57.96771607650768, 61.656784137583614, 40.604756903618046, 34.55026434828578, 40.72973698798192, 65.11399883760093, 38.84446623280896, 33.22276589959534, 31.416141201304338, 58.50151482593143, 46.00383691063609, 38.68579096012587, 58.663193529410435, 579.24191598584, 245.28119137123193, 227.3846169326973, 180.86227976776212, 149.328874736616, 145.75360403544238, 125.24330825499933, 139.3672981329959, 104.68081425302192, 87.35481496879703, 87.03777920099766, 76.90975670916768, 62.98047017656876, 78.63806164879125, 63.07937429117623, 61.085303354592796, 81.78536481082888, 54.923815156121506, 52.30716979741428, 51.81227543253871, 63.229885795057704, 51.47937159831771, 48.27250892709342, 47.32908244308025, 51.82371828590811, 44.345840739058836, 43.368706671700934, 36.61747442941094, 38.307966104370195, 36.89296805751493, 62.14343570172829, 76.14034841253826, 98.3702916313201, 110.93576246884433, 62.44972796862973, 62.44972796862973, 62.44972796862973, 57.957123865309505, 339.60013509531603, 255.94668847576412, 240.10477562019506, 235.99964767569043, 171.88663043450353, 206.03136452027638, 95.71358406208033, 91.31891837150829, 87.28557915141388, 86.34456523000102, 87.35894922068894, 84.6666283548974, 71.44198205525254, 59.69257346309275, 61.90448500829673, 55.05656855144208, 53.92486176914103, 56.81410881068165, 46.64005005330387, 43.342610245189775, 43.46295762963506, 43.123477546775916, 42.880343066030576, 41.40285519145191, 43.01285380857977, 40.3413449575671, 55.03834517654464, 32.8873212178494, 30.233393997328417, 31.54562050240624, 52.515098237736204, 46.15145781459743, 46.15145781459743, 42.12799116877882], \"Total\": [1588.0, 787.0, 580.0, 681.0, 570.0, 463.0, 492.0, 421.0, 402.0, 340.0, 347.0, 357.0, 325.0, 353.0, 390.0, 256.0, 302.0, 313.0, 240.0, 236.0, 246.0, 228.0, 207.0, 246.0, 231.0, 172.0, 181.0, 219.0, 198.0, 176.0, 1588.442501226718, 787.7072556311659, 492.2279837612444, 194.15595396323664, 146.68634059058456, 181.35029893351722, 118.58793950873078, 103.15632842056922, 89.01229917824274, 132.46573342116181, 118.73119823530122, 94.88781447365585, 81.40175217106855, 88.96682715640081, 77.34060502781354, 75.73259800935281, 95.00880596243171, 126.14749549916029, 73.33000946535144, 66.09509657549206, 390.5856267737392, 64.76600391776815, 56.51074764059381, 94.031591854287, 75.07327435746488, 52.55776164152549, 50.04959501773217, 48.78241032662207, 55.05890716843662, 50.9545770496611, 78.68184287055884, 56.98072107392813, 101.75912993879034, 204.97120414035535, 681.2418527080048, 570.1598907020494, 357.1853648546604, 353.88091822561614, 313.6702610800577, 246.3387148278713, 231.34516613034413, 219.60973665228198, 192.7737534995097, 148.53712791284798, 147.7917380966391, 149.95330783785155, 112.76513052754761, 122.16162648452254, 108.63385371650891, 95.82604052002678, 89.74873797276133, 95.1024885027029, 82.15097567618206, 84.23641151311038, 68.54058616464918, 68.6578999793919, 68.7432201437555, 59.91512543414629, 65.44811089373603, 53.48138828055788, 79.48896528424982, 91.93514550331388, 55.17018615929223, 51.53789625058392, 126.63062958275307, 82.06448442085704, 120.13094501513102, 463.4933301792774, 421.51683266213155, 402.66064758560253, 325.52904060627253, 347.9172215456214, 198.5542857564887, 176.2712471657943, 176.04057533986486, 151.66989782515847, 136.6955869065612, 136.58380206340186, 126.75286264969489, 126.52885173144276, 127.01184522543106, 115.7367378712648, 108.2435042778747, 95.21543428491306, 104.63903041660177, 77.60166867113178, 302.50754419764735, 56.438869524795706, 58.85681872593903, 62.87050558878022, 41.487709354179685, 35.3707175575911, 41.70343315783757, 66.71927330263746, 39.817297769689056, 34.1355574308667, 32.294422353126805, 60.25387299307372, 47.69475774853897, 41.988964603900484, 115.64819447481425, 580.1289956526782, 246.16994938467636, 228.26927898484573, 181.74642713809376, 150.21311405851907, 146.7054810771579, 126.13460338235048, 140.38047309728273, 105.58741649875047, 88.28909456083493, 88.13164346930569, 77.89953224022985, 63.89872368218511, 79.78760350582554, 64.02510132952503, 62.00755591572276, 83.02276820567785, 55.86410001825771, 53.20853745666972, 52.73057638148198, 64.35371069423226, 52.420876714519196, 49.16299995886496, 48.24201342309767, 52.82442907251306, 45.228272840178285, 44.26261209857645, 37.51057199214385, 39.2538046546576, 37.808260754456896, 63.74343310559819, 78.26445812700749, 102.28093424522942, 204.97120414035535, 86.40926595528711, 86.40926595528711, 86.40926595528711, 75.75039337318748, 340.4255528949856, 256.776508761892, 240.94811266035344, 236.89707906831362, 172.79629182612308, 207.67893226921413, 96.5528262955576, 92.15798575631575, 88.10599706302159, 87.16837549925172, 88.20233383392258, 85.49349985137906, 72.26436945163802, 60.521099067272246, 62.78993007504109, 55.87756523911436, 54.74635264909183, 57.78405547879919, 47.50613655268924, 44.16246821801717, 44.29026504808601, 43.96805877316907, 43.75181680155222, 42.26684419425114, 43.92214690462192, 41.238143948411235, 56.31011912312343, 33.713000123684026, 31.062293884141873, 32.42034859131937, 54.861196066838374, 50.67133489734412, 50.67133489734412, 74.58885659834905], \"Category\": [\"Default\", \"Default\", \"Default\", \"Default\", \"Default\", \"Default\", \"Default\", \"Default\", \"Default\", \"Default\", \"Default\", \"Default\", \"Default\", \"Default\", \"Default\", \"Default\", \"Default\", \"Default\", \"Default\", \"Default\", \"Default\", \"Default\", \"Default\", \"Default\", \"Default\", \"Default\", \"Default\", \"Default\", \"Default\", \"Default\", \"Topic1\", \"Topic1\", \"Topic1\", \"Topic1\", \"Topic1\", \"Topic1\", \"Topic1\", \"Topic1\", \"Topic1\", \"Topic1\", \"Topic1\", \"Topic1\", \"Topic1\", \"Topic1\", \"Topic1\", \"Topic1\", \"Topic1\", \"Topic1\", \"Topic1\", \"Topic1\", \"Topic1\", \"Topic1\", \"Topic1\", \"Topic1\", \"Topic1\", \"Topic1\", \"Topic1\", \"Topic1\", \"Topic1\", \"Topic1\", \"Topic1\", \"Topic1\", \"Topic1\", \"Topic1\", \"Topic2\", \"Topic2\", \"Topic2\", \"Topic2\", \"Topic2\", \"Topic2\", \"Topic2\", \"Topic2\", \"Topic2\", \"Topic2\", \"Topic2\", \"Topic2\", \"Topic2\", \"Topic2\", \"Topic2\", \"Topic2\", \"Topic2\", \"Topic2\", \"Topic2\", \"Topic2\", \"Topic2\", \"Topic2\", \"Topic2\", \"Topic2\", \"Topic2\", \"Topic2\", \"Topic2\", \"Topic2\", \"Topic2\", \"Topic2\", \"Topic2\", \"Topic2\", \"Topic2\", \"Topic3\", \"Topic3\", \"Topic3\", \"Topic3\", \"Topic3\", \"Topic3\", \"Topic3\", \"Topic3\", \"Topic3\", \"Topic3\", \"Topic3\", \"Topic3\", \"Topic3\", \"Topic3\", \"Topic3\", \"Topic3\", \"Topic3\", \"Topic3\", \"Topic3\", \"Topic3\", \"Topic3\", \"Topic3\", \"Topic3\", \"Topic3\", \"Topic3\", \"Topic3\", \"Topic3\", \"Topic3\", \"Topic3\", \"Topic3\", \"Topic3\", \"Topic3\", \"Topic3\", \"Topic3\", \"Topic4\", \"Topic4\", \"Topic4\", \"Topic4\", \"Topic4\", \"Topic4\", \"Topic4\", \"Topic4\", \"Topic4\", \"Topic4\", \"Topic4\", \"Topic4\", \"Topic4\", \"Topic4\", \"Topic4\", \"Topic4\", \"Topic4\", \"Topic4\", \"Topic4\", \"Topic4\", \"Topic4\", \"Topic4\", \"Topic4\", \"Topic4\", \"Topic4\", \"Topic4\", \"Topic4\", \"Topic4\", \"Topic4\", \"Topic4\", \"Topic4\", \"Topic4\", \"Topic4\", \"Topic4\", \"Topic4\", \"Topic4\", \"Topic4\", \"Topic4\", \"Topic5\", \"Topic5\", \"Topic5\", \"Topic5\", \"Topic5\", \"Topic5\", \"Topic5\", \"Topic5\", \"Topic5\", \"Topic5\", \"Topic5\", \"Topic5\", \"Topic5\", \"Topic5\", \"Topic5\", \"Topic5\", \"Topic5\", \"Topic5\", \"Topic5\", \"Topic5\", \"Topic5\", \"Topic5\", \"Topic5\", \"Topic5\", \"Topic5\", \"Topic5\", \"Topic5\", \"Topic5\", \"Topic5\", \"Topic5\", \"Topic5\", \"Topic5\", \"Topic5\", \"Topic5\"], \"logprob\": [30.0, 29.0, 28.0, 27.0, 26.0, 25.0, 24.0, 23.0, 22.0, 21.0, 20.0, 19.0, 18.0, 17.0, 16.0, 15.0, 14.0, 13.0, 12.0, 11.0, 10.0, 9.0, 8.0, 7.0, 6.0, 5.0, 4.0, 3.0, 2.0, 1.0, -1.7872, -2.4891, -2.96, -3.8929, -4.1747, -3.9635, -4.3892, -4.5292, -4.6779, -4.2805, -4.3902, -4.6147, -4.7683, -4.6805, -4.8206, -4.8418, -4.6152, -4.3321, -4.8749, -4.9793, -3.2028, -5.0, -5.1378, -4.629, -4.8542, -5.2115, -5.2616, -5.2887, -5.1689, -5.2482, -4.8205, -5.1387, -4.5853, -4.6208, -2.5653, -2.7436, -3.212, -3.2214, -3.3423, -3.5848, -3.6477, -3.6999, -3.8311, -4.0927, -4.0977, -4.0833, -4.37, -4.2903, -4.4081, -4.5341, -4.6001, -4.5424, -4.6894, -4.6645, -4.8728, -4.8713, -4.8712, -5.0089, -4.9209, -5.1242, -4.728, -4.5829, -5.0938, -5.1621, -4.2698, -4.7102, -4.3589, -2.8139, -2.9091, -2.9549, -3.168, -3.1021, -3.664, -3.7838, -3.7851, -3.9353, -4.0393, -4.0402, -4.1154, -4.1173, -4.114, -4.2071, -4.2742, -4.4037, -4.3097, -4.6102, -3.2535, -4.9325, -4.891, -4.8294, -5.247, -5.4085, -5.244, -4.7748, -5.2914, -5.4477, -5.5036, -4.8819, -5.1222, -5.2955, -4.8791, -2.4137, -3.2731, -3.3488, -3.5777, -3.7693, -3.7936, -3.9452, -3.8384, -4.1246, -4.3055, -4.3091, -4.4328, -4.6326, -4.4106, -4.6311, -4.6632, -4.3714, -4.7695, -4.8183, -4.8278, -4.6287, -4.8343, -4.8986, -4.9183, -4.8276, -4.9835, -5.0057, -5.1749, -5.1298, -5.1674, -4.646, -4.4429, -4.1867, -4.0665, -4.6411, -4.6411, -4.6411, -4.7158, -2.8404, -3.1232, -3.1871, -3.2044, -3.5213, -3.3402, -4.1068, -4.1538, -4.199, -4.2098, -4.1982, -4.2295, -4.3993, -4.579, -4.5426, -4.6598, -4.6806, -4.6284, -4.8257, -4.899, -4.8963, -4.9041, -4.9098, -4.9448, -4.9067, -4.9708, -4.6602, -5.1751, -5.2592, -5.2167, -4.7071, -4.8363, -4.8363, -4.9275], \"loglift\": [30.0, 29.0, 28.0, 27.0, 26.0, 25.0, 24.0, 23.0, 22.0, 21.0, 20.0, 19.0, 18.0, 17.0, 16.0, 15.0, 14.0, 13.0, 12.0, 11.0, 10.0, 9.0, 8.0, 7.0, 6.0, 5.0, 4.0, 3.0, 2.0, 1.0, 1.3964, 1.3959, 1.3952, 1.3925, 1.3911, 1.3902, 1.3892, 1.3886, 1.3874, 1.3873, 1.387, 1.3867, 1.3864, 1.3854, 1.3852, 1.3851, 1.385, 1.3845, 1.3842, 1.3837, 1.3837, 1.3833, 1.3818, 1.3815, 1.3814, 1.3806, 1.3795, 1.378, 1.3768, 1.375, 1.3682, 1.3727, 1.3462, 0.6104, 1.4649, 1.4646, 1.4638, 1.4637, 1.4634, 1.4626, 1.4625, 1.4623, 1.4615, 1.4606, 1.4605, 1.4605, 1.4588, 1.4585, 1.458, 1.4574, 1.457, 1.4567, 1.4561, 1.4559, 1.4538, 1.4536, 1.4525, 1.4523, 1.452, 1.4506, 1.4505, 1.4501, 1.4498, 1.4497, 1.443, 1.4364, 1.4066, 1.6014, 1.6011, 1.6011, 1.6006, 1.6, 1.599, 1.5983, 1.5983, 1.5971, 1.5971, 1.5969, 1.5964, 1.5963, 1.5958, 1.5957, 1.5955, 1.5943, 1.5938, 1.5923, 1.5885, 1.5885, 1.5879, 1.5837, 1.5816, 1.5797, 1.5795, 1.5788, 1.5784, 1.5761, 1.5756, 1.5736, 1.5671, 1.5212, 0.9244, 1.7771, 1.775, 1.7747, 1.7737, 1.7727, 1.7721, 1.7715, 1.7714, 1.77, 1.768, 1.7661, 1.7658, 1.7641, 1.7641, 1.7637, 1.7636, 1.7636, 1.7616, 1.7615, 1.7611, 1.761, 1.7605, 1.7603, 1.7595, 1.7595, 1.7589, 1.7582, 1.7545, 1.7542, 1.7541, 1.7532, 1.7511, 1.7396, 1.1647, 1.4539, 1.4539, 1.4539, 1.5109, 1.8835, 1.8827, 1.8824, 1.8821, 1.8806, 1.8779, 1.8772, 1.8768, 1.8766, 1.8764, 1.8763, 1.8762, 1.8745, 1.8721, 1.8717, 1.8711, 1.8708, 1.869, 1.8675, 1.8672, 1.8671, 1.8665, 1.8658, 1.8653, 1.865, 1.8639, 1.8631, 1.8611, 1.8589, 1.8586, 1.8422, 1.7925, 1.7925, 1.3146]}, \"token.table\": {\"Topic\": [1, 3, 1, 1, 3, 5, 5, 1, 4, 3, 5, 3, 4, 2, 4, 4, 2, 2, 5, 3, 4, 1, 2, 3, 4, 5, 3, 1, 2, 3, 4, 5, 3, 1, 3, 5, 1, 4, 1, 4, 1, 4, 2, 1, 3, 4, 2, 1, 4, 4, 2, 5, 1, 2, 3, 5, 3, 4, 1, 2, 3, 4, 5, 1, 1, 4, 2, 1, 2, 3, 4, 5, 4, 2, 3, 1, 1, 3, 3, 5, 5, 2, 2, 1, 1, 2, 3, 5, 1, 2, 3, 4, 5, 5, 2, 5, 1, 2, 4, 1, 2, 3, 4, 5, 4, 1, 2, 3, 4, 5, 3, 4, 2, 2, 1, 4, 5, 3, 2, 4, 1, 2, 3, 3, 1, 2, 3, 4, 5, 4, 4, 1, 3, 1, 2, 3, 4, 5, 5, 4, 5, 1, 5, 1, 2, 5, 2, 5, 3, 4, 3, 4, 3, 5, 5, 2, 4, 5, 3, 5, 2, 1, 3, 1, 3, 2, 5, 4, 1, 5, 3, 2, 5, 2, 5, 1, 2, 3, 4, 5, 3, 2, 1, 2, 2, 2, 3, 4, 1, 5, 1, 3, 1, 3, 4, 3, 5, 4, 3, 1, 2, 3, 1, 4, 2, 4, 3, 3, 1, 2, 3, 4, 5, 1, 2, 3, 4, 1, 1, 5, 1, 1, 4, 4, 1, 4, 1, 1, 2, 1, 5, 2, 5, 1, 3, 5, 5, 2, 5, 4, 2, 2, 5], \"Freq\": [0.9886274235404743, 0.9938930013585028, 0.9826662200621339, 0.9881727469438948, 0.9949114165109318, 0.976733859854588, 0.9864312832960148, 0.4537222698673207, 0.541539483390028, 0.9885119732018055, 0.9863670799427363, 0.974231234581365, 0.9884526618535291, 0.9963838811185097, 0.9843930339241083, 0.9952473915374287, 0.9936426354870251, 0.9812682769372412, 0.9825035565766034, 0.992246704466091, 0.9728948311517718, 0.019735023796509727, 0.019735023796509727, 0.019735023796509727, 0.019735023796509727, 0.9078110946394475, 0.9882444858544461, 0.016648499682975867, 0.9406402320881364, 0.016648499682975867, 0.008324249841487934, 0.008324249841487934, 0.9972083918794455, 0.9827885457494347, 0.9989356261521896, 0.9790049674342107, 0.9950421643957521, 0.9853991643334084, 0.01204488866864368, 0.9876808708287819, 0.01568789052110493, 0.9726492123085055, 0.9921129042673988, 0.012777191894399895, 0.012777191894399895, 0.9710665839743919, 0.9985080037066794, 0.9893876446769224, 0.9901662028427125, 0.9910048206287123, 0.9904177089659111, 0.9870344209860866, 0.018227819874391402, 0.018227819874391402, 0.018227819874391402, 0.9660744533427443, 0.9983592943845796, 0.9680590285275995, 0.16088194064454406, 0.013406828387045338, 0.013406828387045338, 0.24132291096681607, 0.5630867922559042, 0.9818626852082998, 0.9909619380043926, 0.9859351857064452, 0.978789519471376, 0.08100983063115226, 0.08100983063115226, 0.0694369976838448, 0.7175156427330629, 0.04629133178922986, 0.97284280908717, 0.9972235445405255, 0.9895190829253748, 0.979028900886005, 0.9953210327026959, 0.9940603893753819, 0.9667338834830369, 0.969975759579283, 0.9953917308195227, 0.9945655524394258, 0.9981770751414225, 0.9889349993896032, 0.007896983559941163, 0.9792259614327041, 0.007896983559941163, 0.007896983559941163, 0.08100983063115226, 0.08100983063115226, 0.0694369976838448, 0.7175156427330629, 0.04629133178922986, 0.9865963373464296, 0.9975106930601595, 0.9969759353546939, 0.9909035411712321, 0.007927228329369857, 0.9951911743720954, 0.003305702681406969, 0.006611405362813938, 0.9850993990592767, 0.003305702681406969, 0.003305702681406969, 0.9980538885986762, 0.08100983063115226, 0.08100983063115226, 0.0694369976838448, 0.7175156427330629, 0.04629133178922986, 0.9940890028457592, 0.984532105270195, 0.9946428798602978, 0.9959862092973581, 0.9532314206926393, 0.009827128048377725, 0.029481384145133176, 0.9922239844899287, 0.9859895069205398, 0.9871596236634369, 0.9659153526059272, 0.012709412534288516, 0.9920334577957264, 0.9927881195246856, 0.019735023796509727, 0.019735023796509727, 0.019735023796509727, 0.019735023796509727, 0.9078110946394475, 0.9919240469374301, 0.9837510783832187, 0.020966664832900488, 0.9644665823134224, 0.07920750946388819, 0.026402503154629393, 0.10561001261851757, 0.7656725914842525, 0.013201251577314697, 0.9842948554512166, 0.9944395540631203, 0.9736774626753558, 0.9997214244605164, 0.9708679763671504, 0.992554195160096, 0.9853221250656202, 0.9874194783447435, 0.9847263036250817, 0.989345870040855, 0.9987738742036292, 0.9861451091261246, 0.9872349026810494, 0.9901287484368666, 0.9957256859555655, 0.9962132117802308, 0.9828163295489583, 0.993214830471369, 0.9958930299217017, 0.965801177205261, 0.9958203071931353, 0.9874469718306408, 0.993153188264462, 0.9857036426524513, 0.9973636788039792, 0.9890293056413894, 0.01063472371657408, 0.9916573983136279, 0.9863684578212355, 0.9714745235603243, 0.9906435354362352, 0.9942276330687485, 0.9955831853600198, 0.9941652284732252, 0.99874993844802, 0.989188458989828, 0.9874347757623773, 0.3718173050195306, 0.06052839849155149, 0.5101679301430768, 0.025940742210664926, 0.034587656280886565, 0.9854423201170841, 0.9904910689391507, 0.9807677408998111, 0.997965674680095, 0.9909989569075401, 0.9895630926033806, 0.9599180830989077, 0.9772867754981259, 0.9812661176888829, 0.9960650753812298, 0.983431500485951, 0.9794738012002606, 0.04763156269431359, 0.9288154725391149, 0.023815781347156794, 0.9791901676890072, 0.016596443520152666, 0.9863885842036537, 0.9983748282325681, 0.012185539299456632, 0.9748431439565306, 0.012185539299456632, 0.9839612204197487, 0.9763439993523981, 0.9913797907589207, 0.9789645277695915, 0.9831324880334134, 0.9936343646380955, 0.9856993540190487, 0.005120516124774279, 0.005120516124774279, 0.0025602580623871394, 0.0025602580623871394, 0.009776993213636412, 0.009776993213636412, 0.019553986427272824, 0.9581453349363682, 0.993841566107569, 0.9891327229788563, 0.991389795041676, 0.9991021339131894, 0.9950645758800836, 0.9944366808259067, 0.9786221122493286, 0.9887905236811564, 0.9742545276416053, 0.9893819741000576, 0.9903265168684383, 0.9966813733951762, 0.994046260546532, 0.9788508847901931, 0.004815124909751079, 0.9919157314087221, 0.9975052540656851, 0.9861539909592271, 0.9942743644410228, 0.9700274714518797, 0.978950971440578, 0.010877233016006422, 0.9839890713448617, 0.9978631666331714, 0.98840736430707, 0.9779826810602834], \"Term\": [\"acid\", \"activate\", \"active\", \"activity\", \"agent\", \"alteration\", \"amyloid\", \"analysis\", \"analysis\", \"anti\", \"antibody\", \"antimicrobial\", \"apparatus\", \"application\", \"assessment\", \"automate\", \"base\", \"beta\", \"bind\", \"blood\", \"bone\", \"boric_acid\", \"boric_acid\", \"boric_acid\", \"boric_acid\", \"boric_acid\", \"brain\", \"brain_tumor\", \"brain_tumor\", \"brain_tumor\", \"brain_tumor\", \"brain_tumor\", \"cancer\", \"catalytic\", \"cell\", \"chain\", \"change\", \"chest\", \"chest_radiograph\", \"chest_radiograph\", \"chest_radiographs\", \"chest_radiographs\", \"combination\", \"compact\", \"compact\", \"compact\", \"composition\", \"compound\", \"computer\", \"computerized\", \"control\", \"crystallization\", \"cysteine\", \"cysteine\", \"cysteine\", \"cysteine\", \"detection\", \"determination\", \"determining_sensor\", \"determining_sensor\", \"determining_sensor\", \"determining_sensor\", \"determining_sensor\", \"diabetes\", \"diagnosis\", \"diagnostic\", \"differential\", \"diffractive_optic\", \"diffractive_optic\", \"diffractive_optic\", \"diffractive_optic\", \"diffractive_optic\", \"digital\", \"disease\", \"dna\", \"enhance\", \"expression\", \"factor\", \"feature\", \"formation\", \"fragment\", \"function\", \"gene\", \"generation\", \"genetically_engineere\", \"genetically_engineere\", \"genetically_engineere\", \"genetically_engineere\", \"gradient_force\", \"gradient_force\", \"gradient_force\", \"gradient_force\", \"gradient_force\", \"growth\", \"herpe\", \"human\", \"hypothermia\", \"hypothermia\", \"identification\", \"identifying_centromere\", \"identifying_centromere\", \"identifying_centromere\", \"identifying_centromere\", \"identifying_centromere\", \"image\", \"impose\", \"impose\", \"impose\", \"impose\", \"impose\", \"improve\", \"improved\", \"induce\", \"induction\", \"industrial_process\", \"industrial_process\", \"industrial_process\", \"inhibition\", \"inhibitor\", \"insulin\", \"ion_exchange\", \"ion_exchange\", \"ionizing_radiation\", \"lesion\", \"lubrication\", \"lubrication\", \"lubrication\", \"lubrication\", \"lubrication\", \"lung\", \"mammogram\", \"mass\", \"mass\", \"matching_technique\", \"matching_technique\", \"matching_technique\", \"matching_technique\", \"matching_technique\", \"material\", \"medical\", \"metal\", \"method\", \"mixture\", \"modulation\", \"molecule\", \"monitor\", \"mouse\", \"neuronal\", \"new\", \"nodule\", \"non\", \"nonimage\", \"novel\", \"nuclear\", \"oil\", \"opioid\", \"optical\", \"oxide\", \"patient\", \"peptide\", \"pharmaceutical\", \"phase\", \"plant\", \"positron_emission\", \"positron_emission\", \"prevention\", \"process\", \"processing\", \"produce\", \"production\", \"promoter\", \"protease\", \"protein\", \"pruritus\", \"radiation\", \"radio_sensitizer\", \"radio_sensitizer\", \"radio_sensitizer\", \"radio_sensitizer\", \"radio_sensitizer\", \"radiotherapy\", \"rapid\", \"reagent\", \"receptor\", \"recombinant\", \"reconstruction\", \"reduction\", \"region\", \"regulate\", \"relate\", \"resin\", \"resolution\", \"saline\", \"saline\", \"saline\", \"secretion\", \"secretion\", \"separation\", \"sequence\", \"simplex\", \"simplex\", \"simplex\", \"solution\", \"source\", \"specific\", \"status\", \"stimulate\", \"structure\", \"substituted_benzylguanine\", \"substituted_benzylguanine\", \"substituted_benzylguanine\", \"substituted_benzylguanine\", \"substituted_benzylguanine\", \"subtraction\", \"subtraction\", \"subtraction\", \"subtraction\", \"surveillance\", \"synthesis\", \"synthetic\", \"system\", \"target\", \"technique\", \"test\", \"therapy\", \"tissue\", \"tomography\", \"treat\", \"treatment\", \"tumor\", \"type\", \"ubiquitous\", \"ubiquitous\", \"use\", \"vaccination\", \"vaccine\", \"variant\", \"vector\", \"vector\", \"viral\", \"virus\", \"viruse\", \"wound\"]}, \"R\": 30, \"lambda.step\": 0.01, \"plot.opts\": {\"xlab\": \"PC1\", \"ylab\": \"PC2\"}, \"topic.order\": [5, 3, 4, 1, 2]};\n",
       "\n",
       "function LDAvis_load_lib(url, callback){\n",
       "  var s = document.createElement('script');\n",
       "  s.src = url;\n",
       "  s.async = true;\n",
       "  s.onreadystatechange = s.onload = callback;\n",
       "  s.onerror = function(){console.warn(\"failed to load library \" + url);};\n",
       "  document.getElementsByTagName(\"head\")[0].appendChild(s);\n",
       "}\n",
       "\n",
       "if(typeof(LDAvis) !== \"undefined\"){\n",
       "   // already loaded: just create the visualization\n",
       "   !function(LDAvis){\n",
       "       new LDAvis(\"#\" + \"ldavis_el996429669385268801887057256\", ldavis_el996429669385268801887057256_data);\n",
       "   }(LDAvis);\n",
       "}else if(typeof define === \"function\" && define.amd){\n",
       "   // require.js is available: use it to load d3/LDAvis\n",
       "   require.config({paths: {d3: \"https://d3js.org/d3.v5\"}});\n",
       "   require([\"d3\"], function(d3){\n",
       "      window.d3 = d3;\n",
       "      LDAvis_load_lib(\"https://cdn.jsdelivr.net/gh/bmabey/pyLDAvis@3.3.1/pyLDAvis/js/ldavis.v3.0.0.js\", function(){\n",
       "        new LDAvis(\"#\" + \"ldavis_el996429669385268801887057256\", ldavis_el996429669385268801887057256_data);\n",
       "      });\n",
       "    });\n",
       "}else{\n",
       "    // require.js not available: dynamically load d3 & LDAvis\n",
       "    LDAvis_load_lib(\"https://d3js.org/d3.v5.js\", function(){\n",
       "         LDAvis_load_lib(\"https://cdn.jsdelivr.net/gh/bmabey/pyLDAvis@3.3.1/pyLDAvis/js/ldavis.v3.0.0.js\", function(){\n",
       "                 new LDAvis(\"#\" + \"ldavis_el996429669385268801887057256\", ldavis_el996429669385268801887057256_data);\n",
       "            })\n",
       "         });\n",
       "}\n",
       "</script>"
      ],
      "text/plain": [
       "PreparedData(topic_coordinates=              x         y  topics  cluster       Freq\n",
       "topic                                                \n",
       "4      0.204827  0.244709       1        1  24.734930\n",
       "2     -0.017842 -0.333669       2        1  23.082947\n",
       "3     -0.305578 -0.081014       3        1  20.125982\n",
       "0     -0.175511  0.288616       4        1  16.887053\n",
       "1      0.294105 -0.118643       5        1  15.169088, topic_info=                    Term         Freq        Total Category  logprob  loglift\n",
       "28                method  1588.000000  1588.000000  Default  30.0000  30.0000\n",
       "30                system   787.000000   787.000000  Default  29.0000  29.0000\n",
       "39                 image   580.000000   580.000000  Default  28.0000  28.0000\n",
       "131                 gene   681.000000   681.000000  Default  27.0000  27.0000\n",
       "83              receptor   570.000000   570.000000  Default  26.0000  26.0000\n",
       "...                  ...          ...          ...      ...      ...      ...\n",
       "561      crystallization    31.545621    32.420349   Topic5  -5.2167   1.8586\n",
       "1159            cysteine    52.515098    54.861196   Topic5  -4.7071   1.8422\n",
       "3504          boric_acid    46.151458    50.671335   Topic5  -4.8363   1.7925\n",
       "3506         lubrication    46.151458    50.671335   Topic5  -4.8363   1.7925\n",
       "3568  determining_sensor    42.127991    74.588857   Topic5  -4.9275   1.3146\n",
       "\n",
       "[203 rows x 6 columns], token_table=      Topic      Freq      Term\n",
       "term                           \n",
       "625       1  0.988627      acid\n",
       "921       3  0.993893  activate\n",
       "1302      1  0.982666    active\n",
       "630       1  0.988173  activity\n",
       "50        3  0.994911     agent\n",
       "...     ...       ...       ...\n",
       "138       5  0.010877    vector\n",
       "156       4  0.983989     viral\n",
       "108       2  0.997863     virus\n",
       "492       2  0.988407    viruse\n",
       "1659      5  0.977983     wound\n",
       "\n",
       "[243 rows x 3 columns], R=30, lambda_step=0.01, plot_opts={'xlab': 'PC1', 'ylab': 'PC2'}, topic_order=[5, 3, 4, 1, 2])"
      ]
     },
     "execution_count": 13,
     "metadata": {},
     "output_type": "execute_result"
    }
   ],
   "source": [
    "# Visualize the topics\n",
    "import pyLDAvis.gensim_models as gensimvis\n",
    "pyLDAvis.enable_notebook()\n",
    "vis = gensimvis.prepare(lda_model, corpus, id2word, mds='mmds')\n",
    "vis"
   ]
  },
  {
   "cell_type": "code",
   "execution_count": null,
   "id": "9813cdd8",
   "metadata": {},
   "outputs": [],
   "source": []
  }
 ],
 "metadata": {
  "kernelspec": {
   "display_name": "Python 3",
   "language": "python",
   "name": "python3"
  },
  "language_info": {
   "codemirror_mode": {
    "name": "ipython",
    "version": 3
   },
   "file_extension": ".py",
   "mimetype": "text/x-python",
   "name": "python",
   "nbconvert_exporter": "python",
   "pygments_lexer": "ipython3",
   "version": "3.8.8"
  }
 },
 "nbformat": 4,
 "nbformat_minor": 5
}
